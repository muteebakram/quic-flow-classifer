{
  "cells": [
    {
      "cell_type": "code",
      "execution_count": null,
      "metadata": {
        "id": "9XmY6w-hbYkW"
      },
      "outputs": [],
      "source": [
        "import numpy as np\n",
        "import pandas as pd\n",
        "import seaborn as sns\n",
        "import matplotlib.pyplot as plt\n",
        "from numpy import mean, std\n",
        "from sklearn.model_selection import train_test_split\n",
        "from sklearn.metrics import f1_score\n",
        "from sklearn.metrics import recall_score\n",
        "from sklearn.metrics import precision_score\n"
      ]
    },
    {
      "cell_type": "markdown",
      "metadata": {},
      "source": [
        "READ DATASET\n"
      ]
    },
    {
      "cell_type": "code",
      "execution_count": null,
      "metadata": {
        "colab": {
          "base_uri": "https://localhost:8080/",
          "height": 423
        },
        "id": "sCdj7ZsFcCiK",
        "outputId": "bf6d471e-b825-40e9-e32e-7b5c289f590e"
      },
      "outputs": [
        {
          "data": {
            "text/html": [
              "\n",
              "  <div id=\"df-a9351121-dfb5-4caa-9e48-a80e70b7aecf\">\n",
              "    <div class=\"colab-df-container\">\n",
              "      <div>\n",
              "<style scoped>\n",
              "    .dataframe tbody tr th:only-of-type {\n",
              "        vertical-align: middle;\n",
              "    }\n",
              "\n",
              "    .dataframe tbody tr th {\n",
              "        vertical-align: top;\n",
              "    }\n",
              "\n",
              "    .dataframe thead th {\n",
              "        text-align: right;\n",
              "    }\n",
              "</style>\n",
              "<table border=\"1\" class=\"dataframe\">\n",
              "  <thead>\n",
              "    <tr style=\"text-align: right;\">\n",
              "      <th></th>\n",
              "      <th>Address A</th>\n",
              "      <th>Port A</th>\n",
              "      <th>Address B</th>\n",
              "      <th>Port B</th>\n",
              "      <th>Packets</th>\n",
              "      <th>Bytes</th>\n",
              "      <th>Packets A → B</th>\n",
              "      <th>Bytes A → B</th>\n",
              "      <th>Packets B → A</th>\n",
              "      <th>Bytes B → A</th>\n",
              "      <th>Rel Start</th>\n",
              "      <th>Duration</th>\n",
              "      <th>Bits/s A → B</th>\n",
              "      <th>Bits/s B → A</th>\n",
              "      <th>Target</th>\n",
              "    </tr>\n",
              "  </thead>\n",
              "  <tbody>\n",
              "    <tr>\n",
              "      <th>0</th>\n",
              "      <td>192.168.1.7</td>\n",
              "      <td>51566.0</td>\n",
              "      <td>142.250.196.163</td>\n",
              "      <td>443.0</td>\n",
              "      <td>18.0</td>\n",
              "      <td>6757.0</td>\n",
              "      <td>9.0</td>\n",
              "      <td>2450.0</td>\n",
              "      <td>9.0</td>\n",
              "      <td>4307.0</td>\n",
              "      <td>2.356758</td>\n",
              "      <td>0.229653</td>\n",
              "      <td>85346.152670</td>\n",
              "      <td>150035.052900</td>\n",
              "      <td>1.0</td>\n",
              "    </tr>\n",
              "    <tr>\n",
              "      <th>1</th>\n",
              "      <td>192.168.1.7</td>\n",
              "      <td>62638.0</td>\n",
              "      <td>142.250.182.34</td>\n",
              "      <td>443.0</td>\n",
              "      <td>25.0</td>\n",
              "      <td>8291.0</td>\n",
              "      <td>12.0</td>\n",
              "      <td>2997.0</td>\n",
              "      <td>13.0</td>\n",
              "      <td>5294.0</td>\n",
              "      <td>2.403463</td>\n",
              "      <td>0.418188</td>\n",
              "      <td>57333.065510</td>\n",
              "      <td>101275.024600</td>\n",
              "      <td>1.0</td>\n",
              "    </tr>\n",
              "    <tr>\n",
              "      <th>2</th>\n",
              "      <td>192.168.1.7</td>\n",
              "      <td>58974.0</td>\n",
              "      <td>142.250.196.163</td>\n",
              "      <td>443.0</td>\n",
              "      <td>12.0</td>\n",
              "      <td>6947.0</td>\n",
              "      <td>6.0</td>\n",
              "      <td>3427.0</td>\n",
              "      <td>6.0</td>\n",
              "      <td>3520.0</td>\n",
              "      <td>3.402209</td>\n",
              "      <td>0.144535</td>\n",
              "      <td>189684.159500</td>\n",
              "      <td>194831.701700</td>\n",
              "      <td>1.0</td>\n",
              "    </tr>\n",
              "    <tr>\n",
              "      <th>3</th>\n",
              "      <td>192.168.1.7</td>\n",
              "      <td>63841.0</td>\n",
              "      <td>142.250.195.228</td>\n",
              "      <td>443.0</td>\n",
              "      <td>10.0</td>\n",
              "      <td>5110.0</td>\n",
              "      <td>5.0</td>\n",
              "      <td>1676.0</td>\n",
              "      <td>5.0</td>\n",
              "      <td>3434.0</td>\n",
              "      <td>14.951815</td>\n",
              "      <td>0.128230</td>\n",
              "      <td>104562.114900</td>\n",
              "      <td>214240.037400</td>\n",
              "      <td>1.0</td>\n",
              "    </tr>\n",
              "    <tr>\n",
              "      <th>4</th>\n",
              "      <td>192.168.1.7</td>\n",
              "      <td>54024.0</td>\n",
              "      <td>142.250.195.228</td>\n",
              "      <td>443.0</td>\n",
              "      <td>10.0</td>\n",
              "      <td>5108.0</td>\n",
              "      <td>5.0</td>\n",
              "      <td>1674.0</td>\n",
              "      <td>5.0</td>\n",
              "      <td>3434.0</td>\n",
              "      <td>14.958695</td>\n",
              "      <td>0.142619</td>\n",
              "      <td>93900.532190</td>\n",
              "      <td>192625.106100</td>\n",
              "      <td>1.0</td>\n",
              "    </tr>\n",
              "    <tr>\n",
              "      <th>...</th>\n",
              "      <td>...</td>\n",
              "      <td>...</td>\n",
              "      <td>...</td>\n",
              "      <td>...</td>\n",
              "      <td>...</td>\n",
              "      <td>...</td>\n",
              "      <td>...</td>\n",
              "      <td>...</td>\n",
              "      <td>...</td>\n",
              "      <td>...</td>\n",
              "      <td>...</td>\n",
              "      <td>...</td>\n",
              "      <td>...</td>\n",
              "      <td>...</td>\n",
              "      <td>...</td>\n",
              "    </tr>\n",
              "    <tr>\n",
              "      <th>281</th>\n",
              "      <td>192.168.0.103</td>\n",
              "      <td>53021.0</td>\n",
              "      <td>35.201.126.82</td>\n",
              "      <td>443.0</td>\n",
              "      <td>52.0</td>\n",
              "      <td>34319.0</td>\n",
              "      <td>31.0</td>\n",
              "      <td>28930.0</td>\n",
              "      <td>21.0</td>\n",
              "      <td>5389.0</td>\n",
              "      <td>314.312008</td>\n",
              "      <td>1.072764</td>\n",
              "      <td>215741.766100</td>\n",
              "      <td>40187.776620</td>\n",
              "      <td>1.0</td>\n",
              "    </tr>\n",
              "    <tr>\n",
              "      <th>282</th>\n",
              "      <td>192.168.0.103</td>\n",
              "      <td>58380.0</td>\n",
              "      <td>35.166.148.67</td>\n",
              "      <td>443.0</td>\n",
              "      <td>19.0</td>\n",
              "      <td>7125.0</td>\n",
              "      <td>9.0</td>\n",
              "      <td>1142.0</td>\n",
              "      <td>10.0</td>\n",
              "      <td>5983.0</td>\n",
              "      <td>250.632339</td>\n",
              "      <td>63.019763</td>\n",
              "      <td>144.970396</td>\n",
              "      <td>759.507775</td>\n",
              "      <td>0.0</td>\n",
              "    </tr>\n",
              "    <tr>\n",
              "      <th>283</th>\n",
              "      <td>192.168.0.103</td>\n",
              "      <td>59293.0</td>\n",
              "      <td>35.201.126.82</td>\n",
              "      <td>443.0</td>\n",
              "      <td>118.0</td>\n",
              "      <td>85533.0</td>\n",
              "      <td>80.0</td>\n",
              "      <td>77915.0</td>\n",
              "      <td>38.0</td>\n",
              "      <td>7618.0</td>\n",
              "      <td>249.395920</td>\n",
              "      <td>0.639645</td>\n",
              "      <td>974478.030800</td>\n",
              "      <td>95277.849430</td>\n",
              "      <td>1.0</td>\n",
              "    </tr>\n",
              "    <tr>\n",
              "      <th>284</th>\n",
              "      <td>192.168.0.103</td>\n",
              "      <td>58370.0</td>\n",
              "      <td>142.250.183.182</td>\n",
              "      <td>443.0</td>\n",
              "      <td>19.0</td>\n",
              "      <td>7013.0</td>\n",
              "      <td>9.0</td>\n",
              "      <td>1080.0</td>\n",
              "      <td>10.0</td>\n",
              "      <td>5933.0</td>\n",
              "      <td>247.534513</td>\n",
              "      <td>65.868246</td>\n",
              "      <td>131.170944</td>\n",
              "      <td>720.590009</td>\n",
              "      <td>0.0</td>\n",
              "    </tr>\n",
              "    <tr>\n",
              "      <th>285</th>\n",
              "      <td>192.168.0.103</td>\n",
              "      <td>58373.0</td>\n",
              "      <td>172.217.166.163</td>\n",
              "      <td>443.0</td>\n",
              "      <td>17.0</td>\n",
              "      <td>5861.0</td>\n",
              "      <td>8.0</td>\n",
              "      <td>1025.0</td>\n",
              "      <td>9.0</td>\n",
              "      <td>4836.0</td>\n",
              "      <td>249.202162</td>\n",
              "      <td>10.838333</td>\n",
              "      <td>756.573912</td>\n",
              "      <td>3569.552624</td>\n",
              "      <td>0.0</td>\n",
              "    </tr>\n",
              "  </tbody>\n",
              "</table>\n",
              "<p>7567 rows × 15 columns</p>\n",
              "</div>\n",
              "      <button class=\"colab-df-convert\" onclick=\"convertToInteractive('df-a9351121-dfb5-4caa-9e48-a80e70b7aecf')\"\n",
              "              title=\"Convert this dataframe to an interactive table.\"\n",
              "              style=\"display:none;\">\n",
              "        \n",
              "  <svg xmlns=\"http://www.w3.org/2000/svg\" height=\"24px\"viewBox=\"0 0 24 24\"\n",
              "       width=\"24px\">\n",
              "    <path d=\"M0 0h24v24H0V0z\" fill=\"none\"/>\n",
              "    <path d=\"M18.56 5.44l.94 2.06.94-2.06 2.06-.94-2.06-.94-.94-2.06-.94 2.06-2.06.94zm-11 1L8.5 8.5l.94-2.06 2.06-.94-2.06-.94L8.5 2.5l-.94 2.06-2.06.94zm10 10l.94 2.06.94-2.06 2.06-.94-2.06-.94-.94-2.06-.94 2.06-2.06.94z\"/><path d=\"M17.41 7.96l-1.37-1.37c-.4-.4-.92-.59-1.43-.59-.52 0-1.04.2-1.43.59L10.3 9.45l-7.72 7.72c-.78.78-.78 2.05 0 2.83L4 21.41c.39.39.9.59 1.41.59.51 0 1.02-.2 1.41-.59l7.78-7.78 2.81-2.81c.8-.78.8-2.07 0-2.86zM5.41 20L4 18.59l7.72-7.72 1.47 1.35L5.41 20z\"/>\n",
              "  </svg>\n",
              "      </button>\n",
              "      \n",
              "  <style>\n",
              "    .colab-df-container {\n",
              "      display:flex;\n",
              "      flex-wrap:wrap;\n",
              "      gap: 12px;\n",
              "    }\n",
              "\n",
              "    .colab-df-convert {\n",
              "      background-color: #E8F0FE;\n",
              "      border: none;\n",
              "      border-radius: 50%;\n",
              "      cursor: pointer;\n",
              "      display: none;\n",
              "      fill: #1967D2;\n",
              "      height: 32px;\n",
              "      padding: 0 0 0 0;\n",
              "      width: 32px;\n",
              "    }\n",
              "\n",
              "    .colab-df-convert:hover {\n",
              "      background-color: #E2EBFA;\n",
              "      box-shadow: 0px 1px 2px rgba(60, 64, 67, 0.3), 0px 1px 3px 1px rgba(60, 64, 67, 0.15);\n",
              "      fill: #174EA6;\n",
              "    }\n",
              "\n",
              "    [theme=dark] .colab-df-convert {\n",
              "      background-color: #3B4455;\n",
              "      fill: #D2E3FC;\n",
              "    }\n",
              "\n",
              "    [theme=dark] .colab-df-convert:hover {\n",
              "      background-color: #434B5C;\n",
              "      box-shadow: 0px 1px 3px 1px rgba(0, 0, 0, 0.15);\n",
              "      filter: drop-shadow(0px 1px 2px rgba(0, 0, 0, 0.3));\n",
              "      fill: #FFFFFF;\n",
              "    }\n",
              "  </style>\n",
              "\n",
              "      <script>\n",
              "        const buttonEl =\n",
              "          document.querySelector('#df-a9351121-dfb5-4caa-9e48-a80e70b7aecf button.colab-df-convert');\n",
              "        buttonEl.style.display =\n",
              "          google.colab.kernel.accessAllowed ? 'block' : 'none';\n",
              "\n",
              "        async function convertToInteractive(key) {\n",
              "          const element = document.querySelector('#df-a9351121-dfb5-4caa-9e48-a80e70b7aecf');\n",
              "          const dataTable =\n",
              "            await google.colab.kernel.invokeFunction('convertToInteractive',\n",
              "                                                     [key], {});\n",
              "          if (!dataTable) return;\n",
              "\n",
              "          const docLinkHtml = 'Like what you see? Visit the ' +\n",
              "            '<a target=\"_blank\" href=https://colab.research.google.com/notebooks/data_table.ipynb>data table notebook</a>'\n",
              "            + ' to learn more about interactive tables.';\n",
              "          element.innerHTML = '';\n",
              "          dataTable['output_type'] = 'display_data';\n",
              "          await google.colab.output.renderOutput(dataTable, element);\n",
              "          const docLink = document.createElement('div');\n",
              "          docLink.innerHTML = docLinkHtml;\n",
              "          element.appendChild(docLink);\n",
              "        }\n",
              "      </script>\n",
              "    </div>\n",
              "  </div>\n",
              "  "
            ],
            "text/plain": [
              "         Address A   Port A  ...   Bits/s B → A  Target\n",
              "0      192.168.1.7  51566.0  ...  150035.052900     1.0\n",
              "1      192.168.1.7  62638.0  ...  101275.024600     1.0\n",
              "2      192.168.1.7  58974.0  ...  194831.701700     1.0\n",
              "3      192.168.1.7  63841.0  ...  214240.037400     1.0\n",
              "4      192.168.1.7  54024.0  ...  192625.106100     1.0\n",
              "..             ...      ...  ...            ...     ...\n",
              "281  192.168.0.103  53021.0  ...   40187.776620     1.0\n",
              "282  192.168.0.103  58380.0  ...     759.507775     0.0\n",
              "283  192.168.0.103  59293.0  ...   95277.849430     1.0\n",
              "284  192.168.0.103  58370.0  ...     720.590009     0.0\n",
              "285  192.168.0.103  58373.0  ...    3569.552624     0.0\n",
              "\n",
              "[7567 rows x 15 columns]"
            ]
          },
          "execution_count": 116,
          "metadata": {},
          "output_type": "execute_result"
        }
      ],
      "source": [
        "df = pd.concat([df1, df2, df3, df4])\n",
        "df\n"
      ]
    },
    {
      "cell_type": "markdown",
      "metadata": {},
      "source": [
        "Data Pre-processing\n"
      ]
    },
    {
      "cell_type": "code",
      "execution_count": null,
      "metadata": {
        "colab": {
          "base_uri": "https://localhost:8080/",
          "height": 398
        },
        "id": "91dawZkNcKg8",
        "outputId": "a1c98266-13a9-445d-ce51-9d2e3873b5aa"
      },
      "outputs": [
        {
          "name": "stdout",
          "output_type": "stream",
          "text": [
            "(5585, 13)\n",
            "(5585, 13)\n"
          ]
        },
        {
          "data": {
            "text/html": [
              "\n",
              "  <div id=\"df-bf415544-c444-4e5a-83a7-10c08274e7c5\">\n",
              "    <div class=\"colab-df-container\">\n",
              "      <div>\n",
              "<style scoped>\n",
              "    .dataframe tbody tr th:only-of-type {\n",
              "        vertical-align: middle;\n",
              "    }\n",
              "\n",
              "    .dataframe tbody tr th {\n",
              "        vertical-align: top;\n",
              "    }\n",
              "\n",
              "    .dataframe thead th {\n",
              "        text-align: right;\n",
              "    }\n",
              "</style>\n",
              "<table border=\"1\" class=\"dataframe\">\n",
              "  <thead>\n",
              "    <tr style=\"text-align: right;\">\n",
              "      <th></th>\n",
              "      <th>Port A</th>\n",
              "      <th>Port B</th>\n",
              "      <th>Packets</th>\n",
              "      <th>Bytes</th>\n",
              "      <th>Packets A ? B</th>\n",
              "      <th>Bytes A ? B</th>\n",
              "      <th>Packets B ? A</th>\n",
              "      <th>Bytes B ? A</th>\n",
              "      <th>Rel Start</th>\n",
              "      <th>Duration</th>\n",
              "      <th>Bits/s A ? B</th>\n",
              "      <th>Bits/s B ? A</th>\n",
              "      <th>Target</th>\n",
              "    </tr>\n",
              "  </thead>\n",
              "  <tbody>\n",
              "    <tr>\n",
              "      <th>0</th>\n",
              "      <td>57699</td>\n",
              "      <td>443</td>\n",
              "      <td>34</td>\n",
              "      <td>9320</td>\n",
              "      <td>16</td>\n",
              "      <td>3896</td>\n",
              "      <td>18</td>\n",
              "      <td>5424</td>\n",
              "      <td>1127.754471</td>\n",
              "      <td>301.280479</td>\n",
              "      <td>103.451774</td>\n",
              "      <td>144.025262</td>\n",
              "      <td>0</td>\n",
              "    </tr>\n",
              "    <tr>\n",
              "      <th>1</th>\n",
              "      <td>55270</td>\n",
              "      <td>443</td>\n",
              "      <td>92</td>\n",
              "      <td>45186</td>\n",
              "      <td>41</td>\n",
              "      <td>13271</td>\n",
              "      <td>51</td>\n",
              "      <td>31915</td>\n",
              "      <td>1156.207728</td>\n",
              "      <td>13.162032</td>\n",
              "      <td>8066.231719</td>\n",
              "      <td>19398.220580</td>\n",
              "      <td>1</td>\n",
              "    </tr>\n",
              "    <tr>\n",
              "      <th>2</th>\n",
              "      <td>63234</td>\n",
              "      <td>443</td>\n",
              "      <td>9</td>\n",
              "      <td>4758</td>\n",
              "      <td>4</td>\n",
              "      <td>2217</td>\n",
              "      <td>5</td>\n",
              "      <td>2541</td>\n",
              "      <td>180.238231</td>\n",
              "      <td>0.273681</td>\n",
              "      <td>64805.375600</td>\n",
              "      <td>74276.255930</td>\n",
              "      <td>1</td>\n",
              "    </tr>\n",
              "    <tr>\n",
              "      <th>3</th>\n",
              "      <td>65505</td>\n",
              "      <td>80</td>\n",
              "      <td>15</td>\n",
              "      <td>5610</td>\n",
              "      <td>8</td>\n",
              "      <td>657</td>\n",
              "      <td>7</td>\n",
              "      <td>4953</td>\n",
              "      <td>708.929037</td>\n",
              "      <td>60.436953</td>\n",
              "      <td>86.966661</td>\n",
              "      <td>655.625375</td>\n",
              "      <td>0</td>\n",
              "    </tr>\n",
              "    <tr>\n",
              "      <th>4</th>\n",
              "      <td>56266</td>\n",
              "      <td>443</td>\n",
              "      <td>17</td>\n",
              "      <td>6458</td>\n",
              "      <td>8</td>\n",
              "      <td>2333</td>\n",
              "      <td>9</td>\n",
              "      <td>4125</td>\n",
              "      <td>2044.865534</td>\n",
              "      <td>0.103956</td>\n",
              "      <td>179537.496600</td>\n",
              "      <td>317441.994700</td>\n",
              "      <td>1</td>\n",
              "    </tr>\n",
              "    <tr>\n",
              "      <th>5</th>\n",
              "      <td>58953</td>\n",
              "      <td>443</td>\n",
              "      <td>23</td>\n",
              "      <td>12472</td>\n",
              "      <td>10</td>\n",
              "      <td>4443</td>\n",
              "      <td>13</td>\n",
              "      <td>8029</td>\n",
              "      <td>878.073362</td>\n",
              "      <td>8.479487</td>\n",
              "      <td>4191.763016</td>\n",
              "      <td>7574.986553</td>\n",
              "      <td>1</td>\n",
              "    </tr>\n",
              "    <tr>\n",
              "      <th>6</th>\n",
              "      <td>64784</td>\n",
              "      <td>443</td>\n",
              "      <td>21</td>\n",
              "      <td>6118</td>\n",
              "      <td>12</td>\n",
              "      <td>1633</td>\n",
              "      <td>9</td>\n",
              "      <td>4485</td>\n",
              "      <td>1298.045791</td>\n",
              "      <td>0.391380</td>\n",
              "      <td>33379.324440</td>\n",
              "      <td>91675.609380</td>\n",
              "      <td>0</td>\n",
              "    </tr>\n",
              "    <tr>\n",
              "      <th>7</th>\n",
              "      <td>64711</td>\n",
              "      <td>443</td>\n",
              "      <td>27</td>\n",
              "      <td>13000</td>\n",
              "      <td>12</td>\n",
              "      <td>1546</td>\n",
              "      <td>15</td>\n",
              "      <td>11454</td>\n",
              "      <td>54.257522</td>\n",
              "      <td>2.107396</td>\n",
              "      <td>5868.854264</td>\n",
              "      <td>43481.149250</td>\n",
              "      <td>0</td>\n",
              "    </tr>\n",
              "    <tr>\n",
              "      <th>8</th>\n",
              "      <td>63671</td>\n",
              "      <td>443</td>\n",
              "      <td>371</td>\n",
              "      <td>41233</td>\n",
              "      <td>187</td>\n",
              "      <td>20496</td>\n",
              "      <td>184</td>\n",
              "      <td>20737</td>\n",
              "      <td>78.902945</td>\n",
              "      <td>245.983593</td>\n",
              "      <td>666.581043</td>\n",
              "      <td>674.418964</td>\n",
              "      <td>1</td>\n",
              "    </tr>\n",
              "    <tr>\n",
              "      <th>9</th>\n",
              "      <td>57620</td>\n",
              "      <td>443</td>\n",
              "      <td>71</td>\n",
              "      <td>38133</td>\n",
              "      <td>34</td>\n",
              "      <td>21150</td>\n",
              "      <td>37</td>\n",
              "      <td>16983</td>\n",
              "      <td>1054.769799</td>\n",
              "      <td>134.286861</td>\n",
              "      <td>1259.989240</td>\n",
              "      <td>1011.744552</td>\n",
              "      <td>0</td>\n",
              "    </tr>\n",
              "  </tbody>\n",
              "</table>\n",
              "</div>\n",
              "      <button class=\"colab-df-convert\" onclick=\"convertToInteractive('df-bf415544-c444-4e5a-83a7-10c08274e7c5')\"\n",
              "              title=\"Convert this dataframe to an interactive table.\"\n",
              "              style=\"display:none;\">\n",
              "        \n",
              "  <svg xmlns=\"http://www.w3.org/2000/svg\" height=\"24px\"viewBox=\"0 0 24 24\"\n",
              "       width=\"24px\">\n",
              "    <path d=\"M0 0h24v24H0V0z\" fill=\"none\"/>\n",
              "    <path d=\"M18.56 5.44l.94 2.06.94-2.06 2.06-.94-2.06-.94-.94-2.06-.94 2.06-2.06.94zm-11 1L8.5 8.5l.94-2.06 2.06-.94-2.06-.94L8.5 2.5l-.94 2.06-2.06.94zm10 10l.94 2.06.94-2.06 2.06-.94-2.06-.94-.94-2.06-.94 2.06-2.06.94z\"/><path d=\"M17.41 7.96l-1.37-1.37c-.4-.4-.92-.59-1.43-.59-.52 0-1.04.2-1.43.59L10.3 9.45l-7.72 7.72c-.78.78-.78 2.05 0 2.83L4 21.41c.39.39.9.59 1.41.59.51 0 1.02-.2 1.41-.59l7.78-7.78 2.81-2.81c.8-.78.8-2.07 0-2.86zM5.41 20L4 18.59l7.72-7.72 1.47 1.35L5.41 20z\"/>\n",
              "  </svg>\n",
              "      </button>\n",
              "      \n",
              "  <style>\n",
              "    .colab-df-container {\n",
              "      display:flex;\n",
              "      flex-wrap:wrap;\n",
              "      gap: 12px;\n",
              "    }\n",
              "\n",
              "    .colab-df-convert {\n",
              "      background-color: #E8F0FE;\n",
              "      border: none;\n",
              "      border-radius: 50%;\n",
              "      cursor: pointer;\n",
              "      display: none;\n",
              "      fill: #1967D2;\n",
              "      height: 32px;\n",
              "      padding: 0 0 0 0;\n",
              "      width: 32px;\n",
              "    }\n",
              "\n",
              "    .colab-df-convert:hover {\n",
              "      background-color: #E2EBFA;\n",
              "      box-shadow: 0px 1px 2px rgba(60, 64, 67, 0.3), 0px 1px 3px 1px rgba(60, 64, 67, 0.15);\n",
              "      fill: #174EA6;\n",
              "    }\n",
              "\n",
              "    [theme=dark] .colab-df-convert {\n",
              "      background-color: #3B4455;\n",
              "      fill: #D2E3FC;\n",
              "    }\n",
              "\n",
              "    [theme=dark] .colab-df-convert:hover {\n",
              "      background-color: #434B5C;\n",
              "      box-shadow: 0px 1px 3px 1px rgba(0, 0, 0, 0.15);\n",
              "      filter: drop-shadow(0px 1px 2px rgba(0, 0, 0, 0.3));\n",
              "      fill: #FFFFFF;\n",
              "    }\n",
              "  </style>\n",
              "\n",
              "      <script>\n",
              "        const buttonEl =\n",
              "          document.querySelector('#df-bf415544-c444-4e5a-83a7-10c08274e7c5 button.colab-df-convert');\n",
              "        buttonEl.style.display =\n",
              "          google.colab.kernel.accessAllowed ? 'block' : 'none';\n",
              "\n",
              "        async function convertToInteractive(key) {\n",
              "          const element = document.querySelector('#df-bf415544-c444-4e5a-83a7-10c08274e7c5');\n",
              "          const dataTable =\n",
              "            await google.colab.kernel.invokeFunction('convertToInteractive',\n",
              "                                                     [key], {});\n",
              "          if (!dataTable) return;\n",
              "\n",
              "          const docLinkHtml = 'Like what you see? Visit the ' +\n",
              "            '<a target=\"_blank\" href=https://colab.research.google.com/notebooks/data_table.ipynb>data table notebook</a>'\n",
              "            + ' to learn more about interactive tables.';\n",
              "          element.innerHTML = '';\n",
              "          dataTable['output_type'] = 'display_data';\n",
              "          await google.colab.output.renderOutput(dataTable, element);\n",
              "          const docLink = document.createElement('div');\n",
              "          docLink.innerHTML = docLinkHtml;\n",
              "          element.appendChild(docLink);\n",
              "        }\n",
              "      </script>\n",
              "    </div>\n",
              "  </div>\n",
              "  "
            ],
            "text/plain": [
              "   Port A  Port B  Packets  Bytes  Packets A ? B  Bytes A ? B  Packets B ? A  \\\n",
              "0   57699     443       34   9320             16         3896             18   \n",
              "1   55270     443       92  45186             41        13271             51   \n",
              "2   63234     443        9   4758              4         2217              5   \n",
              "3   65505      80       15   5610              8          657              7   \n",
              "4   56266     443       17   6458              8         2333              9   \n",
              "5   58953     443       23  12472             10         4443             13   \n",
              "6   64784     443       21   6118             12         1633              9   \n",
              "7   64711     443       27  13000             12         1546             15   \n",
              "8   63671     443      371  41233            187        20496            184   \n",
              "9   57620     443       71  38133             34        21150             37   \n",
              "\n",
              "   Bytes B ? A    Rel Start    Duration   Bits/s A ? B   Bits/s B ? A  Target  \n",
              "0         5424  1127.754471  301.280479     103.451774     144.025262       0  \n",
              "1        31915  1156.207728   13.162032    8066.231719   19398.220580       1  \n",
              "2         2541   180.238231    0.273681   64805.375600   74276.255930       1  \n",
              "3         4953   708.929037   60.436953      86.966661     655.625375       0  \n",
              "4         4125  2044.865534    0.103956  179537.496600  317441.994700       1  \n",
              "5         8029   878.073362    8.479487    4191.763016    7574.986553       1  \n",
              "6         4485  1298.045791    0.391380   33379.324440   91675.609380       0  \n",
              "7        11454    54.257522    2.107396    5868.854264   43481.149250       0  \n",
              "8        20737    78.902945  245.983593     666.581043     674.418964       1  \n",
              "9        16983  1054.769799  134.286861    1259.989240    1011.744552       0  "
            ]
          },
          "execution_count": 4,
          "metadata": {},
          "output_type": "execute_result"
        }
      ],
      "source": [
        "df.drop(\n",
        "    [\n",
        "        \"Address A\",\n",
        "        \"Address B\",\n",
        "    ],\n",
        "    axis=1,\n",
        "    inplace=True,\n",
        ")\n",
        "print(df.shape)\n",
        "df.dropna(inplace=True)\n",
        "print(df.shape)\n",
        "df = df.sample(frac=1).reset_index(drop=True)\n",
        "df.to_csv(\"/content/drive/MyDrive/Datasets/combined_flow.csv\")\n",
        "df.head(10)\n"
      ]
    },
    {
      "cell_type": "markdown",
      "metadata": {},
      "source": [
        "Data Sepecfications\n"
      ]
    },
    {
      "cell_type": "code",
      "execution_count": null,
      "metadata": {
        "colab": {
          "base_uri": "https://localhost:8080/",
          "height": 419
        },
        "id": "JXPHHlCtcyqt",
        "outputId": "5e139a6f-b54c-4dc0-90e3-d74f5a98a787"
      },
      "outputs": [
        {
          "name": "stdout",
          "output_type": "stream",
          "text": [
            "Total packets: 5585\n",
            "0    2991\n",
            "1    2594\n",
            "Name: Target, dtype: int64\n"
          ]
        },
        {
          "name": "stderr",
          "output_type": "stream",
          "text": [
            "/usr/local/lib/python3.7/dist-packages/seaborn/_decorators.py:43: FutureWarning: Pass the following variable as a keyword arg: x. From version 0.12, the only valid positional argument will be `data`, and passing other arguments without an explicit keyword will result in an error or misinterpretation.\n",
            "  FutureWarning\n"
          ]
        },
        {
          "data": {
            "image/png": "[encoded data removed]",
            "text/plain": [
              "<Figure size 432x288 with 1 Axes>"
            ]
          },
          "metadata": {
            "needs_background": "light"
          },
          "output_type": "display_data"
        }
      ],
      "source": [
        "packet_protocol = df[\"Target\"]\n",
        "packet_protocol = [\"QUIC\" if x else \"Non-QUIC\" for x in packet_protocol]\n",
        "\n",
        "print(\"Total packets: {0}\".format(len(packet_protocol)))\n",
        "print(df[\"Target\"].value_counts())\n",
        "\n",
        "chart = sns.countplot(packet_protocol)\n",
        "plt.title(\"Dataset QUIC packet count\")\n",
        "plt.xlabel(\"Type of packet\")\n",
        "plt.ylabel(\"Count\")\n",
        "plt.show()\n"
      ]
    },
    {
      "cell_type": "code",
      "execution_count": null,
      "metadata": {
        "colab": {
          "base_uri": "https://localhost:8080/",
          "height": 423
        },
        "id": "hk0sEoR0c76R",
        "outputId": "3c3cb3c9-974a-4909-85ad-58abd821179b"
      },
      "outputs": [
        {
          "data": {
            "text/html": [
              "\n",
              "  <div id=\"df-0bf50e36-5f35-4304-a21a-9b6b4f83ac36\">\n",
              "    <div class=\"colab-df-container\">\n",
              "      <div>\n",
              "<style scoped>\n",
              "    .dataframe tbody tr th:only-of-type {\n",
              "        vertical-align: middle;\n",
              "    }\n",
              "\n",
              "    .dataframe tbody tr th {\n",
              "        vertical-align: top;\n",
              "    }\n",
              "\n",
              "    .dataframe thead th {\n",
              "        text-align: right;\n",
              "    }\n",
              "</style>\n",
              "<table border=\"1\" class=\"dataframe\">\n",
              "  <thead>\n",
              "    <tr style=\"text-align: right;\">\n",
              "      <th></th>\n",
              "      <th>Port A</th>\n",
              "      <th>Port B</th>\n",
              "      <th>Packets</th>\n",
              "      <th>Bytes</th>\n",
              "      <th>Packets A ? B</th>\n",
              "      <th>Bytes A ? B</th>\n",
              "      <th>Packets B ? A</th>\n",
              "      <th>Bytes B ? A</th>\n",
              "      <th>Rel Start</th>\n",
              "      <th>Duration</th>\n",
              "      <th>Bits/s A ? B</th>\n",
              "      <th>Bits/s B ? A</th>\n",
              "    </tr>\n",
              "  </thead>\n",
              "  <tbody>\n",
              "    <tr>\n",
              "      <th>0</th>\n",
              "      <td>57699</td>\n",
              "      <td>443</td>\n",
              "      <td>34</td>\n",
              "      <td>9320</td>\n",
              "      <td>16</td>\n",
              "      <td>3896</td>\n",
              "      <td>18</td>\n",
              "      <td>5424</td>\n",
              "      <td>1127.754471</td>\n",
              "      <td>301.280479</td>\n",
              "      <td>103.451774</td>\n",
              "      <td>1.440253e+02</td>\n",
              "    </tr>\n",
              "    <tr>\n",
              "      <th>1</th>\n",
              "      <td>55270</td>\n",
              "      <td>443</td>\n",
              "      <td>92</td>\n",
              "      <td>45186</td>\n",
              "      <td>41</td>\n",
              "      <td>13271</td>\n",
              "      <td>51</td>\n",
              "      <td>31915</td>\n",
              "      <td>1156.207728</td>\n",
              "      <td>13.162032</td>\n",
              "      <td>8066.231719</td>\n",
              "      <td>1.939822e+04</td>\n",
              "    </tr>\n",
              "    <tr>\n",
              "      <th>2</th>\n",
              "      <td>63234</td>\n",
              "      <td>443</td>\n",
              "      <td>9</td>\n",
              "      <td>4758</td>\n",
              "      <td>4</td>\n",
              "      <td>2217</td>\n",
              "      <td>5</td>\n",
              "      <td>2541</td>\n",
              "      <td>180.238231</td>\n",
              "      <td>0.273681</td>\n",
              "      <td>64805.375600</td>\n",
              "      <td>7.427626e+04</td>\n",
              "    </tr>\n",
              "    <tr>\n",
              "      <th>3</th>\n",
              "      <td>65505</td>\n",
              "      <td>80</td>\n",
              "      <td>15</td>\n",
              "      <td>5610</td>\n",
              "      <td>8</td>\n",
              "      <td>657</td>\n",
              "      <td>7</td>\n",
              "      <td>4953</td>\n",
              "      <td>708.929037</td>\n",
              "      <td>60.436953</td>\n",
              "      <td>86.966661</td>\n",
              "      <td>6.556254e+02</td>\n",
              "    </tr>\n",
              "    <tr>\n",
              "      <th>4</th>\n",
              "      <td>56266</td>\n",
              "      <td>443</td>\n",
              "      <td>17</td>\n",
              "      <td>6458</td>\n",
              "      <td>8</td>\n",
              "      <td>2333</td>\n",
              "      <td>9</td>\n",
              "      <td>4125</td>\n",
              "      <td>2044.865534</td>\n",
              "      <td>0.103956</td>\n",
              "      <td>179537.496600</td>\n",
              "      <td>3.174420e+05</td>\n",
              "    </tr>\n",
              "    <tr>\n",
              "      <th>...</th>\n",
              "      <td>...</td>\n",
              "      <td>...</td>\n",
              "      <td>...</td>\n",
              "      <td>...</td>\n",
              "      <td>...</td>\n",
              "      <td>...</td>\n",
              "      <td>...</td>\n",
              "      <td>...</td>\n",
              "      <td>...</td>\n",
              "      <td>...</td>\n",
              "      <td>...</td>\n",
              "      <td>...</td>\n",
              "    </tr>\n",
              "    <tr>\n",
              "      <th>5580</th>\n",
              "      <td>54034</td>\n",
              "      <td>443</td>\n",
              "      <td>17</td>\n",
              "      <td>6343</td>\n",
              "      <td>8</td>\n",
              "      <td>2374</td>\n",
              "      <td>9</td>\n",
              "      <td>3969</td>\n",
              "      <td>170.027695</td>\n",
              "      <td>0.255373</td>\n",
              "      <td>74369.647540</td>\n",
              "      <td>1.243358e+05</td>\n",
              "    </tr>\n",
              "    <tr>\n",
              "      <th>5581</th>\n",
              "      <td>63889</td>\n",
              "      <td>443</td>\n",
              "      <td>65</td>\n",
              "      <td>24714</td>\n",
              "      <td>32</td>\n",
              "      <td>11510</td>\n",
              "      <td>33</td>\n",
              "      <td>13204</td>\n",
              "      <td>3089.523746</td>\n",
              "      <td>11.297833</td>\n",
              "      <td>8150.235536</td>\n",
              "      <td>9.349758e+03</td>\n",
              "    </tr>\n",
              "    <tr>\n",
              "      <th>5582</th>\n",
              "      <td>52716</td>\n",
              "      <td>443</td>\n",
              "      <td>138</td>\n",
              "      <td>106107</td>\n",
              "      <td>50</td>\n",
              "      <td>11209</td>\n",
              "      <td>88</td>\n",
              "      <td>94898</td>\n",
              "      <td>2968.816944</td>\n",
              "      <td>2.532614</td>\n",
              "      <td>35406.895800</td>\n",
              "      <td>2.997630e+05</td>\n",
              "    </tr>\n",
              "    <tr>\n",
              "      <th>5583</th>\n",
              "      <td>64433</td>\n",
              "      <td>443</td>\n",
              "      <td>21</td>\n",
              "      <td>2811</td>\n",
              "      <td>11</td>\n",
              "      <td>1656</td>\n",
              "      <td>10</td>\n",
              "      <td>1155</td>\n",
              "      <td>1106.259755</td>\n",
              "      <td>1.757228</td>\n",
              "      <td>7539.146884</td>\n",
              "      <td>5.258282e+03</td>\n",
              "    </tr>\n",
              "    <tr>\n",
              "      <th>5584</th>\n",
              "      <td>63100</td>\n",
              "      <td>443</td>\n",
              "      <td>20</td>\n",
              "      <td>7285</td>\n",
              "      <td>8</td>\n",
              "      <td>1749</td>\n",
              "      <td>12</td>\n",
              "      <td>5536</td>\n",
              "      <td>1945.589967</td>\n",
              "      <td>0.018809</td>\n",
              "      <td>743899.197200</td>\n",
              "      <td>2.354617e+06</td>\n",
              "    </tr>\n",
              "  </tbody>\n",
              "</table>\n",
              "<p>5585 rows × 12 columns</p>\n",
              "</div>\n",
              "      <button class=\"colab-df-convert\" onclick=\"convertToInteractive('df-0bf50e36-5f35-4304-a21a-9b6b4f83ac36')\"\n",
              "              title=\"Convert this dataframe to an interactive table.\"\n",
              "              style=\"display:none;\">\n",
              "        \n",
              "  <svg xmlns=\"http://www.w3.org/2000/svg\" height=\"24px\"viewBox=\"0 0 24 24\"\n",
              "       width=\"24px\">\n",
              "    <path d=\"M0 0h24v24H0V0z\" fill=\"none\"/>\n",
              "    <path d=\"M18.56 5.44l.94 2.06.94-2.06 2.06-.94-2.06-.94-.94-2.06-.94 2.06-2.06.94zm-11 1L8.5 8.5l.94-2.06 2.06-.94-2.06-.94L8.5 2.5l-.94 2.06-2.06.94zm10 10l.94 2.06.94-2.06 2.06-.94-2.06-.94-.94-2.06-.94 2.06-2.06.94z\"/><path d=\"M17.41 7.96l-1.37-1.37c-.4-.4-.92-.59-1.43-.59-.52 0-1.04.2-1.43.59L10.3 9.45l-7.72 7.72c-.78.78-.78 2.05 0 2.83L4 21.41c.39.39.9.59 1.41.59.51 0 1.02-.2 1.41-.59l7.78-7.78 2.81-2.81c.8-.78.8-2.07 0-2.86zM5.41 20L4 18.59l7.72-7.72 1.47 1.35L5.41 20z\"/>\n",
              "  </svg>\n",
              "      </button>\n",
              "      \n",
              "  <style>\n",
              "    .colab-df-container {\n",
              "      display:flex;\n",
              "      flex-wrap:wrap;\n",
              "      gap: 12px;\n",
              "    }\n",
              "\n",
              "    .colab-df-convert {\n",
              "      background-color: #E8F0FE;\n",
              "      border: none;\n",
              "      border-radius: 50%;\n",
              "      cursor: pointer;\n",
              "      display: none;\n",
              "      fill: #1967D2;\n",
              "      height: 32px;\n",
              "      padding: 0 0 0 0;\n",
              "      width: 32px;\n",
              "    }\n",
              "\n",
              "    .colab-df-convert:hover {\n",
              "      background-color: #E2EBFA;\n",
              "      box-shadow: 0px 1px 2px rgba(60, 64, 67, 0.3), 0px 1px 3px 1px rgba(60, 64, 67, 0.15);\n",
              "      fill: #174EA6;\n",
              "    }\n",
              "\n",
              "    [theme=dark] .colab-df-convert {\n",
              "      background-color: #3B4455;\n",
              "      fill: #D2E3FC;\n",
              "    }\n",
              "\n",
              "    [theme=dark] .colab-df-convert:hover {\n",
              "      background-color: #434B5C;\n",
              "      box-shadow: 0px 1px 3px 1px rgba(0, 0, 0, 0.15);\n",
              "      filter: drop-shadow(0px 1px 2px rgba(0, 0, 0, 0.3));\n",
              "      fill: #FFFFFF;\n",
              "    }\n",
              "  </style>\n",
              "\n",
              "      <script>\n",
              "        const buttonEl =\n",
              "          document.querySelector('#df-0bf50e36-5f35-4304-a21a-9b6b4f83ac36 button.colab-df-convert');\n",
              "        buttonEl.style.display =\n",
              "          google.colab.kernel.accessAllowed ? 'block' : 'none';\n",
              "\n",
              "        async function convertToInteractive(key) {\n",
              "          const element = document.querySelector('#df-0bf50e36-5f35-4304-a21a-9b6b4f83ac36');\n",
              "          const dataTable =\n",
              "            await google.colab.kernel.invokeFunction('convertToInteractive',\n",
              "                                                     [key], {});\n",
              "          if (!dataTable) return;\n",
              "\n",
              "          const docLinkHtml = 'Like what you see? Visit the ' +\n",
              "            '<a target=\"_blank\" href=https://colab.research.google.com/notebooks/data_table.ipynb>data table notebook</a>'\n",
              "            + ' to learn more about interactive tables.';\n",
              "          element.innerHTML = '';\n",
              "          dataTable['output_type'] = 'display_data';\n",
              "          await google.colab.output.renderOutput(dataTable, element);\n",
              "          const docLink = document.createElement('div');\n",
              "          docLink.innerHTML = docLinkHtml;\n",
              "          element.appendChild(docLink);\n",
              "        }\n",
              "      </script>\n",
              "    </div>\n",
              "  </div>\n",
              "  "
            ],
            "text/plain": [
              "      Port A  Port B  Packets   Bytes  Packets A ? B  Bytes A ? B  \\\n",
              "0      57699     443       34    9320             16         3896   \n",
              "1      55270     443       92   45186             41        13271   \n",
              "2      63234     443        9    4758              4         2217   \n",
              "3      65505      80       15    5610              8          657   \n",
              "4      56266     443       17    6458              8         2333   \n",
              "...      ...     ...      ...     ...            ...          ...   \n",
              "5580   54034     443       17    6343              8         2374   \n",
              "5581   63889     443       65   24714             32        11510   \n",
              "5582   52716     443      138  106107             50        11209   \n",
              "5583   64433     443       21    2811             11         1656   \n",
              "5584   63100     443       20    7285              8         1749   \n",
              "\n",
              "      Packets B ? A  Bytes B ? A    Rel Start    Duration   Bits/s A ? B  \\\n",
              "0                18         5424  1127.754471  301.280479     103.451774   \n",
              "1                51        31915  1156.207728   13.162032    8066.231719   \n",
              "2                 5         2541   180.238231    0.273681   64805.375600   \n",
              "3                 7         4953   708.929037   60.436953      86.966661   \n",
              "4                 9         4125  2044.865534    0.103956  179537.496600   \n",
              "...             ...          ...          ...         ...            ...   \n",
              "5580              9         3969   170.027695    0.255373   74369.647540   \n",
              "5581             33        13204  3089.523746   11.297833    8150.235536   \n",
              "5582             88        94898  2968.816944    2.532614   35406.895800   \n",
              "5583             10         1155  1106.259755    1.757228    7539.146884   \n",
              "5584             12         5536  1945.589967    0.018809  743899.197200   \n",
              "\n",
              "      Bits/s B ? A  \n",
              "0     1.440253e+02  \n",
              "1     1.939822e+04  \n",
              "2     7.427626e+04  \n",
              "3     6.556254e+02  \n",
              "4     3.174420e+05  \n",
              "...            ...  \n",
              "5580  1.243358e+05  \n",
              "5581  9.349758e+03  \n",
              "5582  2.997630e+05  \n",
              "5583  5.258282e+03  \n",
              "5584  2.354617e+06  \n",
              "\n",
              "[5585 rows x 12 columns]"
            ]
          },
          "execution_count": 6,
          "metadata": {},
          "output_type": "execute_result"
        }
      ],
      "source": [
        "targets = list(df[\"Target\"].values)\n",
        "df.drop(df.columns[len(df.columns) - 1], axis=1, inplace=True)\n",
        "df\n"
      ]
    },
    {
      "cell_type": "code",
      "execution_count": null,
      "metadata": {
        "id": "n6R-wJ6XdEWB"
      },
      "outputs": [],
      "source": [
        "from sklearn.model_selection import KFold\n",
        "from sklearn.datasets import make_classification\n",
        "\n",
        "X_train, X_test, Y_train, Y_test = train_test_split(\n",
        "    df, targets, test_size=0.30, random_state=7, shuffle=True\n",
        ")\n",
        "\n",
        "X, Y = make_classification(\n",
        "    n_samples=100, n_features=12, n_informative=12, n_redundant=0, random_state=7\n",
        ")\n",
        "cv = KFold(n_splits=4, random_state=7, shuffle=True)\n",
        "metrics = {}\n",
        "metrics1 = {}\n"
      ]
    },
    {
      "cell_type": "code",
      "execution_count": null,
      "metadata": {
        "colab": {
          "base_uri": "https://localhost:8080/"
        },
        "id": "H1F8Ou-edJPK",
        "outputId": "91178cca-74e2-4e32-a04a-0323c0624278"
      },
      "outputs": [
        {
          "name": "stdout",
          "output_type": "stream",
          "text": [
            "Size of test: 1676, 1676\n",
            "Size of train: 3909, 3909\n"
          ]
        }
      ],
      "source": [
        "print(\"Size of test: {0}, {1}\".format(len(X_test), len(Y_test)))\n",
        "print(\"Size of train: {0}, {1}\".format(len(X_train), len(Y_train)))\n"
      ]
    },
    {
      "cell_type": "markdown",
      "metadata": {
        "id": "8pxOKEu2dvKR"
      },
      "source": [
        "LOGISTIC REGRESSION\n"
      ]
    },
    {
      "cell_type": "code",
      "execution_count": null,
      "metadata": {
        "colab": {
          "base_uri": "https://localhost:8080/"
        },
        "id": "qli3Dffiduvc",
        "outputId": "a247915e-c3a4-41ad-f56c-557192e9227f"
      },
      "outputs": [
        {
          "name": "stdout",
          "output_type": "stream",
          "text": [
            "              precision    recall  f1-score   support\n",
            "\n",
            "           0       0.73      0.91      0.81       898\n",
            "           1       0.86      0.62      0.72       778\n",
            "\n",
            "    accuracy                           0.78      1676\n",
            "   macro avg       0.80      0.77      0.77      1676\n",
            "weighted avg       0.79      0.78      0.77      1676\n",
            "\n",
            "Accuracy: 77.68496420047732%\n",
            "f1-score: 72.00598802395209%\n",
            "Accuracy: 61.82519280205655%\n",
            "Precision: 86.20071684587813%\n"
          ]
        },
        {
          "name": "stderr",
          "output_type": "stream",
          "text": [
            "/usr/local/lib/python3.7/dist-packages/sklearn/linear_model/_logistic.py:818: ConvergenceWarning: lbfgs failed to converge (status=1):\n",
            "STOP: TOTAL NO. of ITERATIONS REACHED LIMIT.\n",
            "\n",
            "Increase the number of iterations (max_iter) or scale the data as shown in:\n",
            "    https://scikit-learn.org/stable/modules/preprocessing.html\n",
            "Please also refer to the documentation for alternative solver options:\n",
            "    https://scikit-learn.org/stable/modules/linear_model.html#logistic-regression\n",
            "  extra_warning_msg=_LOGISTIC_SOLVER_CONVERGENCE_MSG,\n"
          ]
        },
        {
          "name": "stdout",
          "output_type": "stream",
          "text": [
            "CV Accuracy: 85.000 (0.017)\n"
          ]
        }
      ],
      "source": [
        "from sklearn.model_selection import cross_val_score\n",
        "from sklearn.linear_model import LogisticRegression\n",
        "from sklearn.metrics import classification_report\n",
        "\n",
        "model = LogisticRegression(random_state=7)\n",
        "clf = model.fit(X_train, Y_train)\n",
        "predictions = clf.predict(X_test)\n",
        "\n",
        "print(classification_report(Y_test, predictions))\n",
        "\n",
        "score = model.score(X_test, Y_test) * 100\n",
        "f1 = f1_score(Y_test, predictions) * 100\n",
        "recall = recall_score(Y_test, predictions) * 100\n",
        "precision = precision_score(Y_test, predictions) * 100\n",
        "\n",
        "metrics[\"LogisticRegression\"] = {\n",
        "    \"Accuracy\": score,\n",
        "    \"f1-score\": f1,\n",
        "    \"Recall\": recall,\n",
        "    \"Precision\": precision,\n",
        "}\n",
        "\n",
        "print(\"Accuracy: {0}%\".format(score))\n",
        "print(\"f1-score: {0}%\".format(f1))\n",
        "print(\"Accuracy: {0}%\".format(recall))\n",
        "print(\"Precision: {0}%\".format(precision))\n",
        "\n",
        "scores = cross_val_score(model, X, Y, scoring=\"accuracy\", cv=cv, n_jobs=-1)\n",
        "print(\"CV Accuracy: %.3f (%.3f)\" % (mean(scores) * 100, std(scores)))\n",
        "metrics1[\"LogisticRegression\"] = {\"CVAccuracy\": mean(scores)}\n"
      ]
    },
    {
      "cell_type": "markdown",
      "metadata": {
        "id": "tBzbNGaseSvb"
      },
      "source": [
        "DECISION TREE\n"
      ]
    },
    {
      "cell_type": "code",
      "execution_count": null,
      "metadata": {
        "colab": {
          "base_uri": "https://localhost:8080/"
        },
        "id": "ZBP5t88DdNjh",
        "outputId": "c0af4e75-38de-431c-eb57-0402ee9e865a"
      },
      "outputs": [
        {
          "name": "stdout",
          "output_type": "stream",
          "text": [
            "              precision    recall  f1-score   support\n",
            "\n",
            "           0       0.94      0.95      0.94       898\n",
            "           1       0.94      0.93      0.94       778\n",
            "\n",
            "    accuracy                           0.94      1676\n",
            "   macro avg       0.94      0.94      0.94      1676\n",
            "weighted avg       0.94      0.94      0.94      1676\n",
            "\n",
            "Accuracy: 94.03341288782816%\n",
            "f1-score: 93.51491569390402%\n",
            "Accuracy: 92.67352185089975%\n",
            "Precision: 94.3717277486911%\n",
            "CV Accuracy: 68.000 (0.040)\n"
          ]
        }
      ],
      "source": [
        "from sklearn.tree import DecisionTreeClassifier\n",
        "from sklearn.metrics import classification_report\n",
        "\n",
        "model = DecisionTreeClassifier(random_state=0)\n",
        "model.fit(X_train, Y_train)\n",
        "predictions = model.predict(X_test)\n",
        "\n",
        "print(classification_report(Y_test, predictions))\n",
        "\n",
        "score = model.score(X_test, Y_test) * 100\n",
        "f1 = f1_score(Y_test, predictions) * 100\n",
        "recall = recall_score(Y_test, predictions) * 100\n",
        "precision = precision_score(Y_test, predictions) * 100\n",
        "\n",
        "metrics[\"DecisionTree\"] = {\n",
        "    \"Accuracy\": score,\n",
        "    \"f1-score\": f1,\n",
        "    \"Recall\": recall,\n",
        "    \"Precision\": precision,\n",
        "}\n",
        "\n",
        "print(\"Accuracy: {0}%\".format(score))\n",
        "print(\"f1-score: {0}%\".format(f1))\n",
        "print(\"Accuracy: {0}%\".format(recall))\n",
        "print(\"Precision: {0}%\".format(precision))\n",
        "\n",
        "scores = cross_val_score(model, X, Y, scoring=\"accuracy\", cv=cv, n_jobs=-1)\n",
        "print(\"CV Accuracy: %.3f (%.3f)\" % (mean(scores) * 100, std(scores)))\n",
        "metrics1[\"DecisionTree\"] = {\"CVAccuracy\": mean(scores)}\n"
      ]
    },
    {
      "cell_type": "markdown",
      "metadata": {
        "id": "LNnzXuWBec5r"
      },
      "source": [
        "GRADIENT BOOST\n"
      ]
    },
    {
      "cell_type": "code",
      "execution_count": null,
      "metadata": {
        "colab": {
          "base_uri": "https://localhost:8080/"
        },
        "id": "CBwiB1Kneeoa",
        "outputId": "85a5979e-9f06-49ba-f273-4c11607b71d3"
      },
      "outputs": [
        {
          "name": "stdout",
          "output_type": "stream",
          "text": [
            "              precision    recall  f1-score   support\n",
            "\n",
            "           0       0.97      0.95      0.96       898\n",
            "           1       0.94      0.97      0.95       778\n",
            "\n",
            "    accuracy                           0.96      1676\n",
            "   macro avg       0.96      0.96      0.96      1676\n",
            "weighted avg       0.96      0.96      0.96      1676\n",
            "\n",
            "Accuracy: 95.70405727923628%\n",
            "f1-score: 95.44303797468355%\n",
            "Accuracy: 96.91516709511568%\n",
            "Precision: 94.0149625935162%\n",
            "CV Accuracy: 76.000 (0.075)\n"
          ]
        }
      ],
      "source": [
        "from sklearn.ensemble import GradientBoostingClassifier\n",
        "from sklearn.metrics import classification_report\n",
        "\n",
        "model = GradientBoostingClassifier(random_state=0)\n",
        "model.fit(X_train, Y_train)\n",
        "predictions = model.predict(X_test)\n",
        "\n",
        "print(classification_report(Y_test, predictions))\n",
        "\n",
        "score = model.score(X_test, Y_test) * 100\n",
        "f1 = f1_score(Y_test, predictions) * 100\n",
        "recall = recall_score(Y_test, predictions) * 100\n",
        "precision = precision_score(Y_test, predictions) * 100\n",
        "\n",
        "metrics[\"GradientBoost\"] = {\n",
        "    \"Accuracy\": score,\n",
        "    \"f1-score\": f1,\n",
        "    \"Recall\": recall,\n",
        "    \"Precision\": precision,\n",
        "}\n",
        "\n",
        "print(\"Accuracy: {0}%\".format(score))\n",
        "print(\"f1-score: {0}%\".format(f1))\n",
        "print(\"Accuracy: {0}%\".format(recall))\n",
        "print(\"Precision: {0}%\".format(precision))\n",
        "\n",
        "scores = cross_val_score(model, X, Y, scoring=\"accuracy\", cv=cv, n_jobs=-1)\n",
        "print(\"CV Accuracy: %.3f (%.3f)\" % (mean(scores) * 100, std(scores)))\n",
        "metrics1[\"GradientBoost\"] = {\"CVAccuracy\": mean(scores)}\n"
      ]
    },
    {
      "cell_type": "markdown",
      "metadata": {
        "id": "O0U4cdZYeiZG"
      },
      "source": [
        "NAIVE BAYES\n"
      ]
    },
    {
      "cell_type": "code",
      "execution_count": null,
      "metadata": {
        "colab": {
          "base_uri": "https://localhost:8080/"
        },
        "id": "S7-xsu3melBB",
        "outputId": "3e997167-0e9f-4a0a-88f6-c11ab6465719"
      },
      "outputs": [
        {
          "name": "stdout",
          "output_type": "stream",
          "text": [
            "[0 0 0 ... 0 0 0]\n",
            "              precision    recall  f1-score   support\n",
            "\n",
            "           0       0.54      1.00      0.70       898\n",
            "           1       0.00      0.00      0.00       778\n",
            "\n",
            "    accuracy                           0.54      1676\n",
            "   macro avg       0.27      0.50      0.35      1676\n",
            "weighted avg       0.29      0.54      0.37      1676\n",
            "\n",
            "Accuracy: 53.5799522673031%\n",
            "f1-score: 0.0%\n",
            "Accuracy: 0.0%\n",
            "Precision: 0.0%\n",
            "CV Accuracy: 76.000 (0.049)\n"
          ]
        },
        {
          "name": "stderr",
          "output_type": "stream",
          "text": [
            "/usr/local/lib/python3.7/dist-packages/sklearn/metrics/_classification.py:1318: UndefinedMetricWarning: Precision and F-score are ill-defined and being set to 0.0 in labels with no predicted samples. Use `zero_division` parameter to control this behavior.\n",
            "  _warn_prf(average, modifier, msg_start, len(result))\n",
            "/usr/local/lib/python3.7/dist-packages/sklearn/metrics/_classification.py:1318: UndefinedMetricWarning: Precision and F-score are ill-defined and being set to 0.0 in labels with no predicted samples. Use `zero_division` parameter to control this behavior.\n",
            "  _warn_prf(average, modifier, msg_start, len(result))\n",
            "/usr/local/lib/python3.7/dist-packages/sklearn/metrics/_classification.py:1318: UndefinedMetricWarning: Precision and F-score are ill-defined and being set to 0.0 in labels with no predicted samples. Use `zero_division` parameter to control this behavior.\n",
            "  _warn_prf(average, modifier, msg_start, len(result))\n",
            "/usr/local/lib/python3.7/dist-packages/sklearn/metrics/_classification.py:1318: UndefinedMetricWarning: Precision is ill-defined and being set to 0.0 due to no predicted samples. Use `zero_division` parameter to control this behavior.\n",
            "  _warn_prf(average, modifier, msg_start, len(result))\n"
          ]
        }
      ],
      "source": [
        "from sklearn.naive_bayes import BernoulliNB\n",
        "from sklearn.metrics import accuracy_score\n",
        "\n",
        "# start = perf_counter()\n",
        "model = BernoulliNB()\n",
        "model.fit(X_train, Y_train)\n",
        "predictions = model.predict(X_test)\n",
        "print(predictions)\n",
        "print(classification_report(Y_test, predictions))\n",
        "\n",
        "score = model.score(X_test, Y_test) * 100\n",
        "f1 = f1_score(Y_test, predictions) * 100\n",
        "recall = recall_score(Y_test, predictions) * 100\n",
        "precision = precision_score(Y_test, predictions) * 100\n",
        "\n",
        "metrics[\"NaiveBayes\"] = {\n",
        "    \"Accuracy\": score,\n",
        "    \"f1-score\": f1,\n",
        "    \"Recall\": recall,\n",
        "    \"Precision\": precision,\n",
        "}\n",
        "\n",
        "print(\"Accuracy: {0}%\".format(score))\n",
        "print(\"f1-score: {0}%\".format(f1))\n",
        "print(\"Accuracy: {0}%\".format(recall))\n",
        "print(\"Precision: {0}%\".format(precision))\n",
        "\n",
        "scores = cross_val_score(model, X, Y, scoring=\"accuracy\", cv=cv, n_jobs=-1)\n",
        "print(\"CV Accuracy: %.3f (%.3f)\" % (mean(scores) * 100, std(scores)))\n",
        "metrics1[\"NaiveBayes\"] = {\"CVAccuracy\": mean(scores)}\n"
      ]
    },
    {
      "cell_type": "markdown",
      "metadata": {
        "id": "irgQU-dIeoWJ"
      },
      "source": [
        "KNN\n"
      ]
    },
    {
      "cell_type": "code",
      "execution_count": null,
      "metadata": {
        "colab": {
          "base_uri": "https://localhost:8080/"
        },
        "id": "GE8f1QmieqyH",
        "outputId": "f6f5bde9-1ec9-4041-bed5-0d429d72d64a"
      },
      "outputs": [
        {
          "name": "stdout",
          "output_type": "stream",
          "text": [
            "              precision    recall  f1-score   support\n",
            "\n",
            "           0       0.91      0.91      0.91       898\n",
            "           1       0.89      0.89      0.89       778\n",
            "\n",
            "    accuracy                           0.90      1676\n",
            "   macro avg       0.90      0.90      0.90      1676\n",
            "weighted avg       0.90      0.90      0.90      1676\n",
            "\n",
            "Accuracy: 90.03579952267303%\n",
            "f1-score: 89.27424534360951%\n",
            "Accuracy: 89.33161953727506%\n",
            "Precision: 89.21694480102695%\n",
            "CV Accuracy: 87.000 (0.052)\n"
          ]
        }
      ],
      "source": [
        "from sklearn.neighbors import KNeighborsClassifier\n",
        "from sklearn.metrics import classification_report\n",
        "\n",
        "model = KNeighborsClassifier()\n",
        "model.fit(X_train, Y_train)\n",
        "predictions = model.predict(X_test)\n",
        "\n",
        "print(classification_report(Y_test, predictions))\n",
        "\n",
        "score = model.score(X_test, Y_test) * 100\n",
        "f1 = f1_score(Y_test, predictions) * 100\n",
        "recall = recall_score(Y_test, predictions) * 100\n",
        "precision = precision_score(Y_test, predictions) * 100\n",
        "\n",
        "metrics[\"KNN\"] = {\n",
        "    \"Accuracy\": score,\n",
        "    \"f1-score\": f1,\n",
        "    \"Recall\": recall,\n",
        "    \"Precision\": precision,\n",
        "}\n",
        "\n",
        "print(\"Accuracy: {0}%\".format(score))\n",
        "print(\"f1-score: {0}%\".format(f1))\n",
        "print(\"Accuracy: {0}%\".format(recall))\n",
        "print(\"Precision: {0}%\".format(precision))\n",
        "\n",
        "scores = cross_val_score(model, X, Y, scoring=\"accuracy\", cv=cv, n_jobs=-1)\n",
        "print(\"CV Accuracy: %.3f (%.3f)\" % (mean(scores) * 100, std(scores)))\n",
        "metrics1[\"KNN\"] = {\"CVAccuracy\": mean(scores)}\n"
      ]
    },
    {
      "cell_type": "markdown",
      "metadata": {
        "id": "htz5P4kSeuKG"
      },
      "source": [
        "RANDOM FOREST\n"
      ]
    },
    {
      "cell_type": "code",
      "execution_count": null,
      "metadata": {
        "colab": {
          "base_uri": "https://localhost:8080/"
        },
        "id": "kZYni6x1ewPy",
        "outputId": "a457ebe8-b31b-407b-a638-9daeb770aecb"
      },
      "outputs": [
        {
          "name": "stdout",
          "output_type": "stream",
          "text": [
            "              precision    recall  f1-score   support\n",
            "\n",
            "           0       0.97      0.95      0.96       898\n",
            "           1       0.95      0.96      0.95       778\n",
            "\n",
            "    accuracy                           0.96      1676\n",
            "   macro avg       0.96      0.96      0.96      1676\n",
            "weighted avg       0.96      0.96      0.96      1676\n",
            "\n",
            "Accuracy: 95.76372315035799%\n",
            "f1-score: 95.48058561425844%\n",
            "Accuracy: 96.40102827763496%\n",
            "Precision: 94.57755359394704%\n",
            "CV Accuracy: 81.000 (0.077)\n"
          ]
        }
      ],
      "source": [
        "from sklearn.ensemble import RandomForestClassifier\n",
        "from sklearn.metrics import classification_report\n",
        "\n",
        "model = RandomForestClassifier(random_state=0)\n",
        "model.fit(X_train, Y_train)\n",
        "predictions = model.predict(X_test)\n",
        "\n",
        "print(classification_report(Y_test, predictions))\n",
        "\n",
        "score = model.score(X_test, Y_test) * 100\n",
        "f1 = f1_score(Y_test, predictions) * 100\n",
        "recall = recall_score(Y_test, predictions) * 100\n",
        "precision = precision_score(Y_test, predictions) * 100\n",
        "\n",
        "metrics[\"RandomForest\"] = {\n",
        "    \"Accuracy\": score,\n",
        "    \"f1-score\": f1,\n",
        "    \"Recall\": recall,\n",
        "    \"Precision\": precision,\n",
        "}\n",
        "\n",
        "print(\"Accuracy: {0}%\".format(score))\n",
        "print(\"f1-score: {0}%\".format(f1))\n",
        "print(\"Accuracy: {0}%\".format(recall))\n",
        "print(\"Precision: {0}%\".format(precision))\n",
        "\n",
        "scores = cross_val_score(model, X, Y, scoring=\"accuracy\", cv=cv, n_jobs=-1)\n",
        "print(\"CV Accuracy: %.3f (%.3f)\" % (mean(scores) * 100, std(scores)))\n",
        "metrics1[\"RandomForest\"] = {\"CVAccuracy\": mean(scores)}\n"
      ]
    },
    {
      "cell_type": "code",
      "execution_count": null,
      "metadata": {
        "colab": {
          "base_uri": "https://localhost:8080/",
          "height": 811
        },
        "id": "PP0ew4aje0fZ",
        "outputId": "6b721aca-9dee-4860-91c7-ae08fb08bfa3"
      },
      "outputs": [
        {
          "name": "stdout",
          "output_type": "stream",
          "text": [
            "Port A           0.053944\n",
            "Port B           0.002911\n",
            "Packets          0.031407\n",
            "Bytes            0.051730\n",
            "Packets A → B    0.032389\n",
            "Bytes A → B      0.147013\n",
            "Packets B → A    0.037972\n",
            "Bytes B → A      0.066363\n",
            "Rel Start        0.038752\n",
            "Duration         0.130267\n",
            "Bits/s A → B     0.248203\n",
            "Bits/s B → A     0.159049\n",
            "dtype: float64\n"
          ]
        },
        {
          "data": {
            "image/png": "[encoded data removed]",
            "text/plain": [
              "<Figure size 432x288 with 1 Axes>"
            ]
          },
          "metadata": {
            "needs_background": "light"
          },
          "output_type": "display_data"
        }
      ],
      "source": [
        "importances = model.feature_importances_\n",
        "std = np.std([tree.feature_importances_ for tree in model.estimators_], axis=0)\n",
        "\n",
        "features = list(df.columns)\n",
        "classifier_importances = pd.Series(importances, index=features)\n",
        "print(classifier_importances)\n",
        "\n",
        "fig, ax = plt.subplots()\n",
        "classifier_importances.plot.bar(yerr=std, ax=ax)\n",
        "ax.set_title(\"Feature importances\")\n",
        "ax.set_ylabel(\"Mean decrease in impurity\")\n",
        "fig.tight_layout(rect=(0, 0, 2, 2))\n",
        "plt.show()\n"
      ]
    },
    {
      "cell_type": "markdown",
      "metadata": {
        "id": "WM-Fn3Oue3z0"
      },
      "source": [
        "ACCURACY\n"
      ]
    },
    {
      "cell_type": "code",
      "execution_count": null,
      "metadata": {
        "colab": {
          "base_uri": "https://localhost:8080/"
        },
        "id": "_l3TojnYe6OO",
        "outputId": "f15dd1e1-6a04-4ae3-f992-b08a2eef34f5"
      },
      "outputs": [
        {
          "name": "stdout",
          "output_type": "stream",
          "text": [
            "{'LogisticRegression': {'Accuracy': 77.68496420047732, 'f1-score': 72.00598802395209, 'Recall': 61.82519280205655, 'Precision': 86.20071684587813}, 'DecisionTree': {'Accuracy': 94.03341288782816, 'f1-score': 93.51491569390402, 'Recall': 92.67352185089975, 'Precision': 94.3717277486911}, 'GradientBoost': {'Accuracy': 95.70405727923628, 'f1-score': 95.44303797468355, 'Recall': 96.91516709511568, 'Precision': 94.0149625935162}, 'NaiveBayes': {'Accuracy': 53.5799522673031, 'f1-score': 0.0, 'Recall': 0.0, 'Precision': 0.0}, 'KNN': {'Accuracy': 90.03579952267303, 'f1-score': 89.27424534360951, 'Recall': 89.33161953727506, 'Precision': 89.21694480102695}, 'RandomForest': {'Accuracy': 95.76372315035799, 'f1-score': 95.48058561425844, 'Recall': 96.40102827763496, 'Precision': 94.57755359394704}}\n",
            "{'LogisticRegression': {'CVAccuracy': 0.85}, 'DecisionTree': {'CVAccuracy': 0.6799999999999999}, 'GradientBoost': {'CVAccuracy': 0.76}, 'NaiveBayes': {'CVAccuracy': 0.7600000000000001}, 'KNN': {'CVAccuracy': 0.87}, 'RandomForest': {'CVAccuracy': 0.8099999999999999}}\n"
          ]
        }
      ],
      "source": [
        "print(metrics)\n",
        "print(metrics1)\n"
      ]
    },
    {
      "cell_type": "code",
      "execution_count": null,
      "metadata": {
        "colab": {
          "base_uri": "https://localhost:8080/",
          "height": 735
        },
        "id": "1aBh5tdZe863",
        "outputId": "001f76a7-d869-474c-8415-c1f6c2a4689c"
      },
      "outputs": [
        {
          "name": "stdout",
          "output_type": "stream",
          "text": [
            "LogisticRegression                  77.68496420047732%\n",
            "DecisionTree                        94.03341288782816%\n",
            "GradientBoost                       95.70405727923628%\n",
            "NaiveBayes                          53.5799522673031%\n",
            "KNN                                 90.03579952267303%\n",
            "RandomForest                        95.76372315035799%\n"
          ]
        },
        {
          "data": {
            "image/png": "[encoded data removed]",
            "text/plain": [
              "<Figure size 720x720 with 1 Axes>"
            ]
          },
          "metadata": {
            "needs_background": "light"
          },
          "output_type": "display_data"
        }
      ],
      "source": [
        "ticks = []\n",
        "accuracy = []\n",
        "models_accuracy = []\n",
        "\n",
        "for k, v in metrics.items():\n",
        "    accuracy.append(v[\"Accuracy\"])\n",
        "    models_accuracy.append(\n",
        "        [k, v[\"Accuracy\"], v[\"f1-score\"], v[\"Recall\"], v[\"Precision\"]]\n",
        "    )\n",
        "    print(\"{0:<35} {1}%\".format(k, v[\"Accuracy\"]))\n",
        "\n",
        "df_acc = pd.DataFrame(models_accuracy)\n",
        "df_acc.columns = [\"Models\", \"Accuracy\", \"f1-score\", \"Recall\", \"Precision\"]\n",
        "\n",
        "plt.figure(figsize=(10, 10))\n",
        "g = sns.barplot(x=\"Models\", y=\"Accuracy\", data=df_acc)\n",
        "for i in range(0, 100):\n",
        "    val = i + 0.01\n",
        "    ticks.append(val)\n",
        "g.set_yticks(ticks)\n",
        "g.set_yticklabels(ticks)\n",
        "\n",
        "plt.title(\"Accuracy on the test set\\n(the Y-Axis is between 40 and 100)\", fontsize=10)\n",
        "plt.ylim(40, 100)\n",
        "for i, p in enumerate(g.patches):\n",
        "    percentage = \"{:.2f}%\".format(accuracy[i])\n",
        "    x = p.get_x() + (p.get_width() / 2)\n",
        "    y = p.get_height() + 0.5\n",
        "    g.annotate(percentage, (x, y), ha=\"center\")\n",
        "\n",
        "plt.show()\n"
      ]
    },
    {
      "cell_type": "code",
      "execution_count": null,
      "metadata": {
        "colab": {
          "base_uri": "https://localhost:8080/",
          "height": 773
        },
        "id": "tHhtFGDjfA-M",
        "outputId": "b4c9cbe0-00fb-4688-b827-f05a3e771891"
      },
      "outputs": [
        {
          "name": "stdout",
          "output_type": "stream",
          "text": [
            "{'LogisticRegression': {'CVAccuracy': 0.85}, 'DecisionTree': {'CVAccuracy': 0.6799999999999999}, 'GradientBoost': {'CVAccuracy': 0.76}, 'NaiveBayes': {'CVAccuracy': 0.7600000000000001}, 'KNN': {'CVAccuracy': 0.87}, 'RandomForest': {'CVAccuracy': 0.8099999999999999}}\n",
            "LogisticRegression                  85.0%\n",
            "DecisionTree                        68.0%\n",
            "GradientBoost                       76.0%\n",
            "NaiveBayes                          76.00000000000001%\n",
            "KNN                                 87.0%\n",
            "RandomForest                        81.0%\n"
          ]
        },
        {
          "data": {
            "image/png": "[encoded data removed]",
            "text/plain": [
              "<Figure size 720x720 with 1 Axes>"
            ]
          },
          "metadata": {
            "needs_background": "light"
          },
          "output_type": "display_data"
        }
      ],
      "source": [
        "ticks = []\n",
        "cvaccuracy = []\n",
        "models_cvaccuracy = []\n",
        "print(metrics1)\n",
        "for k, v in metrics1.items():\n",
        "    try:\n",
        "        cvaccuracy.append(v[\"CVAccuracy\"] * 100)\n",
        "        models_cvaccuracy.append([k, v[\"CVAccuracy\"] * 100])\n",
        "        print(\"{0:<35} {1}%\".format(k, v[\"CVAccuracy\"] * 100))\n",
        "\n",
        "    except KeyError:\n",
        "        cvaccuracy.append(10.30)\n",
        "        models_cvaccuracy.append(10.30)\n",
        "        print(\"{0:<35} {1}%\".format(k, 01.03))\n",
        "        continue\n",
        "\n",
        "\n",
        "df_acc2 = pd.DataFrame(models_cvaccuracy)\n",
        "df_acc2.columns = [\"Models\", \"CVAccuracy\"]\n",
        "\n",
        "plt.figure(figsize=(10, 10))\n",
        "g = sns.barplot(x=\"Models\", y=\"CVAccuracy\", data=df_acc2)\n",
        "for i in range(0, 100):\n",
        "    val = i + 0.01\n",
        "    ticks.append(val)\n",
        "g.set_yticks(ticks)\n",
        "g.set_yticklabels(ticks)\n",
        "\n",
        "plt.title(\"Accuracy on the test set\\n(the Y-Axis is between 40 and 100)\", fontsize=10)\n",
        "plt.ylim(40, 100)\n",
        "for i, p in enumerate(g.patches):\n",
        "    percentage = \"{:.2f}%\".format(cvaccuracy[i])\n",
        "    x = p.get_x() + (p.get_width() / 2)\n",
        "    y = p.get_height() + 0.5\n",
        "    g.annotate(percentage, (x, y), ha=\"center\")\n",
        "\n",
        "plt.show()\n"
      ]
    },
    {
      "cell_type": "code",
      "execution_count": null,
      "metadata": {
        "colab": {
          "base_uri": "https://localhost:8080/",
          "height": 206
        },
        "id": "Cf-6CcBqfEwn",
        "outputId": "d7a40ac8-c41b-4187-ce05-72d356962cbe"
      },
      "outputs": [
        {
          "data": {
            "text/html": [
              "\n",
              "  <div id=\"df-80b73f3a-1764-44ef-9bf8-5b0dec7e02fd\">\n",
              "    <div class=\"colab-df-container\">\n",
              "      <div>\n",
              "<style scoped>\n",
              "    .dataframe tbody tr th:only-of-type {\n",
              "        vertical-align: middle;\n",
              "    }\n",
              "\n",
              "    .dataframe tbody tr th {\n",
              "        vertical-align: top;\n",
              "    }\n",
              "\n",
              "    .dataframe thead th {\n",
              "        text-align: right;\n",
              "    }\n",
              "</style>\n",
              "<table border=\"1\" class=\"dataframe\">\n",
              "  <thead>\n",
              "    <tr style=\"text-align: right;\">\n",
              "      <th></th>\n",
              "      <th>Models</th>\n",
              "      <th>Accuracy</th>\n",
              "      <th>f1-score</th>\n",
              "      <th>Recall</th>\n",
              "      <th>Precision</th>\n",
              "    </tr>\n",
              "  </thead>\n",
              "  <tbody>\n",
              "    <tr>\n",
              "      <th>0</th>\n",
              "      <td>LogisticRegression</td>\n",
              "      <td>77.684964</td>\n",
              "      <td>72.005988</td>\n",
              "      <td>61.825193</td>\n",
              "      <td>86.200717</td>\n",
              "    </tr>\n",
              "    <tr>\n",
              "      <th>1</th>\n",
              "      <td>DecisionTree</td>\n",
              "      <td>94.033413</td>\n",
              "      <td>93.514916</td>\n",
              "      <td>92.673522</td>\n",
              "      <td>94.371728</td>\n",
              "    </tr>\n",
              "    <tr>\n",
              "      <th>2</th>\n",
              "      <td>GradientBoost</td>\n",
              "      <td>95.704057</td>\n",
              "      <td>95.443038</td>\n",
              "      <td>96.915167</td>\n",
              "      <td>94.014963</td>\n",
              "    </tr>\n",
              "    <tr>\n",
              "      <th>3</th>\n",
              "      <td>NaiveBayes</td>\n",
              "      <td>53.579952</td>\n",
              "      <td>0.000000</td>\n",
              "      <td>0.000000</td>\n",
              "      <td>0.000000</td>\n",
              "    </tr>\n",
              "    <tr>\n",
              "      <th>4</th>\n",
              "      <td>KNN</td>\n",
              "      <td>90.035800</td>\n",
              "      <td>89.274245</td>\n",
              "      <td>89.331620</td>\n",
              "      <td>89.216945</td>\n",
              "    </tr>\n",
              "  </tbody>\n",
              "</table>\n",
              "</div>\n",
              "      <button class=\"colab-df-convert\" onclick=\"convertToInteractive('df-80b73f3a-1764-44ef-9bf8-5b0dec7e02fd')\"\n",
              "              title=\"Convert this dataframe to an interactive table.\"\n",
              "              style=\"display:none;\">\n",
              "        \n",
              "  <svg xmlns=\"http://www.w3.org/2000/svg\" height=\"24px\"viewBox=\"0 0 24 24\"\n",
              "       width=\"24px\">\n",
              "    <path d=\"M0 0h24v24H0V0z\" fill=\"none\"/>\n",
              "    <path d=\"M18.56 5.44l.94 2.06.94-2.06 2.06-.94-2.06-.94-.94-2.06-.94 2.06-2.06.94zm-11 1L8.5 8.5l.94-2.06 2.06-.94-2.06-.94L8.5 2.5l-.94 2.06-2.06.94zm10 10l.94 2.06.94-2.06 2.06-.94-2.06-.94-.94-2.06-.94 2.06-2.06.94z\"/><path d=\"M17.41 7.96l-1.37-1.37c-.4-.4-.92-.59-1.43-.59-.52 0-1.04.2-1.43.59L10.3 9.45l-7.72 7.72c-.78.78-.78 2.05 0 2.83L4 21.41c.39.39.9.59 1.41.59.51 0 1.02-.2 1.41-.59l7.78-7.78 2.81-2.81c.8-.78.8-2.07 0-2.86zM5.41 20L4 18.59l7.72-7.72 1.47 1.35L5.41 20z\"/>\n",
              "  </svg>\n",
              "      </button>\n",
              "      \n",
              "  <style>\n",
              "    .colab-df-container {\n",
              "      display:flex;\n",
              "      flex-wrap:wrap;\n",
              "      gap: 12px;\n",
              "    }\n",
              "\n",
              "    .colab-df-convert {\n",
              "      background-color: #E8F0FE;\n",
              "      border: none;\n",
              "      border-radius: 50%;\n",
              "      cursor: pointer;\n",
              "      display: none;\n",
              "      fill: #1967D2;\n",
              "      height: 32px;\n",
              "      padding: 0 0 0 0;\n",
              "      width: 32px;\n",
              "    }\n",
              "\n",
              "    .colab-df-convert:hover {\n",
              "      background-color: #E2EBFA;\n",
              "      box-shadow: 0px 1px 2px rgba(60, 64, 67, 0.3), 0px 1px 3px 1px rgba(60, 64, 67, 0.15);\n",
              "      fill: #174EA6;\n",
              "    }\n",
              "\n",
              "    [theme=dark] .colab-df-convert {\n",
              "      background-color: #3B4455;\n",
              "      fill: #D2E3FC;\n",
              "    }\n",
              "\n",
              "    [theme=dark] .colab-df-convert:hover {\n",
              "      background-color: #434B5C;\n",
              "      box-shadow: 0px 1px 3px 1px rgba(0, 0, 0, 0.15);\n",
              "      filter: drop-shadow(0px 1px 2px rgba(0, 0, 0, 0.3));\n",
              "      fill: #FFFFFF;\n",
              "    }\n",
              "  </style>\n",
              "\n",
              "      <script>\n",
              "        const buttonEl =\n",
              "          document.querySelector('#df-80b73f3a-1764-44ef-9bf8-5b0dec7e02fd button.colab-df-convert');\n",
              "        buttonEl.style.display =\n",
              "          google.colab.kernel.accessAllowed ? 'block' : 'none';\n",
              "\n",
              "        async function convertToInteractive(key) {\n",
              "          const element = document.querySelector('#df-80b73f3a-1764-44ef-9bf8-5b0dec7e02fd');\n",
              "          const dataTable =\n",
              "            await google.colab.kernel.invokeFunction('convertToInteractive',\n",
              "                                                     [key], {});\n",
              "          if (!dataTable) return;\n",
              "\n",
              "          const docLinkHtml = 'Like what you see? Visit the ' +\n",
              "            '<a target=\"_blank\" href=https://colab.research.google.com/notebooks/data_table.ipynb>data table notebook</a>'\n",
              "            + ' to learn more about interactive tables.';\n",
              "          element.innerHTML = '';\n",
              "          dataTable['output_type'] = 'display_data';\n",
              "          await google.colab.output.renderOutput(dataTable, element);\n",
              "          const docLink = document.createElement('div');\n",
              "          docLink.innerHTML = docLinkHtml;\n",
              "          element.appendChild(docLink);\n",
              "        }\n",
              "      </script>\n",
              "    </div>\n",
              "  </div>\n",
              "  "
            ],
            "text/plain": [
              "               Models   Accuracy   f1-score     Recall  Precision\n",
              "0  LogisticRegression  77.684964  72.005988  61.825193  86.200717\n",
              "1        DecisionTree  94.033413  93.514916  92.673522  94.371728\n",
              "2       GradientBoost  95.704057  95.443038  96.915167  94.014963\n",
              "3          NaiveBayes  53.579952   0.000000   0.000000   0.000000\n",
              "4                 KNN  90.035800  89.274245  89.331620  89.216945"
            ]
          },
          "execution_count": 18,
          "metadata": {},
          "output_type": "execute_result"
        }
      ],
      "source": [
        "df_acc.head()\n"
      ]
    },
    {
      "cell_type": "code",
      "execution_count": null,
      "metadata": {
        "colab": {
          "base_uri": "https://localhost:8080/",
          "height": 379
        },
        "id": "Ci0pwzacfIPr",
        "outputId": "0094db96-f92a-4e71-c0bc-4ca281a6d9e6"
      },
      "outputs": [
        {
          "data": {
            "text/plain": [
              "<matplotlib.axes._subplots.AxesSubplot at 0x7f5fc4b84510>"
            ]
          },
          "execution_count": 19,
          "metadata": {},
          "output_type": "execute_result"
        },
        {
          "data": {
            "image/png": "[encoded data removed]",
            "text/plain": [
              "<Figure size 432x288 with 1 Axes>"
            ]
          },
          "metadata": {
            "needs_background": "light"
          },
          "output_type": "display_data"
        }
      ],
      "source": [
        "df_acc.plot(x=\"Models\", y=[\"Accuracy\", \"f1-score\", \"Recall\", \"Precision\"], kind=\"bar\")\n"
      ]
    },
    {
      "cell_type": "markdown",
      "metadata": {
        "id": "Mmlu8_yrfKmW"
      },
      "source": [
        "CNN\n"
      ]
    },
    {
      "cell_type": "code",
      "execution_count": null,
      "metadata": {
        "id": "YEQYc3LvfMhK"
      },
      "outputs": [],
      "source": [
        "from tensorflow import keras\n",
        "from tensorflow.keras import datasets, layers, models\n",
        "from tensorflow.keras.datasets import mnist\n",
        "from tensorflow.keras.models import Sequential\n",
        "from tensorflow.keras.layers import Conv1D\n",
        "from tensorflow.keras.layers import MaxPool1D\n",
        "from tensorflow.keras.layers import Flatten\n",
        "from tensorflow.keras.layers import Dropout\n",
        "from tensorflow.keras.layers import Dense\n"
      ]
    },
    {
      "cell_type": "code",
      "execution_count": null,
      "metadata": {
        "id": "xNsgMyfPfPNY"
      },
      "outputs": [],
      "source": [
        "from sklearn.preprocessing import OneHotEncoder\n",
        "\n",
        "ohe = OneHotEncoder()\n",
        "Y1 = np.array(targets).reshape(-1, 1)\n",
        "Y1 = ohe.fit_transform(Y1).toarray()\n"
      ]
    },
    {
      "cell_type": "code",
      "execution_count": null,
      "metadata": {
        "id": "n6SjaOoHfQyF"
      },
      "outputs": [],
      "source": [
        "X_train, X_test, Y_train, Y_test = train_test_split(\n",
        "    df, Y1, test_size=0.20, random_state=7, shuffle=True\n",
        ")\n"
      ]
    },
    {
      "cell_type": "code",
      "execution_count": null,
      "metadata": {
        "colab": {
          "base_uri": "https://localhost:8080/",
          "height": 1000
        },
        "id": "6w5eMJxxfSpj",
        "outputId": "c4c85eca-e719-4894-ff13-6cbc20319ac7"
      },
      "outputs": [
        {
          "data": {
            "image/png": "[encoded data removed]",
            "text/plain": [
              "<IPython.core.display.Image object>"
            ]
          },
          "execution_count": 23,
          "metadata": {},
          "output_type": "execute_result"
        }
      ],
      "source": [
        "import tensorflow as tf\n",
        "\n",
        "# tf.config.run_functions_eagerly(True)\n",
        "# X_train = X_train\n",
        "# X_train = X_train.values.reshape(-1,1,16)\n",
        "X_train = np.expand_dims(X_train, axis=1)\n",
        "\n",
        "\n",
        "def make_model(input_shape):\n",
        "    # X_test=X_test.reshape(-1,1,16)\n",
        "    # Y_test=Y_test.reshape(-1,2)\n",
        "\n",
        "    input_layer = keras.layers.Input(input_shape)\n",
        "    # X_test=X_test.reshape(-1,1,16)\n",
        "    conv1 = keras.layers.Conv1D(filters=64, kernel_size=3, padding=\"same\")(input_layer)\n",
        "    conv1 = keras.layers.BatchNormalization()(conv1)\n",
        "    conv1 = keras.layers.ReLU()(conv1)\n",
        "\n",
        "    gap = keras.layers.GlobalAveragePooling1D()(conv1)\n",
        "    conv2 = keras.layers.Conv1D(filters=64, kernel_size=3, padding=\"same\")(conv1)\n",
        "    conv2 = keras.layers.BatchNormalization()(conv2)\n",
        "    conv2 = keras.layers.ReLU()(conv2)\n",
        "    gap = keras.layers.GlobalAveragePooling1D()(conv2)\n",
        "    conv3 = keras.layers.Conv1D(filters=64, kernel_size=3, padding=\"same\")(conv2)\n",
        "    conv3 = keras.layers.BatchNormalization()(conv3)\n",
        "    conv3 = keras.layers.ReLU()(conv3)\n",
        "\n",
        "    gap = keras.layers.GlobalAveragePooling1D()(conv3)\n",
        "\n",
        "    output_layer = keras.layers.Dense(2, activation=\"sigmoid\")(gap)\n",
        "\n",
        "    return keras.models.Model(inputs=input_layer, outputs=output_layer)\n",
        "\n",
        "\n",
        "model = make_model(input_shape=X_train.shape[1:])\n",
        "tf.keras.utils.plot_model(model, show_shapes=True)\n"
      ]
    },
    {
      "cell_type": "code",
      "execution_count": null,
      "metadata": {
        "id": "r7_0gm-_fXFj"
      },
      "outputs": [],
      "source": [
        "from tensorflow.keras.optimizers import SGD\n",
        "\n",
        "opt = SGD(learning_rate=0.01)\n",
        "model.compile(\n",
        "    loss=\"categorical_crossentropy\", optimizer=opt, metrics=[\"binary_accuracy\"]\n",
        ")\n"
      ]
    },
    {
      "cell_type": "code",
      "execution_count": null,
      "metadata": {
        "id": "RhQ5zudJfZbF"
      },
      "outputs": [],
      "source": [
        "epochs = 100\n",
        "batch_size = 32\n"
      ]
    },
    {
      "cell_type": "code",
      "execution_count": null,
      "metadata": {
        "id": "jFZo2zMIfbbd"
      },
      "outputs": [],
      "source": [
        "Y_test = np.array(Y_test)\n"
      ]
    },
    {
      "cell_type": "code",
      "execution_count": null,
      "metadata": {
        "colab": {
          "base_uri": "https://localhost:8080/"
        },
        "id": "hnFd6M-MfdWt",
        "outputId": "79875de1-8a7f-4ba8-c4b6-41014df5c557"
      },
      "outputs": [
        {
          "name": "stdout",
          "output_type": "stream",
          "text": [
            "Epoch 1/100\n"
          ]
        }
      ],
      "source": [
        "history = model.fit(\n",
        "    X_train,\n",
        "    Y_train,\n",
        "    batch_size=batch_size,\n",
        "    epochs=epochs,\n",
        "    validation_split=0.2,\n",
        "    verbose=1,\n",
        ")\n"
      ]
    },
    {
      "cell_type": "code",
      "execution_count": null,
      "metadata": {
        "colab": {
          "base_uri": "https://localhost:8080/",
          "height": 298
        },
        "id": "olcTMiJAffaI",
        "outputId": "b35d0fc5-b4d7-4637-d390-d74f6684ddfe"
      },
      "outputs": [
        {
          "data": {
            "image/png": "[encoded data removed]",
            "text/plain": [
              "<Figure size 432x288 with 1 Axes>"
            ]
          },
          "metadata": {
            "needs_background": "light"
          },
          "output_type": "display_data"
        }
      ],
      "source": [
        "metric = \"binary_accuracy\"\n",
        "plt.figure()\n",
        "plt.plot(history.history[metric])\n",
        "plt.plot(history.history[\"val_\" + metric])\n",
        "plt.title(\"model \" + metric)\n",
        "plt.ylabel(metric, fontsize=\"large\")\n",
        "plt.xlabel(\"epoch\", fontsize=\"large\")\n",
        "plt.legend([\"train\", \"val\"], loc=\"best\")\n",
        "plt.show()\n",
        "plt.close()\n"
      ]
    },
    {
      "cell_type": "code",
      "execution_count": null,
      "metadata": {
        "id": "ccGvsHfHsSfU"
      },
      "outputs": [],
      "source": [
        "Y_train = to_categorical(trainy)\n",
        "Y_testy = to_categorical(testy)\n"
      ]
    },
    {
      "cell_type": "code",
      "execution_count": null,
      "metadata": {
        "colab": {
          "base_uri": "https://localhost:8080/"
        },
        "id": "Nm8f7NiMpvAe",
        "outputId": "a483c7a4-8782-4c02-e0b3-51b76521cdc8"
      },
      "outputs": [
        {
          "data": {
            "text/plain": [
              "(6052, 12)"
            ]
          },
          "execution_count": 125,
          "metadata": {},
          "output_type": "execute_result"
        }
      ],
      "source": [
        "X_train.shape\n"
      ]
    },
    {
      "cell_type": "code",
      "execution_count": null,
      "metadata": {
        "colab": {
          "base_uri": "https://localhost:8080/"
        },
        "id": "jx2Qf2Ybp7X1",
        "outputId": "fbea9298-b67f-4bc4-f29a-19b38578a976"
      },
      "outputs": [
        {
          "data": {
            "text/plain": [
              "(6052, 2)"
            ]
          },
          "execution_count": 126,
          "metadata": {},
          "output_type": "execute_result"
        }
      ],
      "source": [
        "Y_train.shape\n"
      ]
    },
    {
      "cell_type": "code",
      "execution_count": null,
      "metadata": {
        "id": "vHclWHP7jhph"
      },
      "outputs": [],
      "source": [
        "n_timesteps, n_features, n_outputs = X_train.shape[0], X_train.shape[1], Y_train.shape[1]\n"
      ]
    },
    {
      "cell_type": "code",
      "execution_count": null,
      "metadata": {
        "id": "cqCheBA2D1q3"
      },
      "outputs": [],
      "source": [
        "X_train = X_train.values.reshape(-1, 1, 12)\n"
      ]
    },
    {
      "cell_type": "code",
      "execution_count": null,
      "metadata": {
        "id": "WrJLah4WqNGc"
      },
      "outputs": [],
      "source": [
        "model = Sequential()\n",
        "model.add(Conv1D(filters=64, kernel_size=3, activation=\"relu\", input_shape=(10, 128)))\n",
        "model.add(Conv1D(filters=64, kernel_size=3, activation=\"relu\"))\n",
        "model.add(Dropout(0.5))\n",
        "model.add(MaxPool1D(pool_size=2))\n",
        "model.add(Flatten())\n",
        "model.add(Dense(100, activation=\"relu\"))\n",
        "model.add(Dense(n_outputs, activation=\"softmax\"))\n",
        "model.compile(loss=\"categorical_crossentropy\", optimizer=\"adam\", metrics=[\"accuracy\"])\n"
      ]
    },
    {
      "cell_type": "code",
      "execution_count": null,
      "metadata": {
        "id": "Sc4yM_Qvtwo3"
      },
      "outputs": [],
      "source": [
        "verbose, epochs, batch_size = 0, 10, 32\n"
      ]
    },
    {
      "cell_type": "code",
      "execution_count": null,
      "metadata": {
        "colab": {
          "base_uri": "https://localhost:8080/"
        },
        "id": "q1KrUc9quQEz",
        "outputId": "6b3dcd76-b05e-41f7-e2b0-d145029ea44a"
      },
      "outputs": [
        {
          "data": {
            "text/plain": [
              "(6052, 1, 12)"
            ]
          },
          "execution_count": 130,
          "metadata": {},
          "output_type": "execute_result"
        }
      ],
      "source": [
        "X_train.shape\n"
      ]
    },
    {
      "cell_type": "code",
      "execution_count": null,
      "metadata": {
        "id": "tM1LjjwqxYyB"
      },
      "outputs": [],
      "source": [
        "X_train = X_train.reshape(-1, 1, 12)\n"
      ]
    },
    {
      "cell_type": "code",
      "execution_count": null,
      "metadata": {
        "colab": {
          "base_uri": "https://localhost:8080/",
          "height": 570
        },
        "id": "FrnzzjeGtusH",
        "outputId": "8eded6b6-8807-43aa-88c2-b048cc3e7282"
      },
      "outputs": [
        {
          "ename": "ValueError",
          "evalue": "ignored",
          "output_type": "error",
          "traceback": [
            "\u001b[0;31m---------------------------------------------------------------------------\u001b[0m",
            "\u001b[0;31mValueError\u001b[0m                                Traceback (most recent call last)",
            "\u001b[0;32m<ipython-input-132-804f0f131d2f>\u001b[0m in \u001b[0;36m<module>\u001b[0;34m()\u001b[0m\n\u001b[0;32m----> 1\u001b[0;31m \u001b[0mmodel\u001b[0m\u001b[0;34m.\u001b[0m\u001b[0mfit\u001b[0m\u001b[0;34m(\u001b[0m\u001b[0mX_train\u001b[0m\u001b[0;34m,\u001b[0m \u001b[0mY_train\u001b[0m\u001b[0;34m,\u001b[0m \u001b[0mepochs\u001b[0m\u001b[0;34m=\u001b[0m\u001b[0mepochs\u001b[0m\u001b[0;34m,\u001b[0m \u001b[0mbatch_size\u001b[0m\u001b[0;34m=\u001b[0m\u001b[0mbatch_size\u001b[0m\u001b[0;34m,\u001b[0m\u001b[0mverbose\u001b[0m\u001b[0;34m=\u001b[0m\u001b[0mverbose\u001b[0m\u001b[0;34m)\u001b[0m\u001b[0;34m\u001b[0m\u001b[0;34m\u001b[0m\u001b[0m\n\u001b[0m",
            "\u001b[0;32m/usr/local/lib/python3.7/dist-packages/keras/utils/traceback_utils.py\u001b[0m in \u001b[0;36merror_handler\u001b[0;34m(*args, **kwargs)\u001b[0m\n\u001b[1;32m     65\u001b[0m     \u001b[0;32mexcept\u001b[0m \u001b[0mException\u001b[0m \u001b[0;32mas\u001b[0m \u001b[0me\u001b[0m\u001b[0;34m:\u001b[0m  \u001b[0;31m# pylint: disable=broad-except\u001b[0m\u001b[0;34m\u001b[0m\u001b[0;34m\u001b[0m\u001b[0m\n\u001b[1;32m     66\u001b[0m       \u001b[0mfiltered_tb\u001b[0m \u001b[0;34m=\u001b[0m \u001b[0m_process_traceback_frames\u001b[0m\u001b[0;34m(\u001b[0m\u001b[0me\u001b[0m\u001b[0;34m.\u001b[0m\u001b[0m__traceback__\u001b[0m\u001b[0;34m)\u001b[0m\u001b[0;34m\u001b[0m\u001b[0;34m\u001b[0m\u001b[0m\n\u001b[0;32m---> 67\u001b[0;31m       \u001b[0;32mraise\u001b[0m \u001b[0me\u001b[0m\u001b[0;34m.\u001b[0m\u001b[0mwith_traceback\u001b[0m\u001b[0;34m(\u001b[0m\u001b[0mfiltered_tb\u001b[0m\u001b[0;34m)\u001b[0m \u001b[0;32mfrom\u001b[0m \u001b[0;32mNone\u001b[0m\u001b[0;34m\u001b[0m\u001b[0;34m\u001b[0m\u001b[0m\n\u001b[0m\u001b[1;32m     68\u001b[0m     \u001b[0;32mfinally\u001b[0m\u001b[0;34m:\u001b[0m\u001b[0;34m\u001b[0m\u001b[0;34m\u001b[0m\u001b[0m\n\u001b[1;32m     69\u001b[0m       \u001b[0;32mdel\u001b[0m \u001b[0mfiltered_tb\u001b[0m\u001b[0;34m\u001b[0m\u001b[0;34m\u001b[0m\u001b[0m\n",
            "\u001b[0;32m/usr/local/lib/python3.7/dist-packages/tensorflow/python/framework/func_graph.py\u001b[0m in \u001b[0;36mautograph_handler\u001b[0;34m(*args, **kwargs)\u001b[0m\n\u001b[1;32m   1145\u001b[0m           \u001b[0;32mexcept\u001b[0m \u001b[0mException\u001b[0m \u001b[0;32mas\u001b[0m \u001b[0me\u001b[0m\u001b[0;34m:\u001b[0m  \u001b[0;31m# pylint:disable=broad-except\u001b[0m\u001b[0;34m\u001b[0m\u001b[0;34m\u001b[0m\u001b[0m\n\u001b[1;32m   1146\u001b[0m             \u001b[0;32mif\u001b[0m \u001b[0mhasattr\u001b[0m\u001b[0;34m(\u001b[0m\u001b[0me\u001b[0m\u001b[0;34m,\u001b[0m \u001b[0;34m\"ag_error_metadata\"\u001b[0m\u001b[0;34m)\u001b[0m\u001b[0;34m:\u001b[0m\u001b[0;34m\u001b[0m\u001b[0;34m\u001b[0m\u001b[0m\n\u001b[0;32m-> 1147\u001b[0;31m               \u001b[0;32mraise\u001b[0m \u001b[0me\u001b[0m\u001b[0;34m.\u001b[0m\u001b[0mag_error_metadata\u001b[0m\u001b[0;34m.\u001b[0m\u001b[0mto_exception\u001b[0m\u001b[0;34m(\u001b[0m\u001b[0me\u001b[0m\u001b[0;34m)\u001b[0m\u001b[0;34m\u001b[0m\u001b[0;34m\u001b[0m\u001b[0m\n\u001b[0m\u001b[1;32m   1148\u001b[0m             \u001b[0;32melse\u001b[0m\u001b[0;34m:\u001b[0m\u001b[0;34m\u001b[0m\u001b[0;34m\u001b[0m\u001b[0m\n\u001b[1;32m   1149\u001b[0m               \u001b[0;32mraise\u001b[0m\u001b[0;34m\u001b[0m\u001b[0;34m\u001b[0m\u001b[0m\n",
            "\u001b[0;31mValueError\u001b[0m: in user code:\n\n    File \"/usr/local/lib/python3.7/dist-packages/keras/engine/training.py\", line 1021, in train_function  *\n        return step_function(self, iterator)\n    File \"/usr/local/lib/python3.7/dist-packages/keras/engine/training.py\", line 1010, in step_function  **\n        outputs = model.distribute_strategy.run(run_step, args=(data,))\n    File \"/usr/local/lib/python3.7/dist-packages/keras/engine/training.py\", line 1000, in run_step  **\n        outputs = model.train_step(data)\n    File \"/usr/local/lib/python3.7/dist-packages/keras/engine/training.py\", line 859, in train_step\n        y_pred = self(x, training=True)\n    File \"/usr/local/lib/python3.7/dist-packages/keras/utils/traceback_utils.py\", line 67, in error_handler\n        raise e.with_traceback(filtered_tb) from None\n    File \"/usr/local/lib/python3.7/dist-packages/keras/engine/input_spec.py\", line 264, in assert_input_compatibility\n        raise ValueError(f'Input {input_index} of layer \"{layer_name}\" is '\n\n    ValueError: Input 0 of layer \"sequential_10\" is incompatible with the layer: expected shape=(None, 10, 128), found shape=(None, 1, 12)\n"
          ]
        }
      ],
      "source": [
        "model.fit(X_train, Y_train, epochs=epochs, batch_size=batch_size, verbose=verbose)\n"
      ]
    },
    {
      "cell_type": "code",
      "execution_count": null,
      "metadata": {
        "id": "yW_QadQrjE4W"
      },
      "outputs": [],
      "source": [
        "model2 = Sequential()\n",
        "model2.add(\n",
        "    layers.Conv2D(32, (3, 3), activation=\"relu\", input_shape=(8, 8, 1), padding=\"same\")\n",
        ")\n",
        "model2.add(layers.MaxPooling2D((1, 1), padding=\"same\"))\n",
        "model2.add(layers.Conv2D(64, (3, 3), activation=\"relu\", padding=\"same\"))\n",
        "model2.add(layers.MaxPooling2D((2, 2), padding=\"same\"))\n",
        "model2.add(layers.Conv2D(16, (3, 3), activation=\"softmax\", padding=\"same\"))\n",
        "model2.add(layers.Flatten())\n",
        "model2.add(layers.Dense(64, activation=\"relu\"))\n",
        "model2.add(layers.Dense(2))\n"
      ]
    },
    {
      "cell_type": "code",
      "execution_count": null,
      "metadata": {
        "id": "cdRxU1Ibjlsm"
      },
      "outputs": [],
      "source": [
        "model2.summary()\n"
      ]
    }
  ],
  "metadata": {
    "colab": {
      "name": "QUIC_flow.ipynb",
      "provenance": []
    },
    "kernelspec": {
      "display_name": "Python 3",
      "name": "python3"
    },
    "language_info": {
      "name": "python"
    }
  },
  "nbformat": 4,
  "nbformat_minor": 0
}
