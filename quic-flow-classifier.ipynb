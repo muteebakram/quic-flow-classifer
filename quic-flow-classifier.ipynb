{
  "cells": [
    {
      "cell_type": "code",
      "execution_count": 120,
      "metadata": {
        "id": "9XmY6w-hbYkW"
      },
      "outputs": [],
      "source": [
        "import joblib\n",
        "import numpy as np\n",
        "import pandas as pd\n",
        "import seaborn as sns\n",
        "import matplotlib.pyplot as plt\n",
        "\n",
        "from os import path\n",
        "from numpy import mean, std\n",
        "from sklearn.model_selection import train_test_split\n",
        "from sklearn.metrics import f1_score\n",
        "from sklearn.metrics import recall_score\n",
        "from sklearn.metrics import precision_score\n"
      ]
    },
    {
      "cell_type": "markdown",
      "metadata": {},
      "source": [
        "READ DATASET\n"
      ]
    },
    {
      "cell_type": "code",
      "execution_count": 121,
      "metadata": {
        "colab": {
          "base_uri": "https://localhost:8080/",
          "height": 423
        },
        "id": "sCdj7ZsFcCiK",
        "outputId": "bf6d471e-b825-40e9-e32e-7b5c289f590e"
      },
      "outputs": [
        {
          "data": {
            "text/html": [
              "<div>\n",
              "<style scoped>\n",
              "    .dataframe tbody tr th:only-of-type {\n",
              "        vertical-align: middle;\n",
              "    }\n",
              "\n",
              "    .dataframe tbody tr th {\n",
              "        vertical-align: top;\n",
              "    }\n",
              "\n",
              "    .dataframe thead th {\n",
              "        text-align: right;\n",
              "    }\n",
              "</style>\n",
              "<table border=\"1\" class=\"dataframe\">\n",
              "  <thead>\n",
              "    <tr style=\"text-align: right;\">\n",
              "      <th></th>\n",
              "      <th>Address A</th>\n",
              "      <th>Port A</th>\n",
              "      <th>Address B</th>\n",
              "      <th>Port B</th>\n",
              "      <th>Packets</th>\n",
              "      <th>Bytes</th>\n",
              "      <th>Packets A → B</th>\n",
              "      <th>Bytes A → B</th>\n",
              "      <th>Packets B → A</th>\n",
              "      <th>Bytes B → A</th>\n",
              "      <th>Rel Start</th>\n",
              "      <th>Duration</th>\n",
              "      <th>Bits/s A → B</th>\n",
              "      <th>Bits/s B → A</th>\n",
              "      <th>Target</th>\n",
              "    </tr>\n",
              "  </thead>\n",
              "  <tbody>\n",
              "    <tr>\n",
              "      <th>0</th>\n",
              "      <td>192.168.0.103</td>\n",
              "      <td>58143.0</td>\n",
              "      <td>172.217.27.206</td>\n",
              "      <td>443.0</td>\n",
              "      <td>124.0</td>\n",
              "      <td>39548.0</td>\n",
              "      <td>58.0</td>\n",
              "      <td>24102.0</td>\n",
              "      <td>66.0</td>\n",
              "      <td>15446.0</td>\n",
              "      <td>2.189866</td>\n",
              "      <td>71.960428</td>\n",
              "      <td>2679.472668</td>\n",
              "      <td>1717.165996</td>\n",
              "      <td>1.0</td>\n",
              "    </tr>\n",
              "    <tr>\n",
              "      <th>1</th>\n",
              "      <td>192.168.0.103</td>\n",
              "      <td>57584.0</td>\n",
              "      <td>142.250.183.36</td>\n",
              "      <td>443.0</td>\n",
              "      <td>57.0</td>\n",
              "      <td>20695.0</td>\n",
              "      <td>28.0</td>\n",
              "      <td>6243.0</td>\n",
              "      <td>29.0</td>\n",
              "      <td>14452.0</td>\n",
              "      <td>3.438290</td>\n",
              "      <td>6.027378</td>\n",
              "      <td>8286.190115</td>\n",
              "      <td>19181.806750</td>\n",
              "      <td>1.0</td>\n",
              "    </tr>\n",
              "    <tr>\n",
              "      <th>2</th>\n",
              "      <td>192.168.0.103</td>\n",
              "      <td>56245.0</td>\n",
              "      <td>142.250.182.238</td>\n",
              "      <td>443.0</td>\n",
              "      <td>32.0</td>\n",
              "      <td>8167.0</td>\n",
              "      <td>16.0</td>\n",
              "      <td>3428.0</td>\n",
              "      <td>16.0</td>\n",
              "      <td>4739.0</td>\n",
              "      <td>6.224338</td>\n",
              "      <td>6.776927</td>\n",
              "      <td>4046.671891</td>\n",
              "      <td>5594.275990</td>\n",
              "      <td>1.0</td>\n",
              "    </tr>\n",
              "    <tr>\n",
              "      <th>3</th>\n",
              "      <td>192.168.0.103</td>\n",
              "      <td>52458.0</td>\n",
              "      <td>34.120.240.7</td>\n",
              "      <td>443.0</td>\n",
              "      <td>50.0</td>\n",
              "      <td>10723.0</td>\n",
              "      <td>27.0</td>\n",
              "      <td>5281.0</td>\n",
              "      <td>23.0</td>\n",
              "      <td>5442.0</td>\n",
              "      <td>6.231467</td>\n",
              "      <td>6.725964</td>\n",
              "      <td>6281.330081</td>\n",
              "      <td>6472.826795</td>\n",
              "      <td>1.0</td>\n",
              "    </tr>\n",
              "    <tr>\n",
              "      <th>4</th>\n",
              "      <td>192.168.0.103</td>\n",
              "      <td>64882.0</td>\n",
              "      <td>157.240.16.52</td>\n",
              "      <td>443.0</td>\n",
              "      <td>87.0</td>\n",
              "      <td>50414.0</td>\n",
              "      <td>41.0</td>\n",
              "      <td>17976.0</td>\n",
              "      <td>46.0</td>\n",
              "      <td>32438.0</td>\n",
              "      <td>6.413699</td>\n",
              "      <td>36.352234</td>\n",
              "      <td>3955.960451</td>\n",
              "      <td>7138.598415</td>\n",
              "      <td>1.0</td>\n",
              "    </tr>\n",
              "    <tr>\n",
              "      <th>...</th>\n",
              "      <td>...</td>\n",
              "      <td>...</td>\n",
              "      <td>...</td>\n",
              "      <td>...</td>\n",
              "      <td>...</td>\n",
              "      <td>...</td>\n",
              "      <td>...</td>\n",
              "      <td>...</td>\n",
              "      <td>...</td>\n",
              "      <td>...</td>\n",
              "      <td>...</td>\n",
              "      <td>...</td>\n",
              "      <td>...</td>\n",
              "      <td>...</td>\n",
              "      <td>...</td>\n",
              "    </tr>\n",
              "    <tr>\n",
              "      <th>138096</th>\n",
              "      <td>192.168.1.7</td>\n",
              "      <td>63919.0</td>\n",
              "      <td>34.149.43.113</td>\n",
              "      <td>443.0</td>\n",
              "      <td>29.0</td>\n",
              "      <td>9133.0</td>\n",
              "      <td>18.0</td>\n",
              "      <td>2394.0</td>\n",
              "      <td>11.0</td>\n",
              "      <td>6739.0</td>\n",
              "      <td>14977.351270</td>\n",
              "      <td>112.948061</td>\n",
              "      <td>169.564664</td>\n",
              "      <td>477.316738</td>\n",
              "      <td>0.0</td>\n",
              "    </tr>\n",
              "    <tr>\n",
              "      <th>138097</th>\n",
              "      <td>192.168.1.7</td>\n",
              "      <td>63920.0</td>\n",
              "      <td>184.26.169.72</td>\n",
              "      <td>443.0</td>\n",
              "      <td>21.0</td>\n",
              "      <td>3153.0</td>\n",
              "      <td>10.0</td>\n",
              "      <td>1890.0</td>\n",
              "      <td>11.0</td>\n",
              "      <td>1263.0</td>\n",
              "      <td>15071.377690</td>\n",
              "      <td>180.212772</td>\n",
              "      <td>83.900824</td>\n",
              "      <td>56.067058</td>\n",
              "      <td>0.0</td>\n",
              "    </tr>\n",
              "    <tr>\n",
              "      <th>138098</th>\n",
              "      <td>192.168.1.7</td>\n",
              "      <td>63921.0</td>\n",
              "      <td>20.44.229.112</td>\n",
              "      <td>443.0</td>\n",
              "      <td>120.0</td>\n",
              "      <td>74957.0</td>\n",
              "      <td>68.0</td>\n",
              "      <td>42680.0</td>\n",
              "      <td>52.0</td>\n",
              "      <td>32277.0</td>\n",
              "      <td>15079.548760</td>\n",
              "      <td>180.737504</td>\n",
              "      <td>1889.148585</td>\n",
              "      <td>1428.679683</td>\n",
              "      <td>0.0</td>\n",
              "    </tr>\n",
              "    <tr>\n",
              "      <th>138099</th>\n",
              "      <td>192.168.1.7</td>\n",
              "      <td>63922.0</td>\n",
              "      <td>3.218.71.8</td>\n",
              "      <td>443.0</td>\n",
              "      <td>19.0</td>\n",
              "      <td>8424.0</td>\n",
              "      <td>10.0</td>\n",
              "      <td>1910.0</td>\n",
              "      <td>9.0</td>\n",
              "      <td>6514.0</td>\n",
              "      <td>15253.367570</td>\n",
              "      <td>3.271286</td>\n",
              "      <td>4670.945922</td>\n",
              "      <td>15930.126560</td>\n",
              "      <td>0.0</td>\n",
              "    </tr>\n",
              "    <tr>\n",
              "      <th>138100</th>\n",
              "      <td>\u001a</td>\n",
              "      <td>NaN</td>\n",
              "      <td>NaN</td>\n",
              "      <td>NaN</td>\n",
              "      <td>NaN</td>\n",
              "      <td>NaN</td>\n",
              "      <td>NaN</td>\n",
              "      <td>NaN</td>\n",
              "      <td>NaN</td>\n",
              "      <td>NaN</td>\n",
              "      <td>NaN</td>\n",
              "      <td>NaN</td>\n",
              "      <td>NaN</td>\n",
              "      <td>NaN</td>\n",
              "      <td>NaN</td>\n",
              "    </tr>\n",
              "  </tbody>\n",
              "</table>\n",
              "<p>138101 rows × 15 columns</p>\n",
              "</div>"
            ],
            "text/plain": [
              "            Address A   Port A        Address B  Port B  Packets    Bytes  \\\n",
              "0       192.168.0.103  58143.0   172.217.27.206   443.0    124.0  39548.0   \n",
              "1       192.168.0.103  57584.0   142.250.183.36   443.0     57.0  20695.0   \n",
              "2       192.168.0.103  56245.0  142.250.182.238   443.0     32.0   8167.0   \n",
              "3       192.168.0.103  52458.0     34.120.240.7   443.0     50.0  10723.0   \n",
              "4       192.168.0.103  64882.0    157.240.16.52   443.0     87.0  50414.0   \n",
              "...               ...      ...              ...     ...      ...      ...   \n",
              "138096    192.168.1.7  63919.0    34.149.43.113   443.0     29.0   9133.0   \n",
              "138097    192.168.1.7  63920.0    184.26.169.72   443.0     21.0   3153.0   \n",
              "138098    192.168.1.7  63921.0    20.44.229.112   443.0    120.0  74957.0   \n",
              "138099    192.168.1.7  63922.0       3.218.71.8   443.0     19.0   8424.0   \n",
              "138100              \u001a      NaN              NaN     NaN      NaN      NaN   \n",
              "\n",
              "        Packets A → B  Bytes A → B  Packets B → A  Bytes B → A     Rel Start  \\\n",
              "0                58.0      24102.0           66.0      15446.0      2.189866   \n",
              "1                28.0       6243.0           29.0      14452.0      3.438290   \n",
              "2                16.0       3428.0           16.0       4739.0      6.224338   \n",
              "3                27.0       5281.0           23.0       5442.0      6.231467   \n",
              "4                41.0      17976.0           46.0      32438.0      6.413699   \n",
              "...               ...          ...            ...          ...           ...   \n",
              "138096           18.0       2394.0           11.0       6739.0  14977.351270   \n",
              "138097           10.0       1890.0           11.0       1263.0  15071.377690   \n",
              "138098           68.0      42680.0           52.0      32277.0  15079.548760   \n",
              "138099           10.0       1910.0            9.0       6514.0  15253.367570   \n",
              "138100            NaN          NaN            NaN          NaN           NaN   \n",
              "\n",
              "          Duration  Bits/s A → B  Bits/s B → A  Target  \n",
              "0        71.960428   2679.472668   1717.165996     1.0  \n",
              "1         6.027378   8286.190115  19181.806750     1.0  \n",
              "2         6.776927   4046.671891   5594.275990     1.0  \n",
              "3         6.725964   6281.330081   6472.826795     1.0  \n",
              "4        36.352234   3955.960451   7138.598415     1.0  \n",
              "...            ...           ...           ...     ...  \n",
              "138096  112.948061    169.564664    477.316738     0.0  \n",
              "138097  180.212772     83.900824     56.067058     0.0  \n",
              "138098  180.737504   1889.148585   1428.679683     0.0  \n",
              "138099    3.271286   4670.945922  15930.126560     0.0  \n",
              "138100         NaN           NaN           NaN     NaN  \n",
              "\n",
              "[138101 rows x 15 columns]"
            ]
          },
          "execution_count": 121,
          "metadata": {},
          "output_type": "execute_result"
        }
      ],
      "source": [
        "# Dict to store the model metrics like accuracy, f1, recall\n",
        "metrics = {}\n",
        "\n",
        "DATASET_PATH = \"final-merged-dataset.csv\"\n",
        "df = pd.read_csv(DATASET_PATH)\n",
        "\n",
        "# Initially set the clean_dataset as dataset itself. Using two variables clean_dataset\n",
        "# and dataset to retain full dataset because after cleaning dataset we lose some data.\n",
        "dataset = pd.read_csv(DATASET_PATH)\n",
        "df\n"
      ]
    },
    {
      "cell_type": "markdown",
      "metadata": {},
      "source": [
        "Data Sepecfications\n"
      ]
    },
    {
      "cell_type": "code",
      "execution_count": 122,
      "metadata": {
        "colab": {
          "base_uri": "https://localhost:8080/",
          "height": 419
        },
        "id": "JXPHHlCtcyqt",
        "outputId": "5e139a6f-b54c-4dc0-90e3-d74f5a98a787"
      },
      "outputs": [
        {
          "name": "stdout",
          "output_type": "stream",
          "text": [
            "Total packets: 138101\n",
            "1.0    50482\n",
            "0.0    41330\n",
            "Name: Target, dtype: int64\n"
          ]
        },
        {
          "data": {
            "image/png": "[encoded data removed]",
            "text/plain": [
              "<Figure size 432x288 with 1 Axes>"
            ]
          },
          "metadata": {
            "needs_background": "light"
          },
          "output_type": "display_data"
        }
      ],
      "source": [
        "packet_protocol = df[\"Target\"]\n",
        "packet_protocol = [\"QUIC\" if x else \"Non-QUIC\" for x in packet_protocol]\n",
        "\n",
        "print(\"Total packets: {0}\".format(len(packet_protocol)))\n",
        "print(df[\"Target\"].value_counts())\n",
        "\n",
        "# chart = sns.countplot(packet_protocol)\n",
        "plt.title(\"Dataset QUIC packet count\")\n",
        "plt.xlabel(\"Type of packet\")\n",
        "plt.ylabel(\"Count\")\n",
        "# plt.show()\n",
        "\n",
        "barlist = plt.bar([\"QUIC\", \"Non-QUIC\"], [50482, 41330], color=\"blue\", width=0.4)\n",
        "barlist[1].set_color(\"orange\")\n",
        "plt.show()\n"
      ]
    },
    {
      "cell_type": "markdown",
      "metadata": {},
      "source": [
        "Data Pre-processing\n"
      ]
    },
    {
      "cell_type": "code",
      "execution_count": 123,
      "metadata": {
        "colab": {
          "base_uri": "https://localhost:8080/",
          "height": 398
        },
        "id": "91dawZkNcKg8",
        "outputId": "a1c98266-13a9-445d-ce51-9d2e3873b5aa"
      },
      "outputs": [
        {
          "name": "stdout",
          "output_type": "stream",
          "text": [
            "Dropped strings... 1795313\n",
            "Dropped Unamed column... 1795313\n",
            "Dropped NA values... 1193556\n",
            "Shuffling Resetting index... 1193556\n",
            "Dropped targets column... 1101744\n",
            "\n",
            "Dataset size: (138101, 15) = 2071515, Cleaned dataset size: (91812, 12) = 1101744, Clean percentage: 46.81%\n"
          ]
        },
        {
          "data": {
            "text/html": [
              "<div>\n",
              "<style scoped>\n",
              "    .dataframe tbody tr th:only-of-type {\n",
              "        vertical-align: middle;\n",
              "    }\n",
              "\n",
              "    .dataframe tbody tr th {\n",
              "        vertical-align: top;\n",
              "    }\n",
              "\n",
              "    .dataframe thead th {\n",
              "        text-align: right;\n",
              "    }\n",
              "</style>\n",
              "<table border=\"1\" class=\"dataframe\">\n",
              "  <thead>\n",
              "    <tr style=\"text-align: right;\">\n",
              "      <th></th>\n",
              "      <th>Port A</th>\n",
              "      <th>Port B</th>\n",
              "      <th>Packets</th>\n",
              "      <th>Bytes</th>\n",
              "      <th>Packets A → B</th>\n",
              "      <th>Bytes A → B</th>\n",
              "      <th>Packets B → A</th>\n",
              "      <th>Bytes B → A</th>\n",
              "      <th>Rel Start</th>\n",
              "      <th>Duration</th>\n",
              "      <th>Bits/s A → B</th>\n",
              "      <th>Bits/s B → A</th>\n",
              "    </tr>\n",
              "  </thead>\n",
              "  <tbody>\n",
              "    <tr>\n",
              "      <th>0</th>\n",
              "      <td>60503.0</td>\n",
              "      <td>53.0</td>\n",
              "      <td>2.0</td>\n",
              "      <td>249.0</td>\n",
              "      <td>1.0</td>\n",
              "      <td>91.0</td>\n",
              "      <td>1.0</td>\n",
              "      <td>158.0</td>\n",
              "      <td>3370.920000</td>\n",
              "      <td>0.000000</td>\n",
              "      <td>0.000000</td>\n",
              "      <td>0.000000e+00</td>\n",
              "    </tr>\n",
              "    <tr>\n",
              "      <th>1</th>\n",
              "      <td>52058.0</td>\n",
              "      <td>443.0</td>\n",
              "      <td>18.0</td>\n",
              "      <td>8980.0</td>\n",
              "      <td>9.0</td>\n",
              "      <td>3968.0</td>\n",
              "      <td>9.0</td>\n",
              "      <td>5012.0</td>\n",
              "      <td>8398.632591</td>\n",
              "      <td>15.148815</td>\n",
              "      <td>2095.477435</td>\n",
              "      <td>2.646808e+03</td>\n",
              "    </tr>\n",
              "    <tr>\n",
              "      <th>2</th>\n",
              "      <td>47877.0</td>\n",
              "      <td>443.0</td>\n",
              "      <td>16.0</td>\n",
              "      <td>9609.0</td>\n",
              "      <td>8.0</td>\n",
              "      <td>4310.0</td>\n",
              "      <td>8.0</td>\n",
              "      <td>5299.0</td>\n",
              "      <td>32283.813344</td>\n",
              "      <td>15.165977</td>\n",
              "      <td>2273.509976</td>\n",
              "      <td>2.795204e+03</td>\n",
              "    </tr>\n",
              "    <tr>\n",
              "      <th>3</th>\n",
              "      <td>62595.0</td>\n",
              "      <td>5355.0</td>\n",
              "      <td>2.0</td>\n",
              "      <td>168.0</td>\n",
              "      <td>2.0</td>\n",
              "      <td>168.0</td>\n",
              "      <td>0.0</td>\n",
              "      <td>0.0</td>\n",
              "      <td>571612.235097</td>\n",
              "      <td>0.101116</td>\n",
              "      <td>13291.665022</td>\n",
              "      <td>0.000000e+00</td>\n",
              "    </tr>\n",
              "    <tr>\n",
              "      <th>4</th>\n",
              "      <td>51269.0</td>\n",
              "      <td>443.0</td>\n",
              "      <td>20.0</td>\n",
              "      <td>12474.0</td>\n",
              "      <td>11.0</td>\n",
              "      <td>5823.0</td>\n",
              "      <td>9.0</td>\n",
              "      <td>6651.0</td>\n",
              "      <td>3894.087890</td>\n",
              "      <td>1.130764</td>\n",
              "      <td>41196.925265</td>\n",
              "      <td>4.705491e+04</td>\n",
              "    </tr>\n",
              "    <tr>\n",
              "      <th>...</th>\n",
              "      <td>...</td>\n",
              "      <td>...</td>\n",
              "      <td>...</td>\n",
              "      <td>...</td>\n",
              "      <td>...</td>\n",
              "      <td>...</td>\n",
              "      <td>...</td>\n",
              "      <td>...</td>\n",
              "      <td>...</td>\n",
              "      <td>...</td>\n",
              "      <td>...</td>\n",
              "      <td>...</td>\n",
              "    </tr>\n",
              "    <tr>\n",
              "      <th>91807</th>\n",
              "      <td>63837.0</td>\n",
              "      <td>443.0</td>\n",
              "      <td>4344.0</td>\n",
              "      <td>4356172.0</td>\n",
              "      <td>996.0</td>\n",
              "      <td>88275.0</td>\n",
              "      <td>3348.0</td>\n",
              "      <td>4267897.0</td>\n",
              "      <td>281.787219</td>\n",
              "      <td>3.475390</td>\n",
              "      <td>203200.216400</td>\n",
              "      <td>9.824272e+06</td>\n",
              "    </tr>\n",
              "    <tr>\n",
              "      <th>91808</th>\n",
              "      <td>56049.0</td>\n",
              "      <td>53.0</td>\n",
              "      <td>2.0</td>\n",
              "      <td>209.0</td>\n",
              "      <td>1.0</td>\n",
              "      <td>76.0</td>\n",
              "      <td>1.0</td>\n",
              "      <td>133.0</td>\n",
              "      <td>805.470000</td>\n",
              "      <td>0.000000</td>\n",
              "      <td>0.000000</td>\n",
              "      <td>0.000000e+00</td>\n",
              "    </tr>\n",
              "    <tr>\n",
              "      <th>91809</th>\n",
              "      <td>53172.0</td>\n",
              "      <td>19302.0</td>\n",
              "      <td>14.0</td>\n",
              "      <td>952.0</td>\n",
              "      <td>7.0</td>\n",
              "      <td>434.0</td>\n",
              "      <td>7.0</td>\n",
              "      <td>518.0</td>\n",
              "      <td>779345.734724</td>\n",
              "      <td>51.533692</td>\n",
              "      <td>67.373399</td>\n",
              "      <td>8.041341e+01</td>\n",
              "    </tr>\n",
              "    <tr>\n",
              "      <th>91810</th>\n",
              "      <td>38073.0</td>\n",
              "      <td>443.0</td>\n",
              "      <td>6.0</td>\n",
              "      <td>7070.0</td>\n",
              "      <td>6.0</td>\n",
              "      <td>7070.0</td>\n",
              "      <td>0.0</td>\n",
              "      <td>0.0</td>\n",
              "      <td>807141.714324</td>\n",
              "      <td>3.996474</td>\n",
              "      <td>14152.475407</td>\n",
              "      <td>0.000000e+00</td>\n",
              "    </tr>\n",
              "    <tr>\n",
              "      <th>91811</th>\n",
              "      <td>65249.0</td>\n",
              "      <td>443.0</td>\n",
              "      <td>27.0</td>\n",
              "      <td>8768.0</td>\n",
              "      <td>15.0</td>\n",
              "      <td>3056.0</td>\n",
              "      <td>12.0</td>\n",
              "      <td>5712.0</td>\n",
              "      <td>23431.811682</td>\n",
              "      <td>31.707456</td>\n",
              "      <td>771.048929</td>\n",
              "      <td>1.441175e+03</td>\n",
              "    </tr>\n",
              "  </tbody>\n",
              "</table>\n",
              "<p>91812 rows × 12 columns</p>\n",
              "</div>"
            ],
            "text/plain": [
              "        Port A   Port B  Packets      Bytes  Packets A → B  Bytes A → B  \\\n",
              "0      60503.0     53.0      2.0      249.0            1.0         91.0   \n",
              "1      52058.0    443.0     18.0     8980.0            9.0       3968.0   \n",
              "2      47877.0    443.0     16.0     9609.0            8.0       4310.0   \n",
              "3      62595.0   5355.0      2.0      168.0            2.0        168.0   \n",
              "4      51269.0    443.0     20.0    12474.0           11.0       5823.0   \n",
              "...        ...      ...      ...        ...            ...          ...   \n",
              "91807  63837.0    443.0   4344.0  4356172.0          996.0      88275.0   \n",
              "91808  56049.0     53.0      2.0      209.0            1.0         76.0   \n",
              "91809  53172.0  19302.0     14.0      952.0            7.0        434.0   \n",
              "91810  38073.0    443.0      6.0     7070.0            6.0       7070.0   \n",
              "91811  65249.0    443.0     27.0     8768.0           15.0       3056.0   \n",
              "\n",
              "       Packets B → A  Bytes B → A      Rel Start   Duration   Bits/s A → B  \\\n",
              "0                1.0        158.0    3370.920000   0.000000       0.000000   \n",
              "1                9.0       5012.0    8398.632591  15.148815    2095.477435   \n",
              "2                8.0       5299.0   32283.813344  15.165977    2273.509976   \n",
              "3                0.0          0.0  571612.235097   0.101116   13291.665022   \n",
              "4                9.0       6651.0    3894.087890   1.130764   41196.925265   \n",
              "...              ...          ...            ...        ...            ...   \n",
              "91807         3348.0    4267897.0     281.787219   3.475390  203200.216400   \n",
              "91808            1.0        133.0     805.470000   0.000000       0.000000   \n",
              "91809            7.0        518.0  779345.734724  51.533692      67.373399   \n",
              "91810            0.0          0.0  807141.714324   3.996474   14152.475407   \n",
              "91811           12.0       5712.0   23431.811682  31.707456     771.048929   \n",
              "\n",
              "       Bits/s B → A  \n",
              "0      0.000000e+00  \n",
              "1      2.646808e+03  \n",
              "2      2.795204e+03  \n",
              "3      0.000000e+00  \n",
              "4      4.705491e+04  \n",
              "...             ...  \n",
              "91807  9.824272e+06  \n",
              "91808  0.000000e+00  \n",
              "91809  8.041341e+01  \n",
              "91810  0.000000e+00  \n",
              "91811  1.441175e+03  \n",
              "\n",
              "[91812 rows x 12 columns]"
            ]
          },
          "execution_count": 123,
          "metadata": {},
          "output_type": "execute_result"
        }
      ],
      "source": [
        "def preprocess(df):\n",
        "    # 1. Remove the strings columnns from dataset.\n",
        "    df.drop(\n",
        "        [\n",
        "            \"Address A\",\n",
        "            \"Address B\",\n",
        "        ],\n",
        "        axis=1,\n",
        "        inplace=True,\n",
        "    )\n",
        "    print(\"Dropped strings...\", df.size)\n",
        "\n",
        "    # 2. Remove 'Unnamed' column from dataset. This comes from reading CSV.\n",
        "    # https://stackoverflow.com/questions/43983622/remove-unnamed-columns-in-pandas-dataframe\n",
        "    # df.drop(df.columns[df.columns.str.contains('unnamed',case = False)],axis = 1, inplace = True)\n",
        "    print(\"Dropped Unamed column...\", df.size)\n",
        "\n",
        "    # 3. Remove the invalid rows ie axis=0 from the dataset.\n",
        "    df.dropna(axis=0, inplace=True)\n",
        "    print(\"Dropped NA values...\", df.size)\n",
        "\n",
        "    # 4. After deleting the rows, shuffle and delete the index column.\n",
        "    df = df.sample(frac=1).reset_index(drop=True)\n",
        "    print(\"Shuffling Resetting index...\", df.size)\n",
        "\n",
        "    # 5. Get the result(quic) column values and remove dataset.\n",
        "    targets = list(df[\"Target\"].values)\n",
        "    df.drop(df.columns[len(df.columns) - 1], axis=1, inplace=True)\n",
        "    print(\"Dropped targets column...\", df.size)\n",
        "\n",
        "    return df, targets\n",
        "\n",
        "\n",
        "initial_size = dataset.size\n",
        "df, targets = preprocess(df)\n",
        "final_size = df.size\n",
        "\n",
        "if df.isnull().values.any():\n",
        "    print(\"Failed to clean dataset. There are NaN/null values in dataset.\")\n",
        "    nan_cols = [i for i in df.columns if df[i].isnull().any()]\n",
        "    print(\"Columns with null values: \", *nan_cols)\n",
        "    exit(1)\n",
        "\n",
        "\n",
        "print(\n",
        "    \"\\nDataset size: {0} = {1}, Cleaned dataset size: {2} = {3}, Clean percentage: {4}%\".format(\n",
        "        dataset.shape,\n",
        "        initial_size,\n",
        "        df.shape,\n",
        "        final_size,\n",
        "        round(100 - (final_size / initial_size) * 100, 2),\n",
        "    )\n",
        ")\n",
        "\n",
        "df\n"
      ]
    },
    {
      "cell_type": "markdown",
      "metadata": {},
      "source": [
        "Split train and test\n"
      ]
    },
    {
      "cell_type": "code",
      "execution_count": 124,
      "metadata": {
        "id": "n6R-wJ6XdEWB"
      },
      "outputs": [
        {
          "name": "stdout",
          "output_type": "stream",
          "text": [
            "Size of test: 27544, 27544\n",
            "Size of train: 64268, 64268\n"
          ]
        }
      ],
      "source": [
        "from sklearn.model_selection import KFold\n",
        "from sklearn.datasets import make_classification\n",
        "\n",
        "X_train, X_test, Y_train, Y_test = train_test_split(\n",
        "    df, targets, test_size=0.30, random_state=7, shuffle=True\n",
        ")\n",
        "\n",
        "X, Y = make_classification(\n",
        "    n_samples=100, n_features=12, n_informative=12, n_redundant=0, random_state=7\n",
        ")\n",
        "cv = KFold(n_splits=4, random_state=7, shuffle=True)\n",
        "cv\n",
        "\n",
        "print(\"Size of test: {0}, {1}\".format(len(X_test), len(Y_test)))\n",
        "print(\"Size of train: {0}, {1}\".format(len(X_train), len(Y_train)))\n"
      ]
    },
    {
      "cell_type": "markdown",
      "metadata": {
        "id": "8pxOKEu2dvKR"
      },
      "source": [
        "LOGISTIC REGRESSION\n"
      ]
    },
    {
      "cell_type": "code",
      "execution_count": 125,
      "metadata": {
        "colab": {
          "base_uri": "https://localhost:8080/"
        },
        "id": "qli3Dffiduvc",
        "outputId": "a247915e-c3a4-41ad-f56c-557192e9227f"
      },
      "outputs": [
        {
          "name": "stdout",
          "output_type": "stream",
          "text": [
            "              precision    recall  f1-score   support\n",
            "\n",
            "         0.0       0.66      0.81      0.73     12378\n",
            "         1.0       0.81      0.67      0.73     15166\n",
            "\n",
            "    accuracy                           0.73     27544\n",
            "   macro avg       0.74      0.74      0.73     27544\n",
            "weighted avg       0.74      0.73      0.73     27544\n",
            "\n",
            "Accuracy: 73.05039209991287%\n",
            "f1-score: 73.13913515469513%\n",
            "Accuracy: 66.63589608334432%\n",
            "Precision: 81.04900152377897%\n",
            "CV Accuracy: 85.000 (0.017)\n"
          ]
        }
      ],
      "source": [
        "from sklearn.model_selection import cross_val_score\n",
        "from sklearn.linear_model import LogisticRegression\n",
        "from sklearn.metrics import classification_report\n",
        "\n",
        "model = LogisticRegression(random_state=7)\n",
        "clf = model.fit(X_train, Y_train)\n",
        "predictions = clf.predict(X_test)\n",
        "\n",
        "print(classification_report(Y_test, predictions))\n",
        "\n",
        "score = model.score(X_test, Y_test) * 100\n",
        "f1 = f1_score(Y_test, predictions) * 100\n",
        "recall = recall_score(Y_test, predictions) * 100\n",
        "precision = precision_score(Y_test, predictions) * 100\n",
        "\n",
        "print(\"Accuracy: {0}%\".format(score))\n",
        "print(\"f1-score: {0}%\".format(f1))\n",
        "print(\"Accuracy: {0}%\".format(recall))\n",
        "print(\"Precision: {0}%\".format(precision))\n",
        "\n",
        "scores = cross_val_score(model, X, Y, scoring=\"accuracy\", cv=cv, n_jobs=-1)\n",
        "print(\"CV Accuracy: %.3f (%.3f)\" % (mean(scores) * 100, std(scores)))\n",
        "\n",
        "# Save the model to file.\n",
        "joblib.dump(model, path.join(\"models\", \"LogisticRegression\"))\n",
        "\n",
        "metrics[\"LogisticRegression\"] = {\n",
        "    \"Accuracy\": score,\n",
        "    \"f1-score\": f1,\n",
        "    \"Recall\": recall,\n",
        "    \"Precision\": precision,\n",
        "    \"CVAccuracy\": mean(scores),\n",
        "}\n"
      ]
    },
    {
      "cell_type": "markdown",
      "metadata": {
        "id": "tBzbNGaseSvb"
      },
      "source": [
        "DECISION TREE\n"
      ]
    },
    {
      "cell_type": "code",
      "execution_count": 126,
      "metadata": {
        "colab": {
          "base_uri": "https://localhost:8080/"
        },
        "id": "ZBP5t88DdNjh",
        "outputId": "c0af4e75-38de-431c-eb57-0402ee9e865a"
      },
      "outputs": [
        {
          "name": "stdout",
          "output_type": "stream",
          "text": [
            "              precision    recall  f1-score   support\n",
            "\n",
            "         0.0       0.88      0.91      0.90     12378\n",
            "         1.0       0.92      0.90      0.91     15166\n",
            "\n",
            "    accuracy                           0.91     27544\n",
            "   macro avg       0.90      0.91      0.90     27544\n",
            "weighted avg       0.91      0.91      0.91     27544\n",
            "\n",
            "Accuracy: 90.51336044147546%\n",
            "f1-score: 91.29377269849732%\n",
            "Accuracy: 90.33364103916655%\n",
            "Precision: 92.27453357580656%\n",
            "CV Accuracy: 68.000 (0.040)\n"
          ]
        },
        {
          "data": {
            "text/plain": [
              "['models/DecisionTree']"
            ]
          },
          "execution_count": 126,
          "metadata": {},
          "output_type": "execute_result"
        }
      ],
      "source": [
        "from sklearn.tree import DecisionTreeClassifier\n",
        "from sklearn.metrics import classification_report\n",
        "\n",
        "model = DecisionTreeClassifier(random_state=0)\n",
        "model.fit(X_train, Y_train)\n",
        "predictions = model.predict(X_test)\n",
        "\n",
        "print(classification_report(Y_test, predictions))\n",
        "\n",
        "score = model.score(X_test, Y_test) * 100\n",
        "f1 = f1_score(Y_test, predictions) * 100\n",
        "recall = recall_score(Y_test, predictions) * 100\n",
        "precision = precision_score(Y_test, predictions) * 100\n",
        "\n",
        "print(\"Accuracy: {0}%\".format(score))\n",
        "print(\"f1-score: {0}%\".format(f1))\n",
        "print(\"Accuracy: {0}%\".format(recall))\n",
        "print(\"Precision: {0}%\".format(precision))\n",
        "\n",
        "scores = cross_val_score(model, X, Y, scoring=\"accuracy\", cv=cv, n_jobs=-1)\n",
        "print(\"CV Accuracy: %.3f (%.3f)\" % (mean(scores) * 100, std(scores)))\n",
        "metrics[\"DecisionTree\"] = {\n",
        "    \"Accuracy\": score,\n",
        "    \"f1-score\": f1,\n",
        "    \"Recall\": recall,\n",
        "    \"Precision\": precision,\n",
        "    \"CVAccuracy\": mean(scores),\n",
        "}\n",
        "\n",
        "# Save the model to file.\n",
        "joblib.dump(model, path.join(\"models\", \"DecisionTree\"))\n"
      ]
    },
    {
      "cell_type": "markdown",
      "metadata": {
        "id": "LNnzXuWBec5r"
      },
      "source": [
        "GRADIENT BOOST\n"
      ]
    },
    {
      "cell_type": "code",
      "execution_count": 127,
      "metadata": {
        "colab": {
          "base_uri": "https://localhost:8080/"
        },
        "id": "CBwiB1Kneeoa",
        "outputId": "85a5979e-9f06-49ba-f273-4c11607b71d3"
      },
      "outputs": [
        {
          "name": "stdout",
          "output_type": "stream",
          "text": [
            "              precision    recall  f1-score   support\n",
            "\n",
            "         0.0       0.91      0.94      0.92     12378\n",
            "         1.0       0.95      0.92      0.93     15166\n",
            "\n",
            "    accuracy                           0.93     27544\n",
            "   macro avg       0.93      0.93      0.93     27544\n",
            "weighted avg       0.93      0.93      0.93     27544\n",
            "\n",
            "Accuracy: 92.94946267789719%\n",
            "f1-score: 93.48933887622367%\n",
            "Accuracy: 91.93590927073717%\n",
            "Precision: 95.09616696221525%\n",
            "CV Accuracy: 76.000 (0.075)\n"
          ]
        },
        {
          "data": {
            "text/plain": [
              "['models/GradientBoost']"
            ]
          },
          "execution_count": 127,
          "metadata": {},
          "output_type": "execute_result"
        }
      ],
      "source": [
        "from sklearn.ensemble import GradientBoostingClassifier\n",
        "from sklearn.metrics import classification_report\n",
        "\n",
        "model = GradientBoostingClassifier(random_state=0)\n",
        "model.fit(X_train, Y_train)\n",
        "predictions = model.predict(X_test)\n",
        "\n",
        "print(classification_report(Y_test, predictions))\n",
        "\n",
        "score = model.score(X_test, Y_test) * 100\n",
        "f1 = f1_score(Y_test, predictions) * 100\n",
        "recall = recall_score(Y_test, predictions) * 100\n",
        "precision = precision_score(Y_test, predictions) * 100\n",
        "\n",
        "\n",
        "print(\"Accuracy: {0}%\".format(score))\n",
        "print(\"f1-score: {0}%\".format(f1))\n",
        "print(\"Accuracy: {0}%\".format(recall))\n",
        "print(\"Precision: {0}%\".format(precision))\n",
        "\n",
        "scores = cross_val_score(model, X, Y, scoring=\"accuracy\", cv=cv, n_jobs=-1)\n",
        "print(\"CV Accuracy: %.3f (%.3f)\" % (mean(scores) * 100, std(scores)))\n",
        "metrics[\"GradientBoost\"] = {\n",
        "    \"Accuracy\": score,\n",
        "    \"f1-score\": f1,\n",
        "    \"Recall\": recall,\n",
        "    \"Precision\": precision,\n",
        "    \"CVAccuracy\": mean(scores),\n",
        "}\n",
        "\n",
        "# Save the model to file.\n",
        "joblib.dump(model, path.join(\"models\", \"GradientBoost\"))\n"
      ]
    },
    {
      "cell_type": "markdown",
      "metadata": {
        "id": "irgQU-dIeoWJ"
      },
      "source": [
        "KNN\n"
      ]
    },
    {
      "cell_type": "code",
      "execution_count": 128,
      "metadata": {
        "colab": {
          "base_uri": "https://localhost:8080/"
        },
        "id": "GE8f1QmieqyH",
        "outputId": "f6f5bde9-1ec9-4041-bed5-0d429d72d64a"
      },
      "outputs": [
        {
          "name": "stdout",
          "output_type": "stream",
          "text": [
            "              precision    recall  f1-score   support\n",
            "\n",
            "         0.0       0.88      0.90      0.89     12378\n",
            "         1.0       0.92      0.90      0.91     15166\n",
            "\n",
            "    accuracy                           0.90     27544\n",
            "   macro avg       0.90      0.90      0.90     27544\n",
            "weighted avg       0.90      0.90      0.90     27544\n",
            "\n",
            "Accuracy: 89.99056055765321%\n",
            "f1-score: 90.842661175142%\n",
            "Accuracy: 90.16879862851115%\n",
            "Precision: 91.52667157486111%\n",
            "CV Accuracy: 87.000 (0.052)\n"
          ]
        },
        {
          "data": {
            "text/plain": [
              "['models/KNN']"
            ]
          },
          "execution_count": 128,
          "metadata": {},
          "output_type": "execute_result"
        }
      ],
      "source": [
        "from sklearn.neighbors import KNeighborsClassifier\n",
        "from sklearn.metrics import classification_report\n",
        "\n",
        "model = KNeighborsClassifier()\n",
        "model.fit(X_train, Y_train)\n",
        "predictions = model.predict(X_test)\n",
        "\n",
        "print(classification_report(Y_test, predictions))\n",
        "\n",
        "score = model.score(X_test, Y_test) * 100\n",
        "f1 = f1_score(Y_test, predictions) * 100\n",
        "recall = recall_score(Y_test, predictions) * 100\n",
        "precision = precision_score(Y_test, predictions) * 100\n",
        "\n",
        "print(\"Accuracy: {0}%\".format(score))\n",
        "print(\"f1-score: {0}%\".format(f1))\n",
        "print(\"Accuracy: {0}%\".format(recall))\n",
        "print(\"Precision: {0}%\".format(precision))\n",
        "\n",
        "scores = cross_val_score(model, X, Y, scoring=\"accuracy\", cv=cv, n_jobs=-1)\n",
        "print(\"CV Accuracy: %.3f (%.3f)\" % (mean(scores) * 100, std(scores)))\n",
        "metrics[\"KNN\"] = {\n",
        "    \"Accuracy\": score,\n",
        "    \"f1-score\": f1,\n",
        "    \"Recall\": recall,\n",
        "    \"Precision\": precision,\n",
        "    \"CVAccuracy\": mean(scores),\n",
        "}\n",
        "\n",
        "# Save the model to file.\n",
        "joblib.dump(model, path.join(\"models\", \"KNN\"))\n"
      ]
    },
    {
      "cell_type": "markdown",
      "metadata": {
        "id": "htz5P4kSeuKG"
      },
      "source": [
        "RANDOM FOREST\n"
      ]
    },
    {
      "cell_type": "code",
      "execution_count": 129,
      "metadata": {
        "colab": {
          "base_uri": "https://localhost:8080/"
        },
        "id": "kZYni6x1ewPy",
        "outputId": "a457ebe8-b31b-407b-a638-9daeb770aecb"
      },
      "outputs": [
        {
          "name": "stdout",
          "output_type": "stream",
          "text": [
            "              precision    recall  f1-score   support\n",
            "\n",
            "         0.0       0.90      0.90      0.90     12378\n",
            "         1.0       0.92      0.92      0.92     15166\n",
            "\n",
            "    accuracy                           0.91     27544\n",
            "   macro avg       0.91      0.91      0.91     27544\n",
            "weighted avg       0.91      0.91      0.91     27544\n",
            "\n",
            "Accuracy: 90.95628812082485%\n",
            "f1-score: 91.77317612867006%\n",
            "Accuracy: 91.61281814585257%\n",
            "Precision: 91.93409647323496%\n",
            "CV Accuracy: 81.000 (0.077)\n"
          ]
        },
        {
          "data": {
            "text/plain": [
              "['models/RandomForest']"
            ]
          },
          "execution_count": 129,
          "metadata": {},
          "output_type": "execute_result"
        }
      ],
      "source": [
        "from sklearn.ensemble import RandomForestClassifier\n",
        "from sklearn.metrics import classification_report\n",
        "\n",
        "model = RandomForestClassifier(random_state=0)\n",
        "model.fit(X_train, Y_train)\n",
        "predictions = model.predict(X_test)\n",
        "\n",
        "print(classification_report(Y_test, predictions))\n",
        "\n",
        "score = model.score(X_test, Y_test) * 100\n",
        "f1 = f1_score(Y_test, predictions) * 100\n",
        "recall = recall_score(Y_test, predictions) * 100\n",
        "precision = precision_score(Y_test, predictions) * 100\n",
        "\n",
        "\n",
        "print(\"Accuracy: {0}%\".format(score))\n",
        "print(\"f1-score: {0}%\".format(f1))\n",
        "print(\"Accuracy: {0}%\".format(recall))\n",
        "print(\"Precision: {0}%\".format(precision))\n",
        "\n",
        "scores = cross_val_score(model, X, Y, scoring=\"accuracy\", cv=cv, n_jobs=-1)\n",
        "print(\"CV Accuracy: %.3f (%.3f)\" % (mean(scores) * 100, std(scores)))\n",
        "metrics[\"RandomForest\"] = {\n",
        "    \"Accuracy\": score,\n",
        "    \"f1-score\": f1,\n",
        "    \"Recall\": recall,\n",
        "    \"Precision\": precision,\n",
        "    \"CVAccuracy\": mean(scores),\n",
        "}\n",
        "\n",
        "# Save the model to file.\n",
        "joblib.dump(model, path.join(\"models\", \"RandomForest\"))\n"
      ]
    },
    {
      "cell_type": "markdown",
      "metadata": {},
      "source": [
        "Feature importance for random forest\n"
      ]
    },
    {
      "cell_type": "code",
      "execution_count": 130,
      "metadata": {
        "colab": {
          "base_uri": "https://localhost:8080/",
          "height": 811
        },
        "id": "PP0ew4aje0fZ",
        "outputId": "6b721aca-9dee-4860-91c7-ae08fb08bfa3"
      },
      "outputs": [
        {
          "name": "stdout",
          "output_type": "stream",
          "text": [
            "Port A           0.036363\n",
            "Port B           0.035276\n",
            "Packets          0.050140\n",
            "Bytes            0.080625\n",
            "Packets A → B    0.026901\n",
            "Bytes A → B      0.144353\n",
            "Packets B → A    0.058804\n",
            "Bytes B → A      0.126608\n",
            "Rel Start        0.079383\n",
            "Duration         0.086285\n",
            "Bits/s A → B     0.087558\n",
            "Bits/s B → A     0.187704\n",
            "dtype: float64\n"
          ]
        },
        {
          "data": {
            "image/png": "[encoded data removed]",
            "text/plain": [
              "<Figure size 432x288 with 1 Axes>"
            ]
          },
          "metadata": {
            "needs_background": "light"
          },
          "output_type": "display_data"
        }
      ],
      "source": [
        "importances = model.feature_importances_\n",
        "std = np.std([tree.feature_importances_ for tree in model.estimators_], axis=0)\n",
        "\n",
        "features = list(df.columns)\n",
        "classifier_importances = pd.Series(importances, index=features)\n",
        "print(classifier_importances)\n",
        "\n",
        "fig, ax = plt.subplots()\n",
        "classifier_importances.plot.bar(yerr=std, ax=ax)\n",
        "ax.set_title(\"Feature importances\")\n",
        "ax.set_ylabel(\"Mean decrease in impurity\")\n",
        "fig.tight_layout(rect=(0, 0, 2, 2))\n",
        "plt.show()\n"
      ]
    },
    {
      "cell_type": "markdown",
      "metadata": {
        "id": "WM-Fn3Oue3z0"
      },
      "source": [
        "ACCURACY\n"
      ]
    },
    {
      "cell_type": "code",
      "execution_count": 131,
      "metadata": {
        "colab": {
          "base_uri": "https://localhost:8080/",
          "height": 735
        },
        "id": "1aBh5tdZe863",
        "outputId": "001f76a7-d869-474c-8415-c1f6c2a4689c"
      },
      "outputs": [
        {
          "name": "stdout",
          "output_type": "stream",
          "text": [
            "LogisticRegression                  73.05039209991287%\n",
            "DecisionTree                        90.51336044147546%\n",
            "GradientBoost                       92.94946267789719%\n",
            "KNN                                 89.99056055765321%\n",
            "RandomForest                        90.95628812082485%\n"
          ]
        },
        {
          "data": {
            "image/png": "[encoded data removed]",
            "text/plain": [
              "<Figure size 720x720 with 1 Axes>"
            ]
          },
          "metadata": {
            "needs_background": "light"
          },
          "output_type": "display_data"
        }
      ],
      "source": [
        "ticks = []\n",
        "accuracy = []\n",
        "models_accuracy = []\n",
        "\n",
        "for k, v in metrics.items():\n",
        "    accuracy.append(v[\"Accuracy\"])\n",
        "    models_accuracy.append(\n",
        "        [k, v[\"Accuracy\"], v[\"f1-score\"], v[\"Recall\"], v[\"Precision\"]]\n",
        "    )\n",
        "    print(\"{0:<35} {1}%\".format(k, v[\"Accuracy\"]))\n",
        "\n",
        "df_acc = pd.DataFrame(models_accuracy)\n",
        "df_acc.columns = [\"Models\", \"Accuracy\", \"f1-score\", \"Recall\", \"Precision\"]\n",
        "\n",
        "plt.figure(figsize=(10, 10))\n",
        "g = sns.barplot(x=\"Models\", y=\"Accuracy\", data=df_acc)\n",
        "for i in range(0, 100):\n",
        "    val = i + 0.01\n",
        "    ticks.append(val)\n",
        "g.set_yticks(ticks)\n",
        "g.set_yticklabels(ticks)\n",
        "\n",
        "plt.title(\"Accuracy on the test set\\n(the Y-Axis is between 40 and 100)\", fontsize=10)\n",
        "plt.ylim(40, 100)\n",
        "for i, p in enumerate(g.patches):\n",
        "    percentage = \"{:.2f}%\".format(accuracy[i])\n",
        "    x = p.get_x() + (p.get_width() / 2)\n",
        "    y = p.get_height() + 0.5\n",
        "    g.annotate(percentage, (x, y), ha=\"center\")\n",
        "\n",
        "plt.show()\n"
      ]
    },
    {
      "cell_type": "markdown",
      "metadata": {},
      "source": [
        "CROSS-VALIDATION ACCURACY"
      ]
    },
    {
      "cell_type": "code",
      "execution_count": 132,
      "metadata": {
        "colab": {
          "base_uri": "https://localhost:8080/",
          "height": 773
        },
        "id": "tHhtFGDjfA-M",
        "outputId": "b4c9cbe0-00fb-4688-b827-f05a3e771891"
      },
      "outputs": [
        {
          "name": "stdout",
          "output_type": "stream",
          "text": [
            "LogisticRegression                  85.0%\n",
            "DecisionTree                        68.0%\n",
            "GradientBoost                       76.0%\n",
            "KNN                                 87.0%\n",
            "RandomForest                        81.0%\n"
          ]
        },
        {
          "data": {
            "image/png": "[encoded data removed]",
            "text/plain": [
              "<Figure size 720x720 with 1 Axes>"
            ]
          },
          "metadata": {
            "needs_background": "light"
          },
          "output_type": "display_data"
        }
      ],
      "source": [
        "ticks = []\n",
        "cvaccuracy = []\n",
        "models_cvaccuracy = []\n",
        "for k, v in metrics.items():\n",
        "    try:\n",
        "        cvaccuracy.append(v[\"CVAccuracy\"] * 100)\n",
        "        models_cvaccuracy.append([k, v[\"CVAccuracy\"] * 100])\n",
        "        print(\"{0:<35} {1}%\".format(k, v[\"CVAccuracy\"] * 100))\n",
        "\n",
        "    except KeyError:\n",
        "        cvaccuracy.append(10.30)\n",
        "        models_cvaccuracy.append(10.30)\n",
        "        print(\"{0:<35} {1}%\".format(k, 1.03))\n",
        "        continue\n",
        "\n",
        "\n",
        "df_acc2 = pd.DataFrame(models_cvaccuracy)\n",
        "df_acc2.columns = [\"Models\", \"CVAccuracy\"]\n",
        "\n",
        "plt.figure(figsize=(10, 10))\n",
        "g = sns.barplot(x=\"Models\", y=\"CVAccuracy\", data=df_acc2)\n",
        "for i in range(0, 100):\n",
        "    val = i + 0.01\n",
        "    ticks.append(val)\n",
        "g.set_yticks(ticks)\n",
        "g.set_yticklabels(ticks)\n",
        "\n",
        "plt.title(\"Accuracy on the test set\\n(the Y-Axis is between 40 and 100)\", fontsize=10)\n",
        "plt.ylim(40, 100)\n",
        "for i, p in enumerate(g.patches):\n",
        "    percentage = \"{:.2f}%\".format(cvaccuracy[i])\n",
        "    x = p.get_x() + (p.get_width() / 2)\n",
        "    y = p.get_height() + 0.5\n",
        "    g.annotate(percentage, (x, y), ha=\"center\")\n",
        "\n",
        "plt.show()\n"
      ]
    },
    {
      "cell_type": "code",
      "execution_count": 133,
      "metadata": {
        "colab": {
          "base_uri": "https://localhost:8080/",
          "height": 206
        },
        "id": "Cf-6CcBqfEwn",
        "outputId": "d7a40ac8-c41b-4187-ce05-72d356962cbe"
      },
      "outputs": [
        {
          "data": {
            "text/html": [
              "<div>\n",
              "<style scoped>\n",
              "    .dataframe tbody tr th:only-of-type {\n",
              "        vertical-align: middle;\n",
              "    }\n",
              "\n",
              "    .dataframe tbody tr th {\n",
              "        vertical-align: top;\n",
              "    }\n",
              "\n",
              "    .dataframe thead th {\n",
              "        text-align: right;\n",
              "    }\n",
              "</style>\n",
              "<table border=\"1\" class=\"dataframe\">\n",
              "  <thead>\n",
              "    <tr style=\"text-align: right;\">\n",
              "      <th></th>\n",
              "      <th>Models</th>\n",
              "      <th>Accuracy</th>\n",
              "      <th>f1-score</th>\n",
              "      <th>Recall</th>\n",
              "      <th>Precision</th>\n",
              "    </tr>\n",
              "  </thead>\n",
              "  <tbody>\n",
              "    <tr>\n",
              "      <th>0</th>\n",
              "      <td>LogisticRegression</td>\n",
              "      <td>73.050392</td>\n",
              "      <td>73.139135</td>\n",
              "      <td>66.635896</td>\n",
              "      <td>81.049002</td>\n",
              "    </tr>\n",
              "    <tr>\n",
              "      <th>1</th>\n",
              "      <td>DecisionTree</td>\n",
              "      <td>90.513360</td>\n",
              "      <td>91.293773</td>\n",
              "      <td>90.333641</td>\n",
              "      <td>92.274534</td>\n",
              "    </tr>\n",
              "    <tr>\n",
              "      <th>2</th>\n",
              "      <td>GradientBoost</td>\n",
              "      <td>92.949463</td>\n",
              "      <td>93.489339</td>\n",
              "      <td>91.935909</td>\n",
              "      <td>95.096167</td>\n",
              "    </tr>\n",
              "    <tr>\n",
              "      <th>3</th>\n",
              "      <td>KNN</td>\n",
              "      <td>89.990561</td>\n",
              "      <td>90.842661</td>\n",
              "      <td>90.168799</td>\n",
              "      <td>91.526672</td>\n",
              "    </tr>\n",
              "    <tr>\n",
              "      <th>4</th>\n",
              "      <td>RandomForest</td>\n",
              "      <td>90.956288</td>\n",
              "      <td>91.773176</td>\n",
              "      <td>91.612818</td>\n",
              "      <td>91.934096</td>\n",
              "    </tr>\n",
              "  </tbody>\n",
              "</table>\n",
              "</div>"
            ],
            "text/plain": [
              "               Models   Accuracy   f1-score     Recall  Precision\n",
              "0  LogisticRegression  73.050392  73.139135  66.635896  81.049002\n",
              "1        DecisionTree  90.513360  91.293773  90.333641  92.274534\n",
              "2       GradientBoost  92.949463  93.489339  91.935909  95.096167\n",
              "3                 KNN  89.990561  90.842661  90.168799  91.526672\n",
              "4        RandomForest  90.956288  91.773176  91.612818  91.934096"
            ]
          },
          "execution_count": 133,
          "metadata": {},
          "output_type": "execute_result"
        }
      ],
      "source": [
        "df_acc.head()\n"
      ]
    },
    {
      "cell_type": "code",
      "execution_count": 134,
      "metadata": {
        "colab": {
          "base_uri": "https://localhost:8080/",
          "height": 379
        },
        "id": "Ci0pwzacfIPr",
        "outputId": "0094db96-f92a-4e71-c0bc-4ca281a6d9e6"
      },
      "outputs": [
        {
          "data": {
            "text/plain": [
              "<AxesSubplot:xlabel='Models'>"
            ]
          },
          "execution_count": 134,
          "metadata": {},
          "output_type": "execute_result"
        },
        {
          "data": {
            "image/png": "[encoded data removed]",
            "text/plain": [
              "<Figure size 432x288 with 1 Axes>"
            ]
          },
          "metadata": {
            "needs_background": "light"
          },
          "output_type": "display_data"
        }
      ],
      "source": [
        "df_acc.plot(x=\"Models\", y=[\"Accuracy\", \"f1-score\", \"Recall\", \"Precision\"], kind=\"bar\")\n"
      ]
    },
    {
      "cell_type": "markdown",
      "metadata": {
        "id": "Mmlu8_yrfKmW"
      },
      "source": [
        "CNN\n"
      ]
    },
    {
      "cell_type": "code",
      "execution_count": 135,
      "metadata": {
        "id": "YEQYc3LvfMhK"
      },
      "outputs": [],
      "source": [
        "from tensorflow import keras\n",
        "from tensorflow.keras import datasets, layers, models\n",
        "from tensorflow.keras.datasets import mnist\n",
        "from tensorflow.keras.models import Sequential\n",
        "from tensorflow.keras.layers import Conv1D\n",
        "from tensorflow.keras.layers import MaxPool1D\n",
        "from tensorflow.keras.layers import Flatten\n",
        "from tensorflow.keras.layers import Dropout\n",
        "from tensorflow.keras.layers import Dense\n"
      ]
    },
    {
      "cell_type": "code",
      "execution_count": 136,
      "metadata": {
        "id": "xNsgMyfPfPNY"
      },
      "outputs": [],
      "source": [
        "from sklearn.preprocessing import OneHotEncoder\n",
        "\n",
        "ohe = OneHotEncoder()\n",
        "Y1 = np.array(targets).reshape(-1, 1)\n",
        "Y1 = ohe.fit_transform(Y1).toarray()\n"
      ]
    },
    {
      "cell_type": "code",
      "execution_count": 137,
      "metadata": {
        "id": "n6SjaOoHfQyF"
      },
      "outputs": [],
      "source": [
        "X_train, X_test, Y_train, Y_test = train_test_split(\n",
        "    df, Y1, test_size=0.20, random_state=7, shuffle=True\n",
        ")\n"
      ]
    },
    {
      "cell_type": "code",
      "execution_count": 138,
      "metadata": {
        "colab": {
          "base_uri": "https://localhost:8080/",
          "height": 1000
        },
        "id": "6w5eMJxxfSpj",
        "outputId": "c4c85eca-e719-4894-ff13-6cbc20319ac7"
      },
      "outputs": [
        {
          "name": "stdout",
          "output_type": "stream",
          "text": [
            "You must install pydot (`pip install pydot`) and install graphviz (see instructions at https://graphviz.gitlab.io/download/) for plot_model/model_to_dot to work.\n"
          ]
        }
      ],
      "source": [
        "import tensorflow as tf\n",
        "\n",
        "# tf.config.run_functions_eagerly(True)\n",
        "# X_train = X_train\n",
        "# X_train = X_train.values.reshape(-1,1,16)\n",
        "X_train = np.expand_dims(X_train, axis=1)\n",
        "\n",
        "\n",
        "def make_model(input_shape):\n",
        "    # X_test=X_test.reshape(-1,1,16)\n",
        "    # Y_test=Y_test.reshape(-1,2)\n",
        "\n",
        "    input_layer = keras.layers.Input(input_shape)\n",
        "    # X_test=X_test.reshape(-1,1,16)\n",
        "    conv1 = keras.layers.Conv1D(filters=64, kernel_size=3, padding=\"same\")(input_layer)\n",
        "    conv1 = keras.layers.BatchNormalization()(conv1)\n",
        "    conv1 = keras.layers.ReLU()(conv1)\n",
        "\n",
        "    gap = keras.layers.GlobalAveragePooling1D()(conv1)\n",
        "    conv2 = keras.layers.Conv1D(filters=64, kernel_size=3, padding=\"same\")(conv1)\n",
        "    conv2 = keras.layers.BatchNormalization()(conv2)\n",
        "    conv2 = keras.layers.ReLU()(conv2)\n",
        "    gap = keras.layers.GlobalAveragePooling1D()(conv2)\n",
        "    conv3 = keras.layers.Conv1D(filters=64, kernel_size=3, padding=\"same\")(conv2)\n",
        "    conv3 = keras.layers.BatchNormalization()(conv3)\n",
        "    conv3 = keras.layers.ReLU()(conv3)\n",
        "\n",
        "    gap = keras.layers.GlobalAveragePooling1D()(conv3)\n",
        "\n",
        "    output_layer = keras.layers.Dense(2, activation=\"sigmoid\")(gap)\n",
        "\n",
        "    return keras.models.Model(inputs=input_layer, outputs=output_layer)\n",
        "\n",
        "\n",
        "model = make_model(input_shape=X_train.shape[1:])\n",
        "tf.keras.utils.plot_model(model, show_shapes=True)\n"
      ]
    },
    {
      "cell_type": "code",
      "execution_count": 139,
      "metadata": {
        "id": "r7_0gm-_fXFj"
      },
      "outputs": [],
      "source": [
        "from tensorflow.keras.optimizers import SGD\n",
        "\n",
        "opt = SGD(learning_rate=0.01)\n",
        "model.compile(\n",
        "    loss=\"categorical_crossentropy\", optimizer=opt, metrics=[\"binary_accuracy\"]\n",
        ")\n"
      ]
    },
    {
      "cell_type": "code",
      "execution_count": 140,
      "metadata": {
        "id": "RhQ5zudJfZbF"
      },
      "outputs": [],
      "source": [
        "epochs = 100\n",
        "batch_size = 32\n"
      ]
    },
    {
      "cell_type": "code",
      "execution_count": 141,
      "metadata": {
        "id": "jFZo2zMIfbbd"
      },
      "outputs": [],
      "source": [
        "Y_test = np.array(Y_test)\n"
      ]
    },
    {
      "cell_type": "code",
      "execution_count": 142,
      "metadata": {
        "colab": {
          "base_uri": "https://localhost:8080/"
        },
        "id": "hnFd6M-MfdWt",
        "outputId": "79875de1-8a7f-4ba8-c4b6-41014df5c557"
      },
      "outputs": [
        {
          "name": "stdout",
          "output_type": "stream",
          "text": [
            "Epoch 1/100\n",
            "1837/1837 [==============================] - 6s 2ms/step - loss: 0.4785 - binary_accuracy: 0.7459 - val_loss: 2.1275 - val_binary_accuracy: 0.5403\n",
            "Epoch 2/100\n",
            "1837/1837 [==============================] - 3s 2ms/step - loss: 0.4318 - binary_accuracy: 0.7754 - val_loss: 2.1125 - val_binary_accuracy: 0.5406\n",
            "Epoch 3/100\n",
            "1837/1837 [==============================] - 4s 2ms/step - loss: 0.4104 - binary_accuracy: 0.7876 - val_loss: 2.3023 - val_binary_accuracy: 0.5402\n",
            "Epoch 4/100\n",
            "1837/1837 [==============================] - 4s 2ms/step - loss: 0.4003 - binary_accuracy: 0.7976 - val_loss: 2.3956 - val_binary_accuracy: 0.5410\n",
            "Epoch 5/100\n",
            "1837/1837 [==============================] - 4s 2ms/step - loss: 0.3923 - binary_accuracy: 0.8079 - val_loss: 2.6640 - val_binary_accuracy: 0.5411\n",
            "Epoch 6/100\n",
            "1837/1837 [==============================] - 3s 2ms/step - loss: 0.3854 - binary_accuracy: 0.8079 - val_loss: 2.4669 - val_binary_accuracy: 0.5409\n",
            "Epoch 7/100\n",
            "1837/1837 [==============================] - 4s 2ms/step - loss: 0.3742 - binary_accuracy: 0.8201 - val_loss: 2.4771 - val_binary_accuracy: 0.5416\n",
            "Epoch 8/100\n",
            "1837/1837 [==============================] - 3s 2ms/step - loss: 0.3700 - binary_accuracy: 0.8211 - val_loss: 2.4004 - val_binary_accuracy: 0.5413\n",
            "Epoch 9/100\n",
            "1837/1837 [==============================] - 3s 2ms/step - loss: 0.3693 - binary_accuracy: 0.8203 - val_loss: 2.8197 - val_binary_accuracy: 0.5410\n",
            "Epoch 10/100\n",
            "1837/1837 [==============================] - 3s 2ms/step - loss: 0.3685 - binary_accuracy: 0.8232 - val_loss: 2.7546 - val_binary_accuracy: 0.5406\n",
            "Epoch 11/100\n",
            "1837/1837 [==============================] - 4s 2ms/step - loss: 0.3621 - binary_accuracy: 0.8258 - val_loss: 2.7947 - val_binary_accuracy: 0.5402\n",
            "Epoch 12/100\n",
            "1837/1837 [==============================] - 4s 2ms/step - loss: 0.3592 - binary_accuracy: 0.8281 - val_loss: 2.9398 - val_binary_accuracy: 0.5406\n",
            "Epoch 13/100\n",
            "1837/1837 [==============================] - 3s 2ms/step - loss: 0.3554 - binary_accuracy: 0.8298 - val_loss: 3.0986 - val_binary_accuracy: 0.5405\n",
            "Epoch 14/100\n",
            "1837/1837 [==============================] - 4s 2ms/step - loss: 0.3527 - binary_accuracy: 0.8306 - val_loss: 3.0152 - val_binary_accuracy: 0.5408\n",
            "Epoch 15/100\n",
            "1837/1837 [==============================] - 4s 2ms/step - loss: 0.3518 - binary_accuracy: 0.8294 - val_loss: 2.6795 - val_binary_accuracy: 0.5415\n",
            "Epoch 16/100\n",
            "1837/1837 [==============================] - 4s 2ms/step - loss: 0.3518 - binary_accuracy: 0.8303 - val_loss: 2.3275 - val_binary_accuracy: 0.5415\n",
            "Epoch 17/100\n",
            "1837/1837 [==============================] - 4s 2ms/step - loss: 0.3538 - binary_accuracy: 0.8221 - val_loss: 2.8838 - val_binary_accuracy: 0.5417\n",
            "Epoch 18/100\n",
            "1837/1837 [==============================] - 5s 3ms/step - loss: 0.3486 - binary_accuracy: 0.8241 - val_loss: 2.5249 - val_binary_accuracy: 0.5421\n",
            "Epoch 19/100\n",
            "1837/1837 [==============================] - 6s 3ms/step - loss: 0.3487 - binary_accuracy: 0.8254 - val_loss: 3.3217 - val_binary_accuracy: 0.5418\n",
            "Epoch 20/100\n",
            "1837/1837 [==============================] - 8s 5ms/step - loss: 0.3471 - binary_accuracy: 0.8235 - val_loss: 2.9834 - val_binary_accuracy: 0.5423\n",
            "Epoch 21/100\n",
            "1837/1837 [==============================] - 10s 6ms/step - loss: 0.3445 - binary_accuracy: 0.8276 - val_loss: 2.6960 - val_binary_accuracy: 0.5424\n",
            "Epoch 22/100\n",
            "1837/1837 [==============================] - 11s 6ms/step - loss: 0.3405 - binary_accuracy: 0.8299 - val_loss: 3.7281 - val_binary_accuracy: 0.5425\n",
            "Epoch 23/100\n",
            "1837/1837 [==============================] - 14s 8ms/step - loss: 0.3406 - binary_accuracy: 0.8304 - val_loss: 3.3465 - val_binary_accuracy: 0.5413\n",
            "Epoch 24/100\n",
            "1837/1837 [==============================] - 21s 11ms/step - loss: 0.3355 - binary_accuracy: 0.8327 - val_loss: 2.9692 - val_binary_accuracy: 0.5424\n",
            "Epoch 25/100\n",
            "1837/1837 [==============================] - 27s 15ms/step - loss: 0.3362 - binary_accuracy: 0.8345 - val_loss: 3.1877 - val_binary_accuracy: 0.5410\n",
            "Epoch 26/100\n",
            "1837/1837 [==============================] - 17s 9ms/step - loss: 0.3351 - binary_accuracy: 0.8362 - val_loss: 2.9935 - val_binary_accuracy: 0.5408\n",
            "Epoch 27/100\n",
            "1837/1837 [==============================] - 13s 7ms/step - loss: 0.3320 - binary_accuracy: 0.8388 - val_loss: 2.8002 - val_binary_accuracy: 0.5417\n",
            "Epoch 28/100\n",
            "1837/1837 [==============================] - 10s 6ms/step - loss: 0.3320 - binary_accuracy: 0.8400 - val_loss: 2.8550 - val_binary_accuracy: 0.5425\n",
            "Epoch 29/100\n",
            "1837/1837 [==============================] - 9s 5ms/step - loss: 0.3313 - binary_accuracy: 0.8388 - val_loss: 2.6728 - val_binary_accuracy: 0.5421\n",
            "Epoch 30/100\n",
            "1837/1837 [==============================] - 8s 4ms/step - loss: 0.3263 - binary_accuracy: 0.8398 - val_loss: 2.4606 - val_binary_accuracy: 0.5400\n",
            "Epoch 31/100\n",
            "1837/1837 [==============================] - 7s 4ms/step - loss: 0.3236 - binary_accuracy: 0.8442 - val_loss: 2.1539 - val_binary_accuracy: 0.5411\n",
            "Epoch 32/100\n",
            "1837/1837 [==============================] - 7s 4ms/step - loss: 0.3242 - binary_accuracy: 0.8398 - val_loss: 2.3974 - val_binary_accuracy: 0.5414\n",
            "Epoch 33/100\n",
            "1837/1837 [==============================] - 7s 4ms/step - loss: 0.3218 - binary_accuracy: 0.8403 - val_loss: 2.6790 - val_binary_accuracy: 0.5423\n",
            "Epoch 34/100\n",
            "1837/1837 [==============================] - 7s 4ms/step - loss: 0.3297 - binary_accuracy: 0.8390 - val_loss: 2.8819 - val_binary_accuracy: 0.5422\n",
            "Epoch 35/100\n",
            "1837/1837 [==============================] - 8s 4ms/step - loss: 0.3275 - binary_accuracy: 0.8389 - val_loss: 2.8258 - val_binary_accuracy: 0.5409\n",
            "Epoch 36/100\n",
            "1837/1837 [==============================] - 8s 4ms/step - loss: 0.3260 - binary_accuracy: 0.8407 - val_loss: 2.5116 - val_binary_accuracy: 0.5421\n",
            "Epoch 37/100\n",
            "1837/1837 [==============================] - 10s 5ms/step - loss: 0.3332 - binary_accuracy: 0.8329 - val_loss: 2.6250 - val_binary_accuracy: 0.5419\n",
            "Epoch 38/100\n",
            "1837/1837 [==============================] - 11s 6ms/step - loss: 0.3333 - binary_accuracy: 0.8348 - val_loss: 2.6202 - val_binary_accuracy: 0.5413\n",
            "Epoch 39/100\n",
            "1837/1837 [==============================] - 10s 6ms/step - loss: 0.3289 - binary_accuracy: 0.8379 - val_loss: 2.6764 - val_binary_accuracy: 0.5416\n",
            "Epoch 40/100\n",
            "1837/1837 [==============================] - 10s 5ms/step - loss: 0.3246 - binary_accuracy: 0.8366 - val_loss: 2.5077 - val_binary_accuracy: 0.5408\n",
            "Epoch 41/100\n",
            "1837/1837 [==============================] - 11s 6ms/step - loss: 0.3205 - binary_accuracy: 0.8391 - val_loss: 2.6339 - val_binary_accuracy: 0.5403\n",
            "Epoch 42/100\n",
            "1837/1837 [==============================] - 11s 6ms/step - loss: 0.3252 - binary_accuracy: 0.8362 - val_loss: 2.5098 - val_binary_accuracy: 0.5409\n",
            "Epoch 43/100\n",
            "1837/1837 [==============================] - 9s 5ms/step - loss: 0.3216 - binary_accuracy: 0.8398 - val_loss: 2.2864 - val_binary_accuracy: 0.5404\n",
            "Epoch 44/100\n",
            "1837/1837 [==============================] - 6s 3ms/step - loss: 0.3157 - binary_accuracy: 0.8422 - val_loss: 2.1202 - val_binary_accuracy: 0.5413\n",
            "Epoch 45/100\n",
            "1837/1837 [==============================] - 5s 3ms/step - loss: 0.3197 - binary_accuracy: 0.8440 - val_loss: 2.0612 - val_binary_accuracy: 0.5421\n",
            "Epoch 46/100\n",
            "1837/1837 [==============================] - 5s 3ms/step - loss: 0.3142 - binary_accuracy: 0.8434 - val_loss: 2.2421 - val_binary_accuracy: 0.5419\n",
            "Epoch 47/100\n",
            "1837/1837 [==============================] - 4s 2ms/step - loss: 0.3096 - binary_accuracy: 0.8452 - val_loss: 2.3538 - val_binary_accuracy: 0.5410\n",
            "Epoch 48/100\n",
            "1837/1837 [==============================] - 4s 2ms/step - loss: 0.3138 - binary_accuracy: 0.8441 - val_loss: 2.2613 - val_binary_accuracy: 0.5412\n",
            "Epoch 49/100\n",
            "1837/1837 [==============================] - 4s 2ms/step - loss: 0.3244 - binary_accuracy: 0.8382 - val_loss: 2.4757 - val_binary_accuracy: 0.5414\n",
            "Epoch 50/100\n",
            "1837/1837 [==============================] - 3s 2ms/step - loss: 0.3212 - binary_accuracy: 0.8384 - val_loss: 2.2770 - val_binary_accuracy: 0.5422\n",
            "Epoch 51/100\n",
            "1837/1837 [==============================] - 4s 2ms/step - loss: 0.3194 - binary_accuracy: 0.8402 - val_loss: 2.4786 - val_binary_accuracy: 0.5421\n",
            "Epoch 52/100\n",
            "1837/1837 [==============================] - 3s 2ms/step - loss: 0.3172 - binary_accuracy: 0.8437 - val_loss: 2.4942 - val_binary_accuracy: 0.5415\n",
            "Epoch 53/100\n",
            "1837/1837 [==============================] - 3s 2ms/step - loss: 0.3204 - binary_accuracy: 0.8447 - val_loss: 2.2070 - val_binary_accuracy: 0.5424\n",
            "Epoch 54/100\n",
            "1837/1837 [==============================] - 3s 2ms/step - loss: 0.3163 - binary_accuracy: 0.8488 - val_loss: 2.1671 - val_binary_accuracy: 0.5416\n",
            "Epoch 55/100\n",
            "1837/1837 [==============================] - 3s 2ms/step - loss: 0.3110 - binary_accuracy: 0.8499 - val_loss: 1.8589 - val_binary_accuracy: 0.5406\n",
            "Epoch 56/100\n",
            "1837/1837 [==============================] - 3s 2ms/step - loss: 0.3118 - binary_accuracy: 0.8475 - val_loss: 2.0694 - val_binary_accuracy: 0.5421\n",
            "Epoch 57/100\n",
            "1837/1837 [==============================] - 3s 2ms/step - loss: 0.3160 - binary_accuracy: 0.8478 - val_loss: 2.2174 - val_binary_accuracy: 0.5421\n",
            "Epoch 58/100\n",
            "1837/1837 [==============================] - 4s 2ms/step - loss: 0.3106 - binary_accuracy: 0.8520 - val_loss: 2.0227 - val_binary_accuracy: 0.5423\n",
            "Epoch 59/100\n",
            "1837/1837 [==============================] - 4s 2ms/step - loss: 0.3103 - binary_accuracy: 0.8505 - val_loss: 2.4138 - val_binary_accuracy: 0.5421\n",
            "Epoch 60/100\n",
            "1837/1837 [==============================] - 4s 2ms/step - loss: 0.3089 - binary_accuracy: 0.8505 - val_loss: 2.1741 - val_binary_accuracy: 0.5421\n",
            "Epoch 61/100\n",
            "1837/1837 [==============================] - 4s 2ms/step - loss: 0.3100 - binary_accuracy: 0.8501 - val_loss: 1.8024 - val_binary_accuracy: 0.5409\n",
            "Epoch 62/100\n",
            "1837/1837 [==============================] - 4s 2ms/step - loss: 0.3086 - binary_accuracy: 0.8516 - val_loss: 1.7930 - val_binary_accuracy: 0.5421\n",
            "Epoch 63/100\n",
            "1837/1837 [==============================] - 4s 2ms/step - loss: 0.3077 - binary_accuracy: 0.8511 - val_loss: 2.1798 - val_binary_accuracy: 0.5423\n",
            "Epoch 64/100\n",
            "1837/1837 [==============================] - 4s 2ms/step - loss: 0.3024 - binary_accuracy: 0.8543 - val_loss: 2.0452 - val_binary_accuracy: 0.5422\n",
            "Epoch 65/100\n",
            "1837/1837 [==============================] - 4s 2ms/step - loss: 0.3071 - binary_accuracy: 0.8517 - val_loss: 2.1429 - val_binary_accuracy: 0.5394\n",
            "Epoch 66/100\n",
            "1837/1837 [==============================] - 4s 2ms/step - loss: 0.3084 - binary_accuracy: 0.8505 - val_loss: 1.8116 - val_binary_accuracy: 0.5403\n",
            "Epoch 67/100\n",
            "1837/1837 [==============================] - 4s 2ms/step - loss: 0.3084 - binary_accuracy: 0.8477 - val_loss: 1.7120 - val_binary_accuracy: 0.5410\n",
            "Epoch 68/100\n",
            "1837/1837 [==============================] - 4s 2ms/step - loss: 0.3077 - binary_accuracy: 0.8460 - val_loss: 1.8568 - val_binary_accuracy: 0.5415\n",
            "Epoch 69/100\n",
            "1837/1837 [==============================] - 4s 2ms/step - loss: 0.3061 - binary_accuracy: 0.8501 - val_loss: 1.4254 - val_binary_accuracy: 0.5405\n",
            "Epoch 70/100\n",
            "1837/1837 [==============================] - 4s 2ms/step - loss: 0.3016 - binary_accuracy: 0.8529 - val_loss: 1.4621 - val_binary_accuracy: 0.5407\n",
            "Epoch 71/100\n",
            "1837/1837 [==============================] - 4s 2ms/step - loss: 0.3028 - binary_accuracy: 0.8505 - val_loss: 1.7829 - val_binary_accuracy: 0.5404\n",
            "Epoch 72/100\n",
            "1837/1837 [==============================] - 4s 2ms/step - loss: 0.3012 - binary_accuracy: 0.8528 - val_loss: 1.8762 - val_binary_accuracy: 0.5408\n",
            "Epoch 73/100\n",
            "1837/1837 [==============================] - 4s 2ms/step - loss: 0.3003 - binary_accuracy: 0.8549 - val_loss: 1.8131 - val_binary_accuracy: 0.5410\n",
            "Epoch 74/100\n",
            "1837/1837 [==============================] - 4s 2ms/step - loss: 0.3023 - binary_accuracy: 0.8544 - val_loss: 1.9441 - val_binary_accuracy: 0.5405\n",
            "Epoch 75/100\n",
            "1837/1837 [==============================] - 4s 2ms/step - loss: 0.3133 - binary_accuracy: 0.8485 - val_loss: 1.7955 - val_binary_accuracy: 0.5416\n",
            "Epoch 76/100\n",
            "1837/1837 [==============================] - 4s 2ms/step - loss: 0.3068 - binary_accuracy: 0.8475 - val_loss: 1.6950 - val_binary_accuracy: 0.5424\n",
            "Epoch 77/100\n",
            "1837/1837 [==============================] - 4s 2ms/step - loss: 0.3018 - binary_accuracy: 0.8516 - val_loss: 1.9812 - val_binary_accuracy: 0.5424\n",
            "Epoch 78/100\n",
            "1837/1837 [==============================] - 4s 2ms/step - loss: 0.3050 - binary_accuracy: 0.8516 - val_loss: 2.0321 - val_binary_accuracy: 0.5426\n",
            "Epoch 79/100\n",
            "1837/1837 [==============================] - 4s 2ms/step - loss: 0.3085 - binary_accuracy: 0.8508 - val_loss: 1.8678 - val_binary_accuracy: 0.5418\n",
            "Epoch 80/100\n",
            "1837/1837 [==============================] - 4s 2ms/step - loss: 0.3035 - binary_accuracy: 0.8549 - val_loss: 2.1825 - val_binary_accuracy: 0.5418\n",
            "Epoch 81/100\n",
            "1837/1837 [==============================] - 4s 2ms/step - loss: 0.2952 - binary_accuracy: 0.8568 - val_loss: 1.9729 - val_binary_accuracy: 0.5418\n",
            "Epoch 82/100\n",
            "1837/1837 [==============================] - 4s 2ms/step - loss: 0.2975 - binary_accuracy: 0.8579 - val_loss: 2.0232 - val_binary_accuracy: 0.5419\n",
            "Epoch 83/100\n",
            "1837/1837 [==============================] - 4s 2ms/step - loss: 0.2940 - binary_accuracy: 0.8591 - val_loss: 2.0733 - val_binary_accuracy: 0.5402\n",
            "Epoch 84/100\n",
            "1837/1837 [==============================] - 4s 2ms/step - loss: 0.2973 - binary_accuracy: 0.8552 - val_loss: 1.8189 - val_binary_accuracy: 0.5423\n",
            "Epoch 85/100\n",
            "1837/1837 [==============================] - 4s 2ms/step - loss: 0.2961 - binary_accuracy: 0.8520 - val_loss: 2.1786 - val_binary_accuracy: 0.5422\n",
            "Epoch 86/100\n",
            "1837/1837 [==============================] - 4s 2ms/step - loss: 0.2945 - binary_accuracy: 0.8553 - val_loss: 2.1326 - val_binary_accuracy: 0.5419\n",
            "Epoch 87/100\n",
            "1837/1837 [==============================] - 4s 2ms/step - loss: 0.2927 - binary_accuracy: 0.8564 - val_loss: 1.9859 - val_binary_accuracy: 0.5415\n",
            "Epoch 88/100\n",
            "1837/1837 [==============================] - 4s 2ms/step - loss: 0.2993 - binary_accuracy: 0.8571 - val_loss: 2.2682 - val_binary_accuracy: 0.5422\n",
            "Epoch 89/100\n",
            "1837/1837 [==============================] - 4s 2ms/step - loss: 0.2944 - binary_accuracy: 0.8584 - val_loss: 2.1339 - val_binary_accuracy: 0.5422\n",
            "Epoch 90/100\n",
            "1837/1837 [==============================] - 4s 2ms/step - loss: 0.3145 - binary_accuracy: 0.8500 - val_loss: 1.7635 - val_binary_accuracy: 0.5421\n",
            "Epoch 91/100\n",
            "1837/1837 [==============================] - 4s 2ms/step - loss: 0.3059 - binary_accuracy: 0.8522 - val_loss: 1.8717 - val_binary_accuracy: 0.5419\n",
            "Epoch 92/100\n",
            "1837/1837 [==============================] - 4s 2ms/step - loss: 0.2979 - binary_accuracy: 0.8591 - val_loss: 2.0528 - val_binary_accuracy: 0.5416\n",
            "Epoch 93/100\n",
            "1837/1837 [==============================] - 4s 2ms/step - loss: 0.2985 - binary_accuracy: 0.8566 - val_loss: 1.8723 - val_binary_accuracy: 0.5416\n",
            "Epoch 94/100\n",
            "1837/1837 [==============================] - 4s 2ms/step - loss: 0.2957 - binary_accuracy: 0.8562 - val_loss: 1.8077 - val_binary_accuracy: 0.5403\n",
            "Epoch 95/100\n",
            "1837/1837 [==============================] - 4s 2ms/step - loss: 0.2945 - binary_accuracy: 0.8562 - val_loss: 1.9649 - val_binary_accuracy: 0.5417\n",
            "Epoch 96/100\n",
            "1837/1837 [==============================] - 4s 2ms/step - loss: 0.2920 - binary_accuracy: 0.8574 - val_loss: 1.9414 - val_binary_accuracy: 0.5421\n",
            "Epoch 97/100\n",
            "1837/1837 [==============================] - 4s 2ms/step - loss: 0.2882 - binary_accuracy: 0.8579 - val_loss: 1.7185 - val_binary_accuracy: 0.5399\n",
            "Epoch 98/100\n",
            "1837/1837 [==============================] - 4s 2ms/step - loss: 0.2918 - binary_accuracy: 0.8573 - val_loss: 1.8950 - val_binary_accuracy: 0.5411\n",
            "Epoch 99/100\n",
            "1837/1837 [==============================] - 4s 2ms/step - loss: 0.2903 - binary_accuracy: 0.8597 - val_loss: 2.1147 - val_binary_accuracy: 0.5425\n",
            "Epoch 100/100\n",
            "1837/1837 [==============================] - 4s 2ms/step - loss: 0.2918 - binary_accuracy: 0.8578 - val_loss: 2.1235 - val_binary_accuracy: 0.5405\n"
          ]
        }
      ],
      "source": [
        "history = model.fit(\n",
        "    X_train,\n",
        "    Y_train,\n",
        "    batch_size=batch_size,\n",
        "    epochs=epochs,\n",
        "    validation_split=0.2,\n",
        "    verbose=1,\n",
        ")\n"
      ]
    },
    {
      "cell_type": "code",
      "execution_count": 143,
      "metadata": {
        "colab": {
          "base_uri": "https://localhost:8080/",
          "height": 298
        },
        "id": "olcTMiJAffaI",
        "outputId": "b35d0fc5-b4d7-4637-d390-d74f6684ddfe"
      },
      "outputs": [
        {
          "data": {
            "image/png": "[encoded data removed]",
            "text/plain": [
              "<Figure size 432x288 with 1 Axes>"
            ]
          },
          "metadata": {
            "needs_background": "light"
          },
          "output_type": "display_data"
        }
      ],
      "source": [
        "metric = \"binary_accuracy\"\n",
        "plt.figure()\n",
        "plt.plot(history.history[metric])\n",
        "plt.plot(history.history[\"val_\" + metric])\n",
        "plt.title(\"model \" + metric)\n",
        "plt.ylabel(metric, fontsize=\"large\")\n",
        "plt.xlabel(\"epoch\", fontsize=\"large\")\n",
        "plt.legend([\"train\", \"val\"], loc=\"best\")\n",
        "plt.show()\n",
        "plt.close()\n"
      ]
    },
    {
      "cell_type": "code",
      "execution_count": 144,
      "metadata": {
        "colab": {
          "base_uri": "https://localhost:8080/"
        },
        "id": "Nm8f7NiMpvAe",
        "outputId": "a483c7a4-8782-4c02-e0b3-51b76521cdc8"
      },
      "outputs": [
        {
          "data": {
            "text/plain": [
              "(73449, 1, 12)"
            ]
          },
          "execution_count": 144,
          "metadata": {},
          "output_type": "execute_result"
        }
      ],
      "source": [
        "X_train.shape\n"
      ]
    },
    {
      "cell_type": "code",
      "execution_count": 145,
      "metadata": {
        "colab": {
          "base_uri": "https://localhost:8080/"
        },
        "id": "jx2Qf2Ybp7X1",
        "outputId": "fbea9298-b67f-4bc4-f29a-19b38578a976"
      },
      "outputs": [
        {
          "data": {
            "text/plain": [
              "(73449, 2)"
            ]
          },
          "execution_count": 145,
          "metadata": {},
          "output_type": "execute_result"
        }
      ],
      "source": [
        "Y_train.shape\n"
      ]
    },
    {
      "cell_type": "code",
      "execution_count": 146,
      "metadata": {
        "id": "vHclWHP7jhph"
      },
      "outputs": [],
      "source": [
        "n_timesteps, n_features, n_outputs = X_train.shape[0], X_train.shape[1], Y_train.shape[1]\n"
      ]
    },
    {
      "cell_type": "code",
      "execution_count": 147,
      "metadata": {
        "id": "cqCheBA2D1q3"
      },
      "outputs": [
        {
          "ename": "AttributeError",
          "evalue": "'numpy.ndarray' object has no attribute 'values'",
          "output_type": "error",
          "traceback": [
            "\u001b[0;31m---------------------------------------------------------------------------\u001b[0m",
            "\u001b[0;31mAttributeError\u001b[0m                            Traceback (most recent call last)",
            "\u001b[1;32m/Users/mutnawaz/Desktop/Muteeb/Projects/Paper/quic-flow-classifer/quic-flow-classifier.ipynb Cell 41'\u001b[0m in \u001b[0;36m<module>\u001b[0;34m\u001b[0m\n\u001b[0;32m----> <a href='vscode-notebook-cell:/Users/mutnawaz/Desktop/Muteeb/Projects/Paper/quic-flow-classifer/quic-flow-classifier.ipynb#ch0000040?line=0'>1</a>\u001b[0m X_train \u001b[39m=\u001b[39m X_train\u001b[39m.\u001b[39;49mvalues\u001b[39m.\u001b[39mreshape(\u001b[39m-\u001b[39m\u001b[39m1\u001b[39m, \u001b[39m1\u001b[39m, \u001b[39m12\u001b[39m)\n",
            "\u001b[0;31mAttributeError\u001b[0m: 'numpy.ndarray' object has no attribute 'values'"
          ]
        }
      ],
      "source": [
        "X_train = X_train.values.reshape(-1, 1, 12)\n"
      ]
    },
    {
      "cell_type": "code",
      "execution_count": null,
      "metadata": {
        "id": "WrJLah4WqNGc"
      },
      "outputs": [],
      "source": [
        "model = Sequential()\n",
        "model.add(Conv1D(filters=64, kernel_size=3, activation=\"relu\", input_shape=(10, 128)))\n",
        "model.add(Conv1D(filters=64, kernel_size=3, activation=\"relu\"))\n",
        "model.add(Dropout(0.5))\n",
        "model.add(MaxPool1D(pool_size=2))\n",
        "model.add(Flatten())\n",
        "model.add(Dense(100, activation=\"relu\"))\n",
        "model.add(Dense(n_outputs, activation=\"softmax\"))\n",
        "model.compile(loss=\"categorical_crossentropy\", optimizer=\"adam\", metrics=[\"accuracy\"])\n"
      ]
    },
    {
      "cell_type": "code",
      "execution_count": null,
      "metadata": {
        "id": "Sc4yM_Qvtwo3"
      },
      "outputs": [],
      "source": [
        "verbose, epochs, batch_size = 0, 10, 32\n"
      ]
    },
    {
      "cell_type": "code",
      "execution_count": null,
      "metadata": {
        "colab": {
          "base_uri": "https://localhost:8080/"
        },
        "id": "q1KrUc9quQEz",
        "outputId": "6b3dcd76-b05e-41f7-e2b0-d145029ea44a"
      },
      "outputs": [],
      "source": [
        "X_train.shape\n"
      ]
    },
    {
      "cell_type": "code",
      "execution_count": null,
      "metadata": {
        "id": "tM1LjjwqxYyB"
      },
      "outputs": [],
      "source": [
        "X_train = X_train.reshape(-1, 1, 12)\n"
      ]
    },
    {
      "cell_type": "code",
      "execution_count": null,
      "metadata": {
        "colab": {
          "base_uri": "https://localhost:8080/",
          "height": 570
        },
        "id": "FrnzzjeGtusH",
        "outputId": "8eded6b6-8807-43aa-88c2-b048cc3e7282"
      },
      "outputs": [],
      "source": [
        "model.fit(X_train, Y_train, epochs=epochs, batch_size=batch_size, verbose=verbose)\n"
      ]
    },
    {
      "cell_type": "code",
      "execution_count": null,
      "metadata": {
        "id": "yW_QadQrjE4W"
      },
      "outputs": [],
      "source": [
        "model2 = Sequential()\n",
        "model2.add(\n",
        "    layers.Conv2D(32, (3, 3), activation=\"relu\", input_shape=(8, 8, 1), padding=\"same\")\n",
        ")\n",
        "model2.add(layers.MaxPooling2D((1, 1), padding=\"same\"))\n",
        "model2.add(layers.Conv2D(64, (3, 3), activation=\"relu\", padding=\"same\"))\n",
        "model2.add(layers.MaxPooling2D((2, 2), padding=\"same\"))\n",
        "model2.add(layers.Conv2D(16, (3, 3), activation=\"softmax\", padding=\"same\"))\n",
        "model2.add(layers.Flatten())\n",
        "model2.add(layers.Dense(64, activation=\"relu\"))\n",
        "model2.add(layers.Dense(2))\n"
      ]
    },
    {
      "cell_type": "code",
      "execution_count": null,
      "metadata": {
        "id": "cdRxU1Ibjlsm"
      },
      "outputs": [],
      "source": [
        "model2.summary()\n"
      ]
    }
  ],
  "metadata": {
    "colab": {
      "name": "QUIC_flow.ipynb",
      "provenance": []
    },
    "kernelspec": {
      "display_name": "Python 3",
      "name": "python3"
    },
    "language_info": {
      "codemirror_mode": {
        "name": "ipython",
        "version": 3
      },
      "file_extension": ".py",
      "mimetype": "text/x-python",
      "name": "python",
      "nbconvert_exporter": "python",
      "pygments_lexer": "ipython3",
      "version": "3.9.10"
    }
  },
  "nbformat": 4,
  "nbformat_minor": 0
}
