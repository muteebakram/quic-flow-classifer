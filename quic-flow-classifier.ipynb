{
  "cells": [
    {
      "cell_type": "code",
      "execution_count": 116,
      "metadata": {
        "id": "9XmY6w-hbYkW"
      },
      "outputs": [],
      "source": [
        "import joblib\n",
        "import numpy as np\n",
        "import pandas as pd\n",
        "import seaborn as sns\n",
        "import matplotlib.pyplot as plt\n",
        "\n",
        "from os import path\n",
        "from numpy import mean, std\n",
        "from sklearn.model_selection import train_test_split\n",
        "from sklearn.metrics import f1_score\n",
        "from sklearn.metrics import recall_score\n",
        "from sklearn.metrics import precision_score\n"
      ]
    },
    {
      "cell_type": "markdown",
      "metadata": {},
      "source": [
        "READ DATASET\n"
      ]
    },
    {
      "cell_type": "code",
      "execution_count": 117,
      "metadata": {
        "colab": {
          "base_uri": "https://localhost:8080/",
          "height": 423
        },
        "id": "sCdj7ZsFcCiK",
        "outputId": "bf6d471e-b825-40e9-e32e-7b5c289f590e"
      },
      "outputs": [
        {
          "data": {
            "text/html": [
              "<div>\n",
              "<style scoped>\n",
              "    .dataframe tbody tr th:only-of-type {\n",
              "        vertical-align: middle;\n",
              "    }\n",
              "\n",
              "    .dataframe tbody tr th {\n",
              "        vertical-align: top;\n",
              "    }\n",
              "\n",
              "    .dataframe thead th {\n",
              "        text-align: right;\n",
              "    }\n",
              "</style>\n",
              "<table border=\"1\" class=\"dataframe\">\n",
              "  <thead>\n",
              "    <tr style=\"text-align: right;\">\n",
              "      <th></th>\n",
              "      <th>Address A</th>\n",
              "      <th>Port A</th>\n",
              "      <th>Address B</th>\n",
              "      <th>Port B</th>\n",
              "      <th>Packets</th>\n",
              "      <th>Bytes</th>\n",
              "      <th>Packets A → B</th>\n",
              "      <th>Bytes A → B</th>\n",
              "      <th>Packets B → A</th>\n",
              "      <th>Bytes B → A</th>\n",
              "      <th>Rel Start</th>\n",
              "      <th>Duration</th>\n",
              "      <th>Bits/s A → B</th>\n",
              "      <th>Bits/s B → A</th>\n",
              "      <th>Target</th>\n",
              "    </tr>\n",
              "  </thead>\n",
              "  <tbody>\n",
              "    <tr>\n",
              "      <th>0</th>\n",
              "      <td>192.168.0.103</td>\n",
              "      <td>58143.0</td>\n",
              "      <td>172.217.27.206</td>\n",
              "      <td>443.0</td>\n",
              "      <td>124.0</td>\n",
              "      <td>39548.0</td>\n",
              "      <td>58.0</td>\n",
              "      <td>24102.0</td>\n",
              "      <td>66.0</td>\n",
              "      <td>15446.0</td>\n",
              "      <td>2.189866</td>\n",
              "      <td>71.960428</td>\n",
              "      <td>2679.472668</td>\n",
              "      <td>1717.165996</td>\n",
              "      <td>1.0</td>\n",
              "    </tr>\n",
              "    <tr>\n",
              "      <th>1</th>\n",
              "      <td>192.168.0.103</td>\n",
              "      <td>57584.0</td>\n",
              "      <td>142.250.183.36</td>\n",
              "      <td>443.0</td>\n",
              "      <td>57.0</td>\n",
              "      <td>20695.0</td>\n",
              "      <td>28.0</td>\n",
              "      <td>6243.0</td>\n",
              "      <td>29.0</td>\n",
              "      <td>14452.0</td>\n",
              "      <td>3.438290</td>\n",
              "      <td>6.027378</td>\n",
              "      <td>8286.190115</td>\n",
              "      <td>19181.806750</td>\n",
              "      <td>1.0</td>\n",
              "    </tr>\n",
              "    <tr>\n",
              "      <th>2</th>\n",
              "      <td>192.168.0.103</td>\n",
              "      <td>56245.0</td>\n",
              "      <td>142.250.182.238</td>\n",
              "      <td>443.0</td>\n",
              "      <td>32.0</td>\n",
              "      <td>8167.0</td>\n",
              "      <td>16.0</td>\n",
              "      <td>3428.0</td>\n",
              "      <td>16.0</td>\n",
              "      <td>4739.0</td>\n",
              "      <td>6.224338</td>\n",
              "      <td>6.776927</td>\n",
              "      <td>4046.671891</td>\n",
              "      <td>5594.275990</td>\n",
              "      <td>1.0</td>\n",
              "    </tr>\n",
              "    <tr>\n",
              "      <th>3</th>\n",
              "      <td>192.168.0.103</td>\n",
              "      <td>52458.0</td>\n",
              "      <td>34.120.240.7</td>\n",
              "      <td>443.0</td>\n",
              "      <td>50.0</td>\n",
              "      <td>10723.0</td>\n",
              "      <td>27.0</td>\n",
              "      <td>5281.0</td>\n",
              "      <td>23.0</td>\n",
              "      <td>5442.0</td>\n",
              "      <td>6.231467</td>\n",
              "      <td>6.725964</td>\n",
              "      <td>6281.330081</td>\n",
              "      <td>6472.826795</td>\n",
              "      <td>1.0</td>\n",
              "    </tr>\n",
              "    <tr>\n",
              "      <th>4</th>\n",
              "      <td>192.168.0.103</td>\n",
              "      <td>64882.0</td>\n",
              "      <td>157.240.16.52</td>\n",
              "      <td>443.0</td>\n",
              "      <td>87.0</td>\n",
              "      <td>50414.0</td>\n",
              "      <td>41.0</td>\n",
              "      <td>17976.0</td>\n",
              "      <td>46.0</td>\n",
              "      <td>32438.0</td>\n",
              "      <td>6.413699</td>\n",
              "      <td>36.352234</td>\n",
              "      <td>3955.960451</td>\n",
              "      <td>7138.598415</td>\n",
              "      <td>1.0</td>\n",
              "    </tr>\n",
              "    <tr>\n",
              "      <th>...</th>\n",
              "      <td>...</td>\n",
              "      <td>...</td>\n",
              "      <td>...</td>\n",
              "      <td>...</td>\n",
              "      <td>...</td>\n",
              "      <td>...</td>\n",
              "      <td>...</td>\n",
              "      <td>...</td>\n",
              "      <td>...</td>\n",
              "      <td>...</td>\n",
              "      <td>...</td>\n",
              "      <td>...</td>\n",
              "      <td>...</td>\n",
              "      <td>...</td>\n",
              "      <td>...</td>\n",
              "    </tr>\n",
              "    <tr>\n",
              "      <th>138096</th>\n",
              "      <td>192.168.1.7</td>\n",
              "      <td>63919.0</td>\n",
              "      <td>34.149.43.113</td>\n",
              "      <td>443.0</td>\n",
              "      <td>29.0</td>\n",
              "      <td>9133.0</td>\n",
              "      <td>18.0</td>\n",
              "      <td>2394.0</td>\n",
              "      <td>11.0</td>\n",
              "      <td>6739.0</td>\n",
              "      <td>14977.351270</td>\n",
              "      <td>112.948061</td>\n",
              "      <td>169.564664</td>\n",
              "      <td>477.316738</td>\n",
              "      <td>0.0</td>\n",
              "    </tr>\n",
              "    <tr>\n",
              "      <th>138097</th>\n",
              "      <td>192.168.1.7</td>\n",
              "      <td>63920.0</td>\n",
              "      <td>184.26.169.72</td>\n",
              "      <td>443.0</td>\n",
              "      <td>21.0</td>\n",
              "      <td>3153.0</td>\n",
              "      <td>10.0</td>\n",
              "      <td>1890.0</td>\n",
              "      <td>11.0</td>\n",
              "      <td>1263.0</td>\n",
              "      <td>15071.377690</td>\n",
              "      <td>180.212772</td>\n",
              "      <td>83.900824</td>\n",
              "      <td>56.067058</td>\n",
              "      <td>0.0</td>\n",
              "    </tr>\n",
              "    <tr>\n",
              "      <th>138098</th>\n",
              "      <td>192.168.1.7</td>\n",
              "      <td>63921.0</td>\n",
              "      <td>20.44.229.112</td>\n",
              "      <td>443.0</td>\n",
              "      <td>120.0</td>\n",
              "      <td>74957.0</td>\n",
              "      <td>68.0</td>\n",
              "      <td>42680.0</td>\n",
              "      <td>52.0</td>\n",
              "      <td>32277.0</td>\n",
              "      <td>15079.548760</td>\n",
              "      <td>180.737504</td>\n",
              "      <td>1889.148585</td>\n",
              "      <td>1428.679683</td>\n",
              "      <td>0.0</td>\n",
              "    </tr>\n",
              "    <tr>\n",
              "      <th>138099</th>\n",
              "      <td>192.168.1.7</td>\n",
              "      <td>63922.0</td>\n",
              "      <td>3.218.71.8</td>\n",
              "      <td>443.0</td>\n",
              "      <td>19.0</td>\n",
              "      <td>8424.0</td>\n",
              "      <td>10.0</td>\n",
              "      <td>1910.0</td>\n",
              "      <td>9.0</td>\n",
              "      <td>6514.0</td>\n",
              "      <td>15253.367570</td>\n",
              "      <td>3.271286</td>\n",
              "      <td>4670.945922</td>\n",
              "      <td>15930.126560</td>\n",
              "      <td>0.0</td>\n",
              "    </tr>\n",
              "    <tr>\n",
              "      <th>138100</th>\n",
              "      <td>\u001a</td>\n",
              "      <td>NaN</td>\n",
              "      <td>NaN</td>\n",
              "      <td>NaN</td>\n",
              "      <td>NaN</td>\n",
              "      <td>NaN</td>\n",
              "      <td>NaN</td>\n",
              "      <td>NaN</td>\n",
              "      <td>NaN</td>\n",
              "      <td>NaN</td>\n",
              "      <td>NaN</td>\n",
              "      <td>NaN</td>\n",
              "      <td>NaN</td>\n",
              "      <td>NaN</td>\n",
              "      <td>NaN</td>\n",
              "    </tr>\n",
              "  </tbody>\n",
              "</table>\n",
              "<p>138101 rows × 15 columns</p>\n",
              "</div>"
            ],
            "text/plain": [
              "            Address A   Port A        Address B  Port B  Packets    Bytes  \\\n",
              "0       192.168.0.103  58143.0   172.217.27.206   443.0    124.0  39548.0   \n",
              "1       192.168.0.103  57584.0   142.250.183.36   443.0     57.0  20695.0   \n",
              "2       192.168.0.103  56245.0  142.250.182.238   443.0     32.0   8167.0   \n",
              "3       192.168.0.103  52458.0     34.120.240.7   443.0     50.0  10723.0   \n",
              "4       192.168.0.103  64882.0    157.240.16.52   443.0     87.0  50414.0   \n",
              "...               ...      ...              ...     ...      ...      ...   \n",
              "138096    192.168.1.7  63919.0    34.149.43.113   443.0     29.0   9133.0   \n",
              "138097    192.168.1.7  63920.0    184.26.169.72   443.0     21.0   3153.0   \n",
              "138098    192.168.1.7  63921.0    20.44.229.112   443.0    120.0  74957.0   \n",
              "138099    192.168.1.7  63922.0       3.218.71.8   443.0     19.0   8424.0   \n",
              "138100              \u001a      NaN              NaN     NaN      NaN      NaN   \n",
              "\n",
              "        Packets A → B  Bytes A → B  Packets B → A  Bytes B → A     Rel Start  \\\n",
              "0                58.0      24102.0           66.0      15446.0      2.189866   \n",
              "1                28.0       6243.0           29.0      14452.0      3.438290   \n",
              "2                16.0       3428.0           16.0       4739.0      6.224338   \n",
              "3                27.0       5281.0           23.0       5442.0      6.231467   \n",
              "4                41.0      17976.0           46.0      32438.0      6.413699   \n",
              "...               ...          ...            ...          ...           ...   \n",
              "138096           18.0       2394.0           11.0       6739.0  14977.351270   \n",
              "138097           10.0       1890.0           11.0       1263.0  15071.377690   \n",
              "138098           68.0      42680.0           52.0      32277.0  15079.548760   \n",
              "138099           10.0       1910.0            9.0       6514.0  15253.367570   \n",
              "138100            NaN          NaN            NaN          NaN           NaN   \n",
              "\n",
              "          Duration  Bits/s A → B  Bits/s B → A  Target  \n",
              "0        71.960428   2679.472668   1717.165996     1.0  \n",
              "1         6.027378   8286.190115  19181.806750     1.0  \n",
              "2         6.776927   4046.671891   5594.275990     1.0  \n",
              "3         6.725964   6281.330081   6472.826795     1.0  \n",
              "4        36.352234   3955.960451   7138.598415     1.0  \n",
              "...            ...           ...           ...     ...  \n",
              "138096  112.948061    169.564664    477.316738     0.0  \n",
              "138097  180.212772     83.900824     56.067058     0.0  \n",
              "138098  180.737504   1889.148585   1428.679683     0.0  \n",
              "138099    3.271286   4670.945922  15930.126560     0.0  \n",
              "138100         NaN           NaN           NaN     NaN  \n",
              "\n",
              "[138101 rows x 15 columns]"
            ]
          },
          "execution_count": 117,
          "metadata": {},
          "output_type": "execute_result"
        }
      ],
      "source": [
        "# Dict to store the model metrics like accuracy, f1, recall\n",
        "metrics = {}\n",
        "\n",
        "DATASET_PATH = \"final-merged-dataset.csv\"\n",
        "df = pd.read_csv(DATASET_PATH)\n",
        "\n",
        "# Initially set the clean_dataset as dataset itself. Using two variables clean_dataset\n",
        "# and dataset to retain full dataset because after cleaning dataset we lose some data.\n",
        "dataset = pd.read_csv(DATASET_PATH)\n",
        "df\n"
      ]
    },
    {
      "cell_type": "markdown",
      "metadata": {},
      "source": [
        "Data Sepecfications\n"
      ]
    },
    {
      "cell_type": "code",
      "execution_count": 118,
      "metadata": {
        "colab": {
          "base_uri": "https://localhost:8080/",
          "height": 419
        },
        "id": "JXPHHlCtcyqt",
        "outputId": "5e139a6f-b54c-4dc0-90e3-d74f5a98a787"
      },
      "outputs": [
        {
          "name": "stdout",
          "output_type": "stream",
          "text": [
            "Total packets: 138101\n",
            "1.0    50482\n",
            "0.0    41330\n",
            "Name: Target, dtype: int64\n"
          ]
        },
        {
          "data": {
            "image/png": "[encoded data removed]",
            "text/plain": [
              "<Figure size 432x288 with 1 Axes>"
            ]
          },
          "metadata": {
            "needs_background": "light"
          },
          "output_type": "display_data"
        }
      ],
      "source": [
        "packet_protocol = df[\"Target\"]\n",
        "packet_protocol = [\"QUIC\" if x else \"Non-QUIC\" for x in packet_protocol]\n",
        "\n",
        "print(\"Total packets: {0}\".format(len(packet_protocol)))\n",
        "print(df[\"Target\"].value_counts())\n",
        "\n",
        "# chart = sns.countplot(packet_protocol)\n",
        "plt.title(\"Dataset QUIC packet count\")\n",
        "plt.xlabel(\"Type of packet\")\n",
        "plt.ylabel(\"Count\")\n",
        "# plt.show()\n",
        "\n",
        "barlist = plt.bar([\"QUIC\", \"Non-QUIC\"], [50482, 41330], color=\"blue\", width=0.4)\n",
        "barlist[1].set_color(\"orange\")\n",
        "plt.show()\n"
      ]
    },
    {
      "cell_type": "markdown",
      "metadata": {},
      "source": [
        "Data Pre-processing\n"
      ]
    },
    {
      "cell_type": "code",
      "execution_count": 119,
      "metadata": {
        "colab": {
          "base_uri": "https://localhost:8080/",
          "height": 398
        },
        "id": "91dawZkNcKg8",
        "outputId": "a1c98266-13a9-445d-ce51-9d2e3873b5aa"
      },
      "outputs": [
        {
          "name": "stdout",
          "output_type": "stream",
          "text": [
            "Dropped strings... 1795313\n",
            "Dropped Unamed column... 1795313\n",
            "Dropped NA values... 1193556\n"
          ]
        },
        {
          "ename": "UnboundLocalError",
          "evalue": "local variable 'ds' referenced before assignment",
          "output_type": "error",
          "traceback": [
            "\u001b[0;31m---------------------------------------------------------------------------\u001b[0m",
            "\u001b[0;31mUnboundLocalError\u001b[0m                         Traceback (most recent call last)",
            "\u001b[1;32m/Users/mutnawaz/Desktop/Muteeb/Projects/Paper/quic-flow-classifer/quic-flow-classifier.ipynb Cell 7'\u001b[0m in \u001b[0;36m<module>\u001b[0;34m\u001b[0m\n\u001b[1;32m     <a href='vscode-notebook-cell:/Users/mutnawaz/Desktop/Muteeb/Projects/Paper/quic-flow-classifer/quic-flow-classifier.ipynb#ch0000006?line=30'>31</a>\u001b[0m     \u001b[39mreturn\u001b[39;00m df, targets\n\u001b[1;32m     <a href='vscode-notebook-cell:/Users/mutnawaz/Desktop/Muteeb/Projects/Paper/quic-flow-classifer/quic-flow-classifier.ipynb#ch0000006?line=33'>34</a>\u001b[0m initial_size \u001b[39m=\u001b[39m dataset\u001b[39m.\u001b[39msize\n\u001b[0;32m---> <a href='vscode-notebook-cell:/Users/mutnawaz/Desktop/Muteeb/Projects/Paper/quic-flow-classifer/quic-flow-classifier.ipynb#ch0000006?line=34'>35</a>\u001b[0m df, targets \u001b[39m=\u001b[39m preprocess(df)\n\u001b[1;32m     <a href='vscode-notebook-cell:/Users/mutnawaz/Desktop/Muteeb/Projects/Paper/quic-flow-classifer/quic-flow-classifier.ipynb#ch0000006?line=35'>36</a>\u001b[0m final_size \u001b[39m=\u001b[39m df\u001b[39m.\u001b[39msize\n\u001b[1;32m     <a href='vscode-notebook-cell:/Users/mutnawaz/Desktop/Muteeb/Projects/Paper/quic-flow-classifer/quic-flow-classifier.ipynb#ch0000006?line=37'>38</a>\u001b[0m \u001b[39mif\u001b[39;00m df\u001b[39m.\u001b[39misnull()\u001b[39m.\u001b[39mvalues\u001b[39m.\u001b[39many():\n",
            "\u001b[1;32m/Users/mutnawaz/Desktop/Muteeb/Projects/Paper/quic-flow-classifer/quic-flow-classifier.ipynb Cell 7'\u001b[0m in \u001b[0;36mpreprocess\u001b[0;34m(df)\u001b[0m\n\u001b[1;32m     <a href='vscode-notebook-cell:/Users/mutnawaz/Desktop/Muteeb/Projects/Paper/quic-flow-classifer/quic-flow-classifier.ipynb#ch0000006?line=19'>20</a>\u001b[0m \u001b[39mprint\u001b[39m(\u001b[39m\"\u001b[39m\u001b[39mDropped NA values...\u001b[39m\u001b[39m\"\u001b[39m, df\u001b[39m.\u001b[39msize)\n\u001b[1;32m     <a href='vscode-notebook-cell:/Users/mutnawaz/Desktop/Muteeb/Projects/Paper/quic-flow-classifer/quic-flow-classifier.ipynb#ch0000006?line=21'>22</a>\u001b[0m \u001b[39m# 4. After deleting the rows, shuffle and delete the index column.\u001b[39;00m\n\u001b[0;32m---> <a href='vscode-notebook-cell:/Users/mutnawaz/Desktop/Muteeb/Projects/Paper/quic-flow-classifer/quic-flow-classifier.ipynb#ch0000006?line=22'>23</a>\u001b[0m ds \u001b[39m=\u001b[39m ds\u001b[39m.\u001b[39msample(frac\u001b[39m=\u001b[39m\u001b[39m1\u001b[39m)\u001b[39m.\u001b[39mreset_index(drop\u001b[39m=\u001b[39m\u001b[39mTrue\u001b[39;00m)\n\u001b[1;32m     <a href='vscode-notebook-cell:/Users/mutnawaz/Desktop/Muteeb/Projects/Paper/quic-flow-classifer/quic-flow-classifier.ipynb#ch0000006?line=23'>24</a>\u001b[0m \u001b[39mprint\u001b[39m(\u001b[39m\"\u001b[39m\u001b[39mShuffling Resetting index...\u001b[39m\u001b[39m\"\u001b[39m, df\u001b[39m.\u001b[39msize)\n\u001b[1;32m     <a href='vscode-notebook-cell:/Users/mutnawaz/Desktop/Muteeb/Projects/Paper/quic-flow-classifer/quic-flow-classifier.ipynb#ch0000006?line=25'>26</a>\u001b[0m \u001b[39m# 5. Get the result(quic) column values and remove dataset.\u001b[39;00m\n",
            "\u001b[0;31mUnboundLocalError\u001b[0m: local variable 'ds' referenced before assignment"
          ]
        }
      ],
      "source": [
        "def preprocess(df):\n",
        "    # 1. Remove the strings columnns from dataset.\n",
        "    df.drop(\n",
        "        [\n",
        "            \"Address A\",\n",
        "            \"Address B\",\n",
        "        ],\n",
        "        axis=1,\n",
        "        inplace=True,\n",
        "    )\n",
        "    print(\"Dropped strings...\", df.size)\n",
        "\n",
        "    # 2. Remove 'Unnamed' column from dataset. This comes from reading CSV.\n",
        "    # https://stackoverflow.com/questions/43983622/remove-unnamed-columns-in-pandas-dataframe\n",
        "    # df.drop(df.columns[df.columns.str.contains('unnamed',case = False)],axis = 1, inplace = True)\n",
        "    print(\"Dropped Unamed column...\", df.size)\n",
        "\n",
        "    # 3. Remove the invalid rows ie axis=0 from the dataset.\n",
        "    df.dropna(axis=0, inplace=True)\n",
        "    print(\"Dropped NA values...\", df.size)\n",
        "\n",
        "    # 4. After deleting the rows, shuffle and delete the index column.\n",
        "    df = df.sample(frac=1).reset_index(drop=True)\n",
        "    print(\"Shuffling Resetting index...\", df.size)\n",
        "\n",
        "    # 5. Get the result(quic) column values and remove dataset.\n",
        "    targets = list(df[\"Target\"].values)\n",
        "    df.drop(df.columns[len(df.columns) - 1], axis=1, inplace=True)\n",
        "    print(\"Dropped targets column...\", df.size)\n",
        "\n",
        "    return df, targets\n",
        "\n",
        "\n",
        "initial_size = dataset.size\n",
        "df, targets = preprocess(df)\n",
        "final_size = df.size\n",
        "\n",
        "if df.isnull().values.any():\n",
        "    print(\"Failed to clean dataset. There are NaN/null values in dataset.\")\n",
        "    nan_cols = [i for i in df.columns if df[i].isnull().any()]\n",
        "    print(\"Columns with null values: \", *nan_cols)\n",
        "    exit(1)\n",
        "\n",
        "\n",
        "print(\n",
        "    \"\\nDataset size: {0} = {1}, Cleaned dataset size: {2} = {3}, Clean percentage: {4}%\".format(\n",
        "        dataset.shape,\n",
        "        initial_size,\n",
        "        df.shape,\n",
        "        final_size,\n",
        "        round(100 - (final_size / initial_size) * 100, 2),\n",
        "    )\n",
        ")\n",
        "\n",
        "df\n"
      ]
    },
    {
      "cell_type": "markdown",
      "metadata": {},
      "source": [
        "Split train and test\n"
      ]
    },
    {
      "cell_type": "code",
      "execution_count": null,
      "metadata": {
        "id": "n6R-wJ6XdEWB"
      },
      "outputs": [],
      "source": [
        "from sklearn.model_selection import KFold\n",
        "from sklearn.datasets import make_classification\n",
        "\n",
        "X_train, X_test, Y_train, Y_test = train_test_split(\n",
        "    df, targets, test_size=0.30, random_state=7, shuffle=True\n",
        ")\n",
        "\n",
        "X, Y = make_classification(\n",
        "    n_samples=100, n_features=12, n_informative=12, n_redundant=0, random_state=7\n",
        ")\n",
        "cv = KFold(n_splits=4, random_state=7, shuffle=True)\n",
        "cv\n",
        "\n",
        "print(\"Size of test: {0}, {1}\".format(len(X_test), len(Y_test)))\n",
        "print(\"Size of train: {0}, {1}\".format(len(X_train), len(Y_train)))\n"
      ]
    },
    {
      "cell_type": "markdown",
      "metadata": {
        "id": "8pxOKEu2dvKR"
      },
      "source": [
        "LOGISTIC REGRESSION\n"
      ]
    },
    {
      "cell_type": "code",
      "execution_count": null,
      "metadata": {
        "colab": {
          "base_uri": "https://localhost:8080/"
        },
        "id": "qli3Dffiduvc",
        "outputId": "a247915e-c3a4-41ad-f56c-557192e9227f"
      },
      "outputs": [],
      "source": [
        "from sklearn.model_selection import cross_val_score\n",
        "from sklearn.linear_model import LogisticRegression\n",
        "from sklearn.metrics import classification_report\n",
        "\n",
        "model = LogisticRegression(random_state=7)\n",
        "clf = model.fit(X_train, Y_train)\n",
        "predictions = clf.predict(X_test)\n",
        "\n",
        "print(classification_report(Y_test, predictions))\n",
        "\n",
        "score = model.score(X_test, Y_test) * 100\n",
        "f1 = f1_score(Y_test, predictions) * 100\n",
        "recall = recall_score(Y_test, predictions) * 100\n",
        "precision = precision_score(Y_test, predictions) * 100\n",
        "\n",
        "print(\"Accuracy: {0}%\".format(score))\n",
        "print(\"f1-score: {0}%\".format(f1))\n",
        "print(\"Accuracy: {0}%\".format(recall))\n",
        "print(\"Precision: {0}%\".format(precision))\n",
        "\n",
        "scores = cross_val_score(model, X, Y, scoring=\"accuracy\", cv=cv, n_jobs=-1)\n",
        "print(\"CV Accuracy: %.3f (%.3f)\" % (mean(scores) * 100, std(scores)))\n",
        "\n",
        "# Save the model to file.\n",
        "joblib.dump(model, path.join(\"models\", \"LogisticRegression\"))\n",
        "\n",
        "metrics[\"LogisticRegression\"] = {\n",
        "    \"Accuracy\": score,\n",
        "    \"f1-score\": f1,\n",
        "    \"Recall\": recall,\n",
        "    \"Precision\": precision,\n",
        "    \"CVAccuracy\": mean(scores),\n",
        "}\n"
      ]
    },
    {
      "cell_type": "markdown",
      "metadata": {
        "id": "tBzbNGaseSvb"
      },
      "source": [
        "DECISION TREE\n"
      ]
    },
    {
      "cell_type": "code",
      "execution_count": null,
      "metadata": {
        "colab": {
          "base_uri": "https://localhost:8080/"
        },
        "id": "ZBP5t88DdNjh",
        "outputId": "c0af4e75-38de-431c-eb57-0402ee9e865a"
      },
      "outputs": [],
      "source": [
        "from sklearn.tree import DecisionTreeClassifier\n",
        "from sklearn.metrics import classification_report\n",
        "\n",
        "model = DecisionTreeClassifier(random_state=0)\n",
        "model.fit(X_train, Y_train)\n",
        "predictions = model.predict(X_test)\n",
        "\n",
        "print(classification_report(Y_test, predictions))\n",
        "\n",
        "score = model.score(X_test, Y_test) * 100\n",
        "f1 = f1_score(Y_test, predictions) * 100\n",
        "recall = recall_score(Y_test, predictions) * 100\n",
        "precision = precision_score(Y_test, predictions) * 100\n",
        "\n",
        "print(\"Accuracy: {0}%\".format(score))\n",
        "print(\"f1-score: {0}%\".format(f1))\n",
        "print(\"Accuracy: {0}%\".format(recall))\n",
        "print(\"Precision: {0}%\".format(precision))\n",
        "\n",
        "scores = cross_val_score(model, X, Y, scoring=\"accuracy\", cv=cv, n_jobs=-1)\n",
        "print(\"CV Accuracy: %.3f (%.3f)\" % (mean(scores) * 100, std(scores)))\n",
        "metrics[\"DecisionTree\"] = {\n",
        "    \"Accuracy\": score,\n",
        "    \"f1-score\": f1,\n",
        "    \"Recall\": recall,\n",
        "    \"Precision\": precision,\n",
        "    \"CVAccuracy\": mean(scores),\n",
        "}\n",
        "\n",
        "# Save the model to file.\n",
        "joblib.dump(model, path.join(\"models\", \"DecisionTree\"))\n"
      ]
    },
    {
      "cell_type": "markdown",
      "metadata": {
        "id": "LNnzXuWBec5r"
      },
      "source": [
        "GRADIENT BOOST\n"
      ]
    },
    {
      "cell_type": "code",
      "execution_count": null,
      "metadata": {
        "colab": {
          "base_uri": "https://localhost:8080/"
        },
        "id": "CBwiB1Kneeoa",
        "outputId": "85a5979e-9f06-49ba-f273-4c11607b71d3"
      },
      "outputs": [],
      "source": [
        "from sklearn.ensemble import GradientBoostingClassifier\n",
        "from sklearn.metrics import classification_report\n",
        "\n",
        "model = GradientBoostingClassifier(random_state=0)\n",
        "model.fit(X_train, Y_train)\n",
        "predictions = model.predict(X_test)\n",
        "\n",
        "print(classification_report(Y_test, predictions))\n",
        "\n",
        "score = model.score(X_test, Y_test) * 100\n",
        "f1 = f1_score(Y_test, predictions) * 100\n",
        "recall = recall_score(Y_test, predictions) * 100\n",
        "precision = precision_score(Y_test, predictions) * 100\n",
        "\n",
        "\n",
        "print(\"Accuracy: {0}%\".format(score))\n",
        "print(\"f1-score: {0}%\".format(f1))\n",
        "print(\"Accuracy: {0}%\".format(recall))\n",
        "print(\"Precision: {0}%\".format(precision))\n",
        "\n",
        "scores = cross_val_score(model, X, Y, scoring=\"accuracy\", cv=cv, n_jobs=-1)\n",
        "print(\"CV Accuracy: %.3f (%.3f)\" % (mean(scores) * 100, std(scores)))\n",
        "metrics[\"GradientBoost\"] = {\n",
        "    \"Accuracy\": score,\n",
        "    \"f1-score\": f1,\n",
        "    \"Recall\": recall,\n",
        "    \"Precision\": precision,\n",
        "    \"CVAccuracy\": mean(scores),\n",
        "}\n",
        "\n",
        "# Save the model to file.\n",
        "joblib.dump(model, path.join(\"models\", \"GradientBoost\"))\n"
      ]
    },
    {
      "cell_type": "markdown",
      "metadata": {
        "id": "irgQU-dIeoWJ"
      },
      "source": [
        "KNN\n"
      ]
    },
    {
      "cell_type": "code",
      "execution_count": null,
      "metadata": {
        "colab": {
          "base_uri": "https://localhost:8080/"
        },
        "id": "GE8f1QmieqyH",
        "outputId": "f6f5bde9-1ec9-4041-bed5-0d429d72d64a"
      },
      "outputs": [],
      "source": [
        "from sklearn.neighbors import KNeighborsClassifier\n",
        "from sklearn.metrics import classification_report\n",
        "\n",
        "model = KNeighborsClassifier()\n",
        "model.fit(X_train, Y_train)\n",
        "predictions = model.predict(X_test)\n",
        "\n",
        "print(classification_report(Y_test, predictions))\n",
        "\n",
        "score = model.score(X_test, Y_test) * 100\n",
        "f1 = f1_score(Y_test, predictions) * 100\n",
        "recall = recall_score(Y_test, predictions) * 100\n",
        "precision = precision_score(Y_test, predictions) * 100\n",
        "\n",
        "print(\"Accuracy: {0}%\".format(score))\n",
        "print(\"f1-score: {0}%\".format(f1))\n",
        "print(\"Accuracy: {0}%\".format(recall))\n",
        "print(\"Precision: {0}%\".format(precision))\n",
        "\n",
        "scores = cross_val_score(model, X, Y, scoring=\"accuracy\", cv=cv, n_jobs=-1)\n",
        "print(\"CV Accuracy: %.3f (%.3f)\" % (mean(scores) * 100, std(scores)))\n",
        "metrics[\"KNN\"] = {\n",
        "    \"Accuracy\": score,\n",
        "    \"f1-score\": f1,\n",
        "    \"Recall\": recall,\n",
        "    \"Precision\": precision,\n",
        "    \"CVAccuracy\": mean(scores),\n",
        "}\n",
        "\n",
        "# Save the model to file.\n",
        "joblib.dump(model, path.join(\"models\", \"KNN\"))\n"
      ]
    },
    {
      "cell_type": "markdown",
      "metadata": {
        "id": "htz5P4kSeuKG"
      },
      "source": [
        "RANDOM FOREST\n"
      ]
    },
    {
      "cell_type": "code",
      "execution_count": null,
      "metadata": {
        "colab": {
          "base_uri": "https://localhost:8080/"
        },
        "id": "kZYni6x1ewPy",
        "outputId": "a457ebe8-b31b-407b-a638-9daeb770aecb"
      },
      "outputs": [],
      "source": [
        "from sklearn.ensemble import RandomForestClassifier\n",
        "from sklearn.metrics import classification_report\n",
        "\n",
        "model = RandomForestClassifier(random_state=0)\n",
        "model.fit(X_train, Y_train)\n",
        "predictions = model.predict(X_test)\n",
        "\n",
        "print(classification_report(Y_test, predictions))\n",
        "\n",
        "score = model.score(X_test, Y_test) * 100\n",
        "f1 = f1_score(Y_test, predictions) * 100\n",
        "recall = recall_score(Y_test, predictions) * 100\n",
        "precision = precision_score(Y_test, predictions) * 100\n",
        "\n",
        "\n",
        "print(\"Accuracy: {0}%\".format(score))\n",
        "print(\"f1-score: {0}%\".format(f1))\n",
        "print(\"Accuracy: {0}%\".format(recall))\n",
        "print(\"Precision: {0}%\".format(precision))\n",
        "\n",
        "scores = cross_val_score(model, X, Y, scoring=\"accuracy\", cv=cv, n_jobs=-1)\n",
        "print(\"CV Accuracy: %.3f (%.3f)\" % (mean(scores) * 100, std(scores)))\n",
        "metrics[\"RandomForest\"] = {\n",
        "    \"Accuracy\": score,\n",
        "    \"f1-score\": f1,\n",
        "    \"Recall\": recall,\n",
        "    \"Precision\": precision,\n",
        "    \"CVAccuracy\": mean(scores),\n",
        "}\n",
        "\n",
        "# Save the model to file.\n",
        "joblib.dump(model, path.join(\"models\", \"RandomForest\"))\n"
      ]
    },
    {
      "cell_type": "markdown",
      "metadata": {},
      "source": [
        "Feature importance for random forest\n"
      ]
    },
    {
      "cell_type": "code",
      "execution_count": null,
      "metadata": {
        "colab": {
          "base_uri": "https://localhost:8080/",
          "height": 811
        },
        "id": "PP0ew4aje0fZ",
        "outputId": "6b721aca-9dee-4860-91c7-ae08fb08bfa3"
      },
      "outputs": [],
      "source": [
        "importances = model.feature_importances_\n",
        "std = np.std([tree.feature_importances_ for tree in model.estimators_], axis=0)\n",
        "\n",
        "features = list(df.columns)\n",
        "classifier_importances = pd.Series(importances, index=features)\n",
        "print(classifier_importances)\n",
        "\n",
        "fig, ax = plt.subplots()\n",
        "classifier_importances.plot.bar(yerr=std, ax=ax)\n",
        "ax.set_title(\"Feature importances\")\n",
        "ax.set_ylabel(\"Mean decrease in impurity\")\n",
        "fig.tight_layout(rect=(0, 0, 2, 2))\n",
        "plt.show()\n"
      ]
    },
    {
      "cell_type": "markdown",
      "metadata": {
        "id": "WM-Fn3Oue3z0"
      },
      "source": [
        "ACCURACY\n"
      ]
    },
    {
      "cell_type": "code",
      "execution_count": null,
      "metadata": {
        "colab": {
          "base_uri": "https://localhost:8080/",
          "height": 735
        },
        "id": "1aBh5tdZe863",
        "outputId": "001f76a7-d869-474c-8415-c1f6c2a4689c"
      },
      "outputs": [],
      "source": [
        "ticks = []\n",
        "accuracy = []\n",
        "models_accuracy = []\n",
        "\n",
        "for k, v in metrics.items():\n",
        "    accuracy.append(v[\"Accuracy\"])\n",
        "    models_accuracy.append(\n",
        "        [k, v[\"Accuracy\"], v[\"f1-score\"], v[\"Recall\"], v[\"Precision\"]]\n",
        "    )\n",
        "    print(\"{0:<35} {1}%\".format(k, v[\"Accuracy\"]))\n",
        "\n",
        "df_acc = pd.DataFrame(models_accuracy)\n",
        "df_acc.columns = [\"Models\", \"Accuracy\", \"f1-score\", \"Recall\", \"Precision\"]\n",
        "\n",
        "plt.figure(figsize=(10, 10))\n",
        "g = sns.barplot(x=\"Models\", y=\"Accuracy\", data=df_acc)\n",
        "for i in range(0, 100):\n",
        "    val = i + 0.01\n",
        "    ticks.append(val)\n",
        "g.set_yticks(ticks)\n",
        "g.set_yticklabels(ticks)\n",
        "\n",
        "plt.title(\"Accuracy on the test set\\n(the Y-Axis is between 40 and 100)\", fontsize=10)\n",
        "plt.ylim(40, 100)\n",
        "for i, p in enumerate(g.patches):\n",
        "    percentage = \"{:.2f}%\".format(accuracy[i])\n",
        "    x = p.get_x() + (p.get_width() / 2)\n",
        "    y = p.get_height() + 0.5\n",
        "    g.annotate(percentage, (x, y), ha=\"center\")\n",
        "\n",
        "plt.show()\n"
      ]
    },
    {
      "cell_type": "markdown",
      "metadata": {},
      "source": [
        "CV ACCURACY"
      ]
    },
    {
      "cell_type": "code",
      "execution_count": null,
      "metadata": {
        "colab": {
          "base_uri": "https://localhost:8080/",
          "height": 773
        },
        "id": "tHhtFGDjfA-M",
        "outputId": "b4c9cbe0-00fb-4688-b827-f05a3e771891"
      },
      "outputs": [],
      "source": [
        "ticks = []\n",
        "cvaccuracy = []\n",
        "models_cvaccuracy = []\n",
        "for k, v in metrics.items():\n",
        "    try:\n",
        "        cvaccuracy.append(v[\"CVAccuracy\"] * 100)\n",
        "        models_cvaccuracy.append([k, v[\"CVAccuracy\"] * 100])\n",
        "        print(\"{0:<35} {1}%\".format(k, v[\"CVAccuracy\"] * 100))\n",
        "\n",
        "    except KeyError:\n",
        "        cvaccuracy.append(10.30)\n",
        "        models_cvaccuracy.append(10.30)\n",
        "        print(\"{0:<35} {1}%\".format(k, 1.03))\n",
        "        continue\n",
        "\n",
        "\n",
        "df_acc2 = pd.DataFrame(models_cvaccuracy)\n",
        "df_acc2.columns = [\"Models\", \"CVAccuracy\"]\n",
        "\n",
        "plt.figure(figsize=(10, 10))\n",
        "g = sns.barplot(x=\"Models\", y=\"CVAccuracy\", data=df_acc2)\n",
        "for i in range(0, 100):\n",
        "    val = i + 0.01\n",
        "    ticks.append(val)\n",
        "g.set_yticks(ticks)\n",
        "g.set_yticklabels(ticks)\n",
        "\n",
        "plt.title(\"Accuracy on the test set\\n(the Y-Axis is between 40 and 100)\", fontsize=10)\n",
        "plt.ylim(40, 100)\n",
        "for i, p in enumerate(g.patches):\n",
        "    percentage = \"{:.2f}%\".format(cvaccuracy[i])\n",
        "    x = p.get_x() + (p.get_width() / 2)\n",
        "    y = p.get_height() + 0.5\n",
        "    g.annotate(percentage, (x, y), ha=\"center\")\n",
        "\n",
        "plt.show()\n"
      ]
    },
    {
      "cell_type": "code",
      "execution_count": null,
      "metadata": {
        "colab": {
          "base_uri": "https://localhost:8080/",
          "height": 206
        },
        "id": "Cf-6CcBqfEwn",
        "outputId": "d7a40ac8-c41b-4187-ce05-72d356962cbe"
      },
      "outputs": [],
      "source": [
        "df_acc.head()\n"
      ]
    },
    {
      "cell_type": "code",
      "execution_count": null,
      "metadata": {
        "colab": {
          "base_uri": "https://localhost:8080/",
          "height": 379
        },
        "id": "Ci0pwzacfIPr",
        "outputId": "0094db96-f92a-4e71-c0bc-4ca281a6d9e6"
      },
      "outputs": [],
      "source": [
        "df_acc.plot(x=\"Models\", y=[\"Accuracy\", \"f1-score\", \"Recall\", \"Precision\"], kind=\"bar\")\n"
      ]
    },
    {
      "cell_type": "markdown",
      "metadata": {
        "id": "Mmlu8_yrfKmW"
      },
      "source": [
        "CNN\n"
      ]
    },
    {
      "cell_type": "code",
      "execution_count": null,
      "metadata": {
        "id": "YEQYc3LvfMhK"
      },
      "outputs": [],
      "source": [
        "from tensorflow import keras\n",
        "from tensorflow.keras import datasets, layers, models\n",
        "from tensorflow.keras.datasets import mnist\n",
        "from tensorflow.keras.models import Sequential\n",
        "from tensorflow.keras.layers import Conv1D\n",
        "from tensorflow.keras.layers import MaxPool1D\n",
        "from tensorflow.keras.layers import Flatten\n",
        "from tensorflow.keras.layers import Dropout\n",
        "from tensorflow.keras.layers import Dense\n"
      ]
    },
    {
      "cell_type": "code",
      "execution_count": null,
      "metadata": {
        "id": "xNsgMyfPfPNY"
      },
      "outputs": [],
      "source": [
        "from sklearn.preprocessing import OneHotEncoder\n",
        "\n",
        "ohe = OneHotEncoder()\n",
        "Y1 = np.array(targets).reshape(-1, 1)\n",
        "Y1 = ohe.fit_transform(Y1).toarray()\n"
      ]
    },
    {
      "cell_type": "code",
      "execution_count": null,
      "metadata": {
        "id": "n6SjaOoHfQyF"
      },
      "outputs": [],
      "source": [
        "X_train, X_test, Y_train, Y_test = train_test_split(\n",
        "    df, Y1, test_size=0.20, random_state=7, shuffle=True\n",
        ")\n"
      ]
    },
    {
      "cell_type": "code",
      "execution_count": null,
      "metadata": {
        "colab": {
          "base_uri": "https://localhost:8080/",
          "height": 1000
        },
        "id": "6w5eMJxxfSpj",
        "outputId": "c4c85eca-e719-4894-ff13-6cbc20319ac7"
      },
      "outputs": [],
      "source": [
        "import tensorflow as tf\n",
        "\n",
        "# tf.config.run_functions_eagerly(True)\n",
        "# X_train = X_train\n",
        "# X_train = X_train.values.reshape(-1,1,16)\n",
        "X_train = np.expand_dims(X_train, axis=1)\n",
        "\n",
        "\n",
        "def make_model(input_shape):\n",
        "    # X_test=X_test.reshape(-1,1,16)\n",
        "    # Y_test=Y_test.reshape(-1,2)\n",
        "\n",
        "    input_layer = keras.layers.Input(input_shape)\n",
        "    # X_test=X_test.reshape(-1,1,16)\n",
        "    conv1 = keras.layers.Conv1D(filters=64, kernel_size=3, padding=\"same\")(input_layer)\n",
        "    conv1 = keras.layers.BatchNormalization()(conv1)\n",
        "    conv1 = keras.layers.ReLU()(conv1)\n",
        "\n",
        "    gap = keras.layers.GlobalAveragePooling1D()(conv1)\n",
        "    conv2 = keras.layers.Conv1D(filters=64, kernel_size=3, padding=\"same\")(conv1)\n",
        "    conv2 = keras.layers.BatchNormalization()(conv2)\n",
        "    conv2 = keras.layers.ReLU()(conv2)\n",
        "    gap = keras.layers.GlobalAveragePooling1D()(conv2)\n",
        "    conv3 = keras.layers.Conv1D(filters=64, kernel_size=3, padding=\"same\")(conv2)\n",
        "    conv3 = keras.layers.BatchNormalization()(conv3)\n",
        "    conv3 = keras.layers.ReLU()(conv3)\n",
        "\n",
        "    gap = keras.layers.GlobalAveragePooling1D()(conv3)\n",
        "\n",
        "    output_layer = keras.layers.Dense(2, activation=\"sigmoid\")(gap)\n",
        "\n",
        "    return keras.models.Model(inputs=input_layer, outputs=output_layer)\n",
        "\n",
        "\n",
        "model = make_model(input_shape=X_train.shape[1:])\n",
        "tf.keras.utils.plot_model(model, show_shapes=True)\n"
      ]
    },
    {
      "cell_type": "code",
      "execution_count": null,
      "metadata": {
        "id": "r7_0gm-_fXFj"
      },
      "outputs": [],
      "source": [
        "from tensorflow.keras.optimizers import SGD\n",
        "\n",
        "opt = SGD(learning_rate=0.01)\n",
        "model.compile(\n",
        "    loss=\"categorical_crossentropy\", optimizer=opt, metrics=[\"binary_accuracy\"]\n",
        ")\n"
      ]
    },
    {
      "cell_type": "code",
      "execution_count": null,
      "metadata": {
        "id": "RhQ5zudJfZbF"
      },
      "outputs": [],
      "source": [
        "epochs = 100\n",
        "batch_size = 32\n"
      ]
    },
    {
      "cell_type": "code",
      "execution_count": null,
      "metadata": {
        "id": "jFZo2zMIfbbd"
      },
      "outputs": [],
      "source": [
        "Y_test = np.array(Y_test)\n"
      ]
    },
    {
      "cell_type": "code",
      "execution_count": null,
      "metadata": {
        "colab": {
          "base_uri": "https://localhost:8080/"
        },
        "id": "hnFd6M-MfdWt",
        "outputId": "79875de1-8a7f-4ba8-c4b6-41014df5c557"
      },
      "outputs": [],
      "source": [
        "history = model.fit(\n",
        "    X_train,\n",
        "    Y_train,\n",
        "    batch_size=batch_size,\n",
        "    epochs=epochs,\n",
        "    validation_split=0.2,\n",
        "    verbose=1,\n",
        ")\n"
      ]
    },
    {
      "cell_type": "code",
      "execution_count": null,
      "metadata": {
        "colab": {
          "base_uri": "https://localhost:8080/",
          "height": 298
        },
        "id": "olcTMiJAffaI",
        "outputId": "b35d0fc5-b4d7-4637-d390-d74f6684ddfe"
      },
      "outputs": [],
      "source": [
        "metric = \"binary_accuracy\"\n",
        "plt.figure()\n",
        "plt.plot(history.history[metric])\n",
        "plt.plot(history.history[\"val_\" + metric])\n",
        "plt.title(\"model \" + metric)\n",
        "plt.ylabel(metric, fontsize=\"large\")\n",
        "plt.xlabel(\"epoch\", fontsize=\"large\")\n",
        "plt.legend([\"train\", \"val\"], loc=\"best\")\n",
        "plt.show()\n",
        "plt.close()\n"
      ]
    },
    {
      "cell_type": "code",
      "execution_count": null,
      "metadata": {
        "colab": {
          "base_uri": "https://localhost:8080/"
        },
        "id": "Nm8f7NiMpvAe",
        "outputId": "a483c7a4-8782-4c02-e0b3-51b76521cdc8"
      },
      "outputs": [],
      "source": [
        "X_train.shape\n"
      ]
    },
    {
      "cell_type": "code",
      "execution_count": null,
      "metadata": {
        "colab": {
          "base_uri": "https://localhost:8080/"
        },
        "id": "jx2Qf2Ybp7X1",
        "outputId": "fbea9298-b67f-4bc4-f29a-19b38578a976"
      },
      "outputs": [],
      "source": [
        "Y_train.shape\n"
      ]
    },
    {
      "cell_type": "code",
      "execution_count": null,
      "metadata": {
        "id": "vHclWHP7jhph"
      },
      "outputs": [],
      "source": [
        "n_timesteps, n_features, n_outputs = X_train.shape[0], X_train.shape[1], Y_train.shape[1]\n"
      ]
    },
    {
      "cell_type": "code",
      "execution_count": null,
      "metadata": {
        "id": "cqCheBA2D1q3"
      },
      "outputs": [],
      "source": [
        "X_train = X_train.values.reshape(-1, 1, 12)\n"
      ]
    },
    {
      "cell_type": "code",
      "execution_count": null,
      "metadata": {
        "id": "WrJLah4WqNGc"
      },
      "outputs": [],
      "source": [
        "model = Sequential()\n",
        "model.add(Conv1D(filters=64, kernel_size=3, activation=\"relu\", input_shape=(10, 128)))\n",
        "model.add(Conv1D(filters=64, kernel_size=3, activation=\"relu\"))\n",
        "model.add(Dropout(0.5))\n",
        "model.add(MaxPool1D(pool_size=2))\n",
        "model.add(Flatten())\n",
        "model.add(Dense(100, activation=\"relu\"))\n",
        "model.add(Dense(n_outputs, activation=\"softmax\"))\n",
        "model.compile(loss=\"categorical_crossentropy\", optimizer=\"adam\", metrics=[\"accuracy\"])\n"
      ]
    },
    {
      "cell_type": "code",
      "execution_count": null,
      "metadata": {
        "id": "Sc4yM_Qvtwo3"
      },
      "outputs": [],
      "source": [
        "verbose, epochs, batch_size = 0, 10, 32\n"
      ]
    },
    {
      "cell_type": "code",
      "execution_count": null,
      "metadata": {
        "colab": {
          "base_uri": "https://localhost:8080/"
        },
        "id": "q1KrUc9quQEz",
        "outputId": "6b3dcd76-b05e-41f7-e2b0-d145029ea44a"
      },
      "outputs": [],
      "source": [
        "X_train.shape\n"
      ]
    },
    {
      "cell_type": "code",
      "execution_count": null,
      "metadata": {
        "id": "tM1LjjwqxYyB"
      },
      "outputs": [],
      "source": [
        "X_train = X_train.reshape(-1, 1, 12)\n"
      ]
    },
    {
      "cell_type": "code",
      "execution_count": null,
      "metadata": {
        "colab": {
          "base_uri": "https://localhost:8080/",
          "height": 570
        },
        "id": "FrnzzjeGtusH",
        "outputId": "8eded6b6-8807-43aa-88c2-b048cc3e7282"
      },
      "outputs": [],
      "source": [
        "model.fit(X_train, Y_train, epochs=epochs, batch_size=batch_size, verbose=verbose)\n"
      ]
    },
    {
      "cell_type": "code",
      "execution_count": null,
      "metadata": {
        "id": "yW_QadQrjE4W"
      },
      "outputs": [],
      "source": [
        "model2 = Sequential()\n",
        "model2.add(\n",
        "    layers.Conv2D(32, (3, 3), activation=\"relu\", input_shape=(8, 8, 1), padding=\"same\")\n",
        ")\n",
        "model2.add(layers.MaxPooling2D((1, 1), padding=\"same\"))\n",
        "model2.add(layers.Conv2D(64, (3, 3), activation=\"relu\", padding=\"same\"))\n",
        "model2.add(layers.MaxPooling2D((2, 2), padding=\"same\"))\n",
        "model2.add(layers.Conv2D(16, (3, 3), activation=\"softmax\", padding=\"same\"))\n",
        "model2.add(layers.Flatten())\n",
        "model2.add(layers.Dense(64, activation=\"relu\"))\n",
        "model2.add(layers.Dense(2))\n"
      ]
    },
    {
      "cell_type": "code",
      "execution_count": null,
      "metadata": {
        "id": "cdRxU1Ibjlsm"
      },
      "outputs": [],
      "source": [
        "model2.summary()\n"
      ]
    }
  ],
  "metadata": {
    "colab": {
      "name": "QUIC_flow.ipynb",
      "provenance": []
    },
    "kernelspec": {
      "display_name": "Python 3",
      "name": "python3"
    },
    "language_info": {
      "codemirror_mode": {
        "name": "ipython",
        "version": 3
      },
      "file_extension": ".py",
      "mimetype": "text/x-python",
      "name": "python",
      "nbconvert_exporter": "python",
      "pygments_lexer": "ipython3",
      "version": "3.9.10"
    }
  },
  "nbformat": 4,
  "nbformat_minor": 0
}
