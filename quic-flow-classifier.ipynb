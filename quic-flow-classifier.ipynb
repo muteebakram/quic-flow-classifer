{
  "cells": [
    {
      "cell_type": "code",
      "execution_count": 58,
      "metadata": {
        "id": "9XmY6w-hbYkW"
      },
      "outputs": [],
      "source": [
        "import joblib\n",
        "import numpy as np\n",
        "import pandas as pd\n",
        "import seaborn as sns\n",
        "import matplotlib.pyplot as plt\n",
        "\n",
        "from os import path\n",
        "from numpy import mean, std\n",
        "from sklearn.model_selection import train_test_split\n",
        "from sklearn.metrics import f1_score\n",
        "from sklearn.metrics import recall_score\n",
        "from sklearn.metrics import precision_score\n"
      ]
    },
    {
      "cell_type": "markdown",
      "metadata": {},
      "source": [
        "READ DATASET\n"
      ]
    },
    {
      "cell_type": "code",
      "execution_count": 59,
      "metadata": {
        "colab": {
          "base_uri": "https://localhost:8080/",
          "height": 423
        },
        "id": "sCdj7ZsFcCiK",
        "outputId": "bf6d471e-b825-40e9-e32e-7b5c289f590e"
      },
      "outputs": [
        {
          "data": {
            "text/html": [
              "<div>\n",
              "<style scoped>\n",
              "    .dataframe tbody tr th:only-of-type {\n",
              "        vertical-align: middle;\n",
              "    }\n",
              "\n",
              "    .dataframe tbody tr th {\n",
              "        vertical-align: top;\n",
              "    }\n",
              "\n",
              "    .dataframe thead th {\n",
              "        text-align: right;\n",
              "    }\n",
              "</style>\n",
              "<table border=\"1\" class=\"dataframe\">\n",
              "  <thead>\n",
              "    <tr style=\"text-align: right;\">\n",
              "      <th></th>\n",
              "      <th>Address A</th>\n",
              "      <th>Port A</th>\n",
              "      <th>Address B</th>\n",
              "      <th>Port B</th>\n",
              "      <th>Packets</th>\n",
              "      <th>Bytes</th>\n",
              "      <th>Packets A → B</th>\n",
              "      <th>Bytes A → B</th>\n",
              "      <th>Packets B → A</th>\n",
              "      <th>Bytes B → A</th>\n",
              "      <th>Rel Start</th>\n",
              "      <th>Duration</th>\n",
              "      <th>Bits/s A → B</th>\n",
              "      <th>Bits/s B → A</th>\n",
              "      <th>Target</th>\n",
              "    </tr>\n",
              "  </thead>\n",
              "  <tbody>\n",
              "    <tr>\n",
              "      <th>0</th>\n",
              "      <td>68</td>\n",
              "      <td>255.255.255.255</td>\n",
              "      <td>67</td>\n",
              "      <td>1.0</td>\n",
              "      <td>364.0</td>\n",
              "      <td>1.0</td>\n",
              "      <td>364.0</td>\n",
              "      <td>0.0</td>\n",
              "      <td>0.0</td>\n",
              "      <td>3552.886318</td>\n",
              "      <td>0.000000</td>\n",
              "      <td>0.000000</td>\n",
              "      <td>0.000000</td>\n",
              "      <td>0.000000</td>\n",
              "      <td>NaN</td>\n",
              "    </tr>\n",
              "    <tr>\n",
              "      <th>1</th>\n",
              "      <td>50200</td>\n",
              "      <td>72.163.198.168</td>\n",
              "      <td>443</td>\n",
              "      <td>571362.0</td>\n",
              "      <td>461085075.0</td>\n",
              "      <td>242229.0</td>\n",
              "      <td>50039209.0</td>\n",
              "      <td>329133.0</td>\n",
              "      <td>411045866.0</td>\n",
              "      <td>0.000000</td>\n",
              "      <td>5498.082758</td>\n",
              "      <td>72809.684688</td>\n",
              "      <td>598093.385047</td>\n",
              "      <td>0.000000</td>\n",
              "      <td>NaN</td>\n",
              "    </tr>\n",
              "    <tr>\n",
              "      <th>2</th>\n",
              "      <td>62088</td>\n",
              "      <td>23.89.129.89</td>\n",
              "      <td>9000</td>\n",
              "      <td>270694.0</td>\n",
              "      <td>66375217.0</td>\n",
              "      <td>35027.0</td>\n",
              "      <td>5803218.0</td>\n",
              "      <td>235667.0</td>\n",
              "      <td>60571999.0</td>\n",
              "      <td>1572.531794</td>\n",
              "      <td>3589.891266</td>\n",
              "      <td>12932.353812</td>\n",
              "      <td>134983.473341</td>\n",
              "      <td>0.000000</td>\n",
              "      <td>NaN</td>\n",
              "    </tr>\n",
              "    <tr>\n",
              "      <th>3</th>\n",
              "      <td>55136</td>\n",
              "      <td>23.89.129.89</td>\n",
              "      <td>9000</td>\n",
              "      <td>7185.0</td>\n",
              "      <td>933693.0</td>\n",
              "      <td>3596.0</td>\n",
              "      <td>467468.0</td>\n",
              "      <td>3589.0</td>\n",
              "      <td>466225.0</td>\n",
              "      <td>1572.668468</td>\n",
              "      <td>3589.781698</td>\n",
              "      <td>1041.774769</td>\n",
              "      <td>1039.004684</td>\n",
              "      <td>0.000000</td>\n",
              "      <td>NaN</td>\n",
              "    </tr>\n",
              "    <tr>\n",
              "      <th>4</th>\n",
              "      <td>60143</td>\n",
              "      <td>23.89.129.89</td>\n",
              "      <td>9000</td>\n",
              "      <td>102354.0</td>\n",
              "      <td>45738988.0</td>\n",
              "      <td>9768.0</td>\n",
              "      <td>1013200.0</td>\n",
              "      <td>92586.0</td>\n",
              "      <td>44725788.0</td>\n",
              "      <td>1572.863216</td>\n",
              "      <td>3589.613124</td>\n",
              "      <td>2258.070639</td>\n",
              "      <td>99678.235966</td>\n",
              "      <td>0.000000</td>\n",
              "      <td>NaN</td>\n",
              "    </tr>\n",
              "    <tr>\n",
              "      <th>...</th>\n",
              "      <td>...</td>\n",
              "      <td>...</td>\n",
              "      <td>...</td>\n",
              "      <td>...</td>\n",
              "      <td>...</td>\n",
              "      <td>...</td>\n",
              "      <td>...</td>\n",
              "      <td>...</td>\n",
              "      <td>...</td>\n",
              "      <td>...</td>\n",
              "      <td>...</td>\n",
              "      <td>...</td>\n",
              "      <td>...</td>\n",
              "      <td>...</td>\n",
              "      <td>...</td>\n",
              "    </tr>\n",
              "    <tr>\n",
              "      <th>6067</th>\n",
              "      <td>192.168.1.7</td>\n",
              "      <td>63919.0</td>\n",
              "      <td>34.149.43.113</td>\n",
              "      <td>443.0</td>\n",
              "      <td>29.0</td>\n",
              "      <td>9133.0</td>\n",
              "      <td>18.0</td>\n",
              "      <td>2394.0</td>\n",
              "      <td>11.0</td>\n",
              "      <td>6739.000000</td>\n",
              "      <td>14977.351270</td>\n",
              "      <td>112.948061</td>\n",
              "      <td>169.564664</td>\n",
              "      <td>477.316738</td>\n",
              "      <td>0.0</td>\n",
              "    </tr>\n",
              "    <tr>\n",
              "      <th>6068</th>\n",
              "      <td>192.168.1.7</td>\n",
              "      <td>63920.0</td>\n",
              "      <td>184.26.169.72</td>\n",
              "      <td>443.0</td>\n",
              "      <td>21.0</td>\n",
              "      <td>3153.0</td>\n",
              "      <td>10.0</td>\n",
              "      <td>1890.0</td>\n",
              "      <td>11.0</td>\n",
              "      <td>1263.000000</td>\n",
              "      <td>15071.377690</td>\n",
              "      <td>180.212772</td>\n",
              "      <td>83.900824</td>\n",
              "      <td>56.067058</td>\n",
              "      <td>0.0</td>\n",
              "    </tr>\n",
              "    <tr>\n",
              "      <th>6069</th>\n",
              "      <td>192.168.1.7</td>\n",
              "      <td>63921.0</td>\n",
              "      <td>20.44.229.112</td>\n",
              "      <td>443.0</td>\n",
              "      <td>120.0</td>\n",
              "      <td>74957.0</td>\n",
              "      <td>68.0</td>\n",
              "      <td>42680.0</td>\n",
              "      <td>52.0</td>\n",
              "      <td>32277.000000</td>\n",
              "      <td>15079.548760</td>\n",
              "      <td>180.737504</td>\n",
              "      <td>1889.148585</td>\n",
              "      <td>1428.679683</td>\n",
              "      <td>0.0</td>\n",
              "    </tr>\n",
              "    <tr>\n",
              "      <th>6070</th>\n",
              "      <td>192.168.1.7</td>\n",
              "      <td>63922.0</td>\n",
              "      <td>3.218.71.8</td>\n",
              "      <td>443.0</td>\n",
              "      <td>19.0</td>\n",
              "      <td>8424.0</td>\n",
              "      <td>10.0</td>\n",
              "      <td>1910.0</td>\n",
              "      <td>9.0</td>\n",
              "      <td>6514.000000</td>\n",
              "      <td>15253.367570</td>\n",
              "      <td>3.271286</td>\n",
              "      <td>4670.945922</td>\n",
              "      <td>15930.126560</td>\n",
              "      <td>0.0</td>\n",
              "    </tr>\n",
              "    <tr>\n",
              "      <th>6071</th>\n",
              "      <td>\u001a</td>\n",
              "      <td>NaN</td>\n",
              "      <td>NaN</td>\n",
              "      <td>NaN</td>\n",
              "      <td>NaN</td>\n",
              "      <td>NaN</td>\n",
              "      <td>NaN</td>\n",
              "      <td>NaN</td>\n",
              "      <td>NaN</td>\n",
              "      <td>NaN</td>\n",
              "      <td>NaN</td>\n",
              "      <td>NaN</td>\n",
              "      <td>NaN</td>\n",
              "      <td>NaN</td>\n",
              "      <td>NaN</td>\n",
              "    </tr>\n",
              "  </tbody>\n",
              "</table>\n",
              "<p>6072 rows × 15 columns</p>\n",
              "</div>"
            ],
            "text/plain": [
              "        Address A           Port A      Address B    Port B      Packets  \\\n",
              "0              68  255.255.255.255             67       1.0        364.0   \n",
              "1           50200   72.163.198.168            443  571362.0  461085075.0   \n",
              "2           62088     23.89.129.89           9000  270694.0   66375217.0   \n",
              "3           55136     23.89.129.89           9000    7185.0     933693.0   \n",
              "4           60143     23.89.129.89           9000  102354.0   45738988.0   \n",
              "...           ...              ...            ...       ...          ...   \n",
              "6067  192.168.1.7          63919.0  34.149.43.113     443.0         29.0   \n",
              "6068  192.168.1.7          63920.0  184.26.169.72     443.0         21.0   \n",
              "6069  192.168.1.7          63921.0  20.44.229.112     443.0        120.0   \n",
              "6070  192.168.1.7          63922.0     3.218.71.8     443.0         19.0   \n",
              "6071            \u001a              NaN            NaN       NaN          NaN   \n",
              "\n",
              "         Bytes  Packets A → B  Bytes A → B  Packets B → A   Bytes B → A  \\\n",
              "0          1.0          364.0          0.0            0.0   3552.886318   \n",
              "1     242229.0     50039209.0     329133.0    411045866.0      0.000000   \n",
              "2      35027.0      5803218.0     235667.0     60571999.0   1572.531794   \n",
              "3       3596.0       467468.0       3589.0       466225.0   1572.668468   \n",
              "4       9768.0      1013200.0      92586.0     44725788.0   1572.863216   \n",
              "...        ...            ...          ...            ...           ...   \n",
              "6067    9133.0           18.0       2394.0           11.0   6739.000000   \n",
              "6068    3153.0           10.0       1890.0           11.0   1263.000000   \n",
              "6069   74957.0           68.0      42680.0           52.0  32277.000000   \n",
              "6070    8424.0           10.0       1910.0            9.0   6514.000000   \n",
              "6071       NaN            NaN          NaN            NaN           NaN   \n",
              "\n",
              "         Rel Start      Duration   Bits/s A → B  Bits/s B → A  Target  \n",
              "0         0.000000      0.000000       0.000000      0.000000     NaN  \n",
              "1      5498.082758  72809.684688  598093.385047      0.000000     NaN  \n",
              "2      3589.891266  12932.353812  134983.473341      0.000000     NaN  \n",
              "3      3589.781698   1041.774769    1039.004684      0.000000     NaN  \n",
              "4      3589.613124   2258.070639   99678.235966      0.000000     NaN  \n",
              "...            ...           ...            ...           ...     ...  \n",
              "6067  14977.351270    112.948061     169.564664    477.316738     0.0  \n",
              "6068  15071.377690    180.212772      83.900824     56.067058     0.0  \n",
              "6069  15079.548760    180.737504    1889.148585   1428.679683     0.0  \n",
              "6070  15253.367570      3.271286    4670.945922  15930.126560     0.0  \n",
              "6071           NaN           NaN            NaN           NaN     NaN  \n",
              "\n",
              "[6072 rows x 15 columns]"
            ]
          },
          "execution_count": 59,
          "metadata": {},
          "output_type": "execute_result"
        }
      ],
      "source": [
        "# Dict to store the model metrics like accuracy, f1, recall\n",
        "metrics = {}\n",
        "\n",
        "DATASET_PATH = \"final-merged-dataset.csv\"\n",
        "df = pd.read_csv(DATASET_PATH)\n",
        "\n",
        "# Initially set the clean_dataset as dataset itself. Using two variables clean_dataset\n",
        "# and dataset to retain full dataset because after cleaning dataset we lose some data.\n",
        "dataset = pd.read_csv(DATASET_PATH)\n",
        "df\n"
      ]
    },
    {
      "cell_type": "markdown",
      "metadata": {},
      "source": [
        "Data Sepecfications\n"
      ]
    },
    {
      "cell_type": "code",
      "execution_count": 60,
      "metadata": {
        "colab": {
          "base_uri": "https://localhost:8080/",
          "height": 419
        },
        "id": "JXPHHlCtcyqt",
        "outputId": "5e139a6f-b54c-4dc0-90e3-d74f5a98a787"
      },
      "outputs": [
        {
          "name": "stdout",
          "output_type": "stream",
          "text": [
            "Total packets: 6072\n",
            "0.0    3124\n",
            "1.0    2363\n",
            "Name: Target, dtype: int64\n"
          ]
        },
        {
          "name": "stderr",
          "output_type": "stream",
          "text": [
            "/Users/mutnawaz/Desktop/Muteeb/Projects/Paper/quic-flow-classifer/quic/lib/python3.9/site-packages/seaborn/_decorators.py:36: FutureWarning: Pass the following variable as a keyword arg: x. From version 0.12, the only valid positional argument will be `data`, and passing other arguments without an explicit keyword will result in an error or misinterpretation.\n",
            "  warnings.warn(\n"
          ]
        },
        {
          "data": {
            "image/png": "[encoded data removed]",
            "text/plain": [
              "<Figure size 432x288 with 1 Axes>"
            ]
          },
          "metadata": {
            "needs_background": "light"
          },
          "output_type": "display_data"
        }
      ],
      "source": [
        "packet_protocol = df[\"Target\"]\n",
        "packet_protocol = [\"QUIC\" if x else \"Non-QUIC\" for x in packet_protocol]\n",
        "\n",
        "print(\"Total packets: {0}\".format(len(packet_protocol)))\n",
        "print(df[\"Target\"].value_counts())\n",
        "\n",
        "chart = sns.countplot(packet_protocol)\n",
        "plt.title(\"Dataset QUIC packet count\")\n",
        "plt.xlabel(\"Type of packet\")\n",
        "plt.ylabel(\"Count\")\n",
        "plt.show()\n"
      ]
    },
    {
      "cell_type": "markdown",
      "metadata": {},
      "source": [
        "Data Pre-processing\n"
      ]
    },
    {
      "cell_type": "code",
      "execution_count": 61,
      "metadata": {
        "colab": {
          "base_uri": "https://localhost:8080/",
          "height": 398
        },
        "id": "91dawZkNcKg8",
        "outputId": "a1c98266-13a9-445d-ce51-9d2e3873b5aa"
      },
      "outputs": [
        {
          "name": "stdout",
          "output_type": "stream",
          "text": [
            "\n",
            "Dataset size: (6072, 15) = 91080, Cleaned dataset size: (5487, 12) = 65844, Percentage: 27.71%\n"
          ]
        }
      ],
      "source": [
        "def preprocess(df):\n",
        "    # 1. Remove the strings columnns from dataset.\n",
        "    df.drop(\n",
        "        [\n",
        "            \"Address A\",\n",
        "            \"Address B\",\n",
        "        ],\n",
        "        axis=1,\n",
        "        inplace=True,\n",
        "    )\n",
        "\n",
        "    # 2. Remove the invalid rows ie axis=0 from the dataset.\n",
        "    df.dropna(axis=0, inplace=True)\n",
        "\n",
        "    # 3. After deleting the rows, reset the index column and delete it.\n",
        "    df.reset_index(drop=True)\n",
        "\n",
        "    # 4. Get the result(quic) column values and remove dataset.\n",
        "    targets = list(df[\"Target\"].values)\n",
        "    df.drop(df.columns[len(df.columns) - 1], axis=1, inplace=True)\n",
        "    return df, targets\n",
        "\n",
        "\n",
        "initial_size = dataset.size\n",
        "df, targets = preprocess(df)\n",
        "final_size = df.size\n",
        "\n",
        "if df.isnull().values.any():\n",
        "    print(\"Failed to clean dataset. There are NaN/null values in dataset.\")\n",
        "    nan_cols = [i for i in df.columns if df[i].isnull().any()]\n",
        "    print(\"Columns with null values: \", *nan_cols)\n",
        "    exit(1)\n",
        "\n",
        "\n",
        "print(\n",
        "    \"\\nDataset size: {0} = {1}, Cleaned dataset size: {2} = {3}, Clean percentage: {4}%\".format(\n",
        "        dataset.shape,\n",
        "        initial_size,\n",
        "        df.shape,\n",
        "        final_size,\n",
        "        round(100 - (final_size / initial_size) * 100, 2),\n",
        "    )\n",
        ")\n"
      ]
    },
    {
      "cell_type": "markdown",
      "metadata": {},
      "source": [
        "Split train and test\n"
      ]
    },
    {
      "cell_type": "code",
      "execution_count": 62,
      "metadata": {
        "id": "n6R-wJ6XdEWB"
      },
      "outputs": [
        {
          "name": "stdout",
          "output_type": "stream",
          "text": [
            "Size of test: 1647, 1647\n",
            "Size of train: 3840, 3840\n"
          ]
        }
      ],
      "source": [
        "from sklearn.model_selection import KFold\n",
        "from sklearn.datasets import make_classification\n",
        "\n",
        "X_train, X_test, Y_train, Y_test = train_test_split(\n",
        "    df, targets, test_size=0.30, random_state=7, shuffle=True\n",
        ")\n",
        "\n",
        "X, Y = make_classification(\n",
        "    n_samples=100, n_features=12, n_informative=12, n_redundant=0, random_state=7\n",
        ")\n",
        "cv = KFold(n_splits=4, random_state=7, shuffle=True)\n",
        "cv\n",
        "\n",
        "print(\"Size of test: {0}, {1}\".format(len(X_test), len(Y_test)))\n",
        "print(\"Size of train: {0}, {1}\".format(len(X_train), len(Y_train)))\n"
      ]
    },
    {
      "cell_type": "markdown",
      "metadata": {
        "id": "8pxOKEu2dvKR"
      },
      "source": [
        "LOGISTIC REGRESSION\n"
      ]
    },
    {
      "cell_type": "code",
      "execution_count": 63,
      "metadata": {
        "colab": {
          "base_uri": "https://localhost:8080/"
        },
        "id": "qli3Dffiduvc",
        "outputId": "a247915e-c3a4-41ad-f56c-557192e9227f"
      },
      "outputs": [
        {
          "name": "stdout",
          "output_type": "stream",
          "text": [
            "              precision    recall  f1-score   support\n",
            "\n",
            "         0.0       0.77      0.92      0.83       929\n",
            "         1.0       0.85      0.64      0.73       718\n",
            "\n",
            "    accuracy                           0.79      1647\n",
            "   macro avg       0.81      0.78      0.78      1647\n",
            "weighted avg       0.80      0.79      0.79      1647\n",
            "\n",
            "Accuracy: 79.41712204007287%\n",
            "f1-score: 72.94493216280925%\n",
            "Accuracy: 63.64902506963789%\n",
            "Precision: 85.42056074766356%\n"
          ]
        },
        {
          "name": "stderr",
          "output_type": "stream",
          "text": [
            "/Users/mutnawaz/Desktop/Muteeb/Projects/Paper/quic-flow-classifer/quic/lib/python3.9/site-packages/sklearn/linear_model/_logistic.py:814: ConvergenceWarning: lbfgs failed to converge (status=1):\n",
            "STOP: TOTAL NO. of ITERATIONS REACHED LIMIT.\n",
            "\n",
            "Increase the number of iterations (max_iter) or scale the data as shown in:\n",
            "    https://scikit-learn.org/stable/modules/preprocessing.html\n",
            "Please also refer to the documentation for alternative solver options:\n",
            "    https://scikit-learn.org/stable/modules/linear_model.html#logistic-regression\n",
            "  n_iter_i = _check_optimize_result(\n"
          ]
        },
        {
          "name": "stdout",
          "output_type": "stream",
          "text": [
            "CV Accuracy: 85.000 (0.017)\n"
          ]
        }
      ],
      "source": [
        "from sklearn.model_selection import cross_val_score\n",
        "from sklearn.linear_model import LogisticRegression\n",
        "from sklearn.metrics import classification_report\n",
        "\n",
        "model = LogisticRegression(random_state=7)\n",
        "clf = model.fit(X_train, Y_train)\n",
        "predictions = clf.predict(X_test)\n",
        "\n",
        "print(classification_report(Y_test, predictions))\n",
        "\n",
        "score = model.score(X_test, Y_test) * 100\n",
        "f1 = f1_score(Y_test, predictions) * 100\n",
        "recall = recall_score(Y_test, predictions) * 100\n",
        "precision = precision_score(Y_test, predictions) * 100\n",
        "\n",
        "print(\"Accuracy: {0}%\".format(score))\n",
        "print(\"f1-score: {0}%\".format(f1))\n",
        "print(\"Accuracy: {0}%\".format(recall))\n",
        "print(\"Precision: {0}%\".format(precision))\n",
        "\n",
        "scores = cross_val_score(model, X, Y, scoring=\"accuracy\", cv=cv, n_jobs=-1)\n",
        "print(\"CV Accuracy: %.3f (%.3f)\" % (mean(scores) * 100, std(scores)))\n",
        "\n",
        "# Save the model to file.\n",
        "joblib.dump(model, path.join(\"models\", \"LogisticRegression\"))\n",
        "\n",
        "metrics[\"LogisticRegression\"] = {\n",
        "    \"Accuracy\": score,\n",
        "    \"f1-score\": f1,\n",
        "    \"Recall\": recall,\n",
        "    \"Precision\": precision,\n",
        "    \"CVAccuracy\": mean(scores),\n",
        "}\n"
      ]
    },
    {
      "cell_type": "markdown",
      "metadata": {
        "id": "tBzbNGaseSvb"
      },
      "source": [
        "DECISION TREE\n"
      ]
    },
    {
      "cell_type": "code",
      "execution_count": 64,
      "metadata": {
        "colab": {
          "base_uri": "https://localhost:8080/"
        },
        "id": "ZBP5t88DdNjh",
        "outputId": "c0af4e75-38de-431c-eb57-0402ee9e865a"
      },
      "outputs": [
        {
          "name": "stdout",
          "output_type": "stream",
          "text": [
            "              precision    recall  f1-score   support\n",
            "\n",
            "         0.0       0.98      0.96      0.97       929\n",
            "         1.0       0.95      0.97      0.96       718\n",
            "\n",
            "    accuracy                           0.97      1647\n",
            "   macro avg       0.97      0.97      0.97      1647\n",
            "weighted avg       0.97      0.97      0.97      1647\n",
            "\n",
            "Accuracy: 96.66059502125076%\n",
            "f1-score: 96.20427881297448%\n",
            "Accuracy: 97.07520891364902%\n",
            "Precision: 95.34883720930233%\n",
            "CV Accuracy: 68.000 (0.040)\n"
          ]
        }
      ],
      "source": [
        "from sklearn.tree import DecisionTreeClassifier\n",
        "from sklearn.metrics import classification_report\n",
        "\n",
        "model = DecisionTreeClassifier(random_state=0)\n",
        "model.fit(X_train, Y_train)\n",
        "predictions = model.predict(X_test)\n",
        "\n",
        "print(classification_report(Y_test, predictions))\n",
        "\n",
        "score = model.score(X_test, Y_test) * 100\n",
        "f1 = f1_score(Y_test, predictions) * 100\n",
        "recall = recall_score(Y_test, predictions) * 100\n",
        "precision = precision_score(Y_test, predictions) * 100\n",
        "\n",
        "print(\"Accuracy: {0}%\".format(score))\n",
        "print(\"f1-score: {0}%\".format(f1))\n",
        "print(\"Accuracy: {0}%\".format(recall))\n",
        "print(\"Precision: {0}%\".format(precision))\n",
        "\n",
        "scores = cross_val_score(model, X, Y, scoring=\"accuracy\", cv=cv, n_jobs=-1)\n",
        "print(\"CV Accuracy: %.3f (%.3f)\" % (mean(scores) * 100, std(scores)))\n",
        "metrics[\"DecisionTree\"] = {\n",
        "    \"Accuracy\": score,\n",
        "    \"f1-score\": f1,\n",
        "    \"Recall\": recall,\n",
        "    \"Precision\": precision,\n",
        "    \"CVAccuracy\": mean(scores),\n",
        "}\n",
        "\n",
        "# Save the model to file.\n",
        "joblib.dump(model, path.join(\"models\", \"DecisionTree\"))\n"
      ]
    },
    {
      "cell_type": "markdown",
      "metadata": {
        "id": "LNnzXuWBec5r"
      },
      "source": [
        "GRADIENT BOOST\n"
      ]
    },
    {
      "cell_type": "code",
      "execution_count": 65,
      "metadata": {
        "colab": {
          "base_uri": "https://localhost:8080/"
        },
        "id": "CBwiB1Kneeoa",
        "outputId": "85a5979e-9f06-49ba-f273-4c11607b71d3"
      },
      "outputs": [
        {
          "name": "stdout",
          "output_type": "stream",
          "text": [
            "              precision    recall  f1-score   support\n",
            "\n",
            "         0.0       0.98      0.97      0.97       929\n",
            "         1.0       0.96      0.97      0.97       718\n",
            "\n",
            "    accuracy                           0.97      1647\n",
            "   macro avg       0.97      0.97      0.97      1647\n",
            "weighted avg       0.97      0.97      0.97      1647\n",
            "\n",
            "Accuracy: 97.14632665452338%\n",
            "f1-score: 96.75190048375951%\n",
            "Accuracy: 97.49303621169916%\n",
            "Precision: 96.02194787379973%\n",
            "CV Accuracy: 76.000 (0.075)\n"
          ]
        }
      ],
      "source": [
        "from sklearn.ensemble import GradientBoostingClassifier\n",
        "from sklearn.metrics import classification_report\n",
        "\n",
        "model = GradientBoostingClassifier(random_state=0)\n",
        "model.fit(X_train, Y_train)\n",
        "predictions = model.predict(X_test)\n",
        "\n",
        "print(classification_report(Y_test, predictions))\n",
        "\n",
        "score = model.score(X_test, Y_test) * 100\n",
        "f1 = f1_score(Y_test, predictions) * 100\n",
        "recall = recall_score(Y_test, predictions) * 100\n",
        "precision = precision_score(Y_test, predictions) * 100\n",
        "\n",
        "\n",
        "print(\"Accuracy: {0}%\".format(score))\n",
        "print(\"f1-score: {0}%\".format(f1))\n",
        "print(\"Accuracy: {0}%\".format(recall))\n",
        "print(\"Precision: {0}%\".format(precision))\n",
        "\n",
        "scores = cross_val_score(model, X, Y, scoring=\"accuracy\", cv=cv, n_jobs=-1)\n",
        "print(\"CV Accuracy: %.3f (%.3f)\" % (mean(scores) * 100, std(scores)))\n",
        "metrics[\"GradientBoost\"] = {\n",
        "    \"Accuracy\": score,\n",
        "    \"f1-score\": f1,\n",
        "    \"Recall\": recall,\n",
        "    \"Precision\": precision,\n",
        "    \"CVAccuracy\": mean(scores),\n",
        "}\n",
        "\n",
        "# Save the model to file.\n",
        "joblib.dump(model, path.join(\"models\", \"GradientBoost\"))\n"
      ]
    },
    {
      "cell_type": "markdown",
      "metadata": {
        "id": "irgQU-dIeoWJ"
      },
      "source": [
        "KNN\n"
      ]
    },
    {
      "cell_type": "code",
      "execution_count": 66,
      "metadata": {
        "colab": {
          "base_uri": "https://localhost:8080/"
        },
        "id": "GE8f1QmieqyH",
        "outputId": "f6f5bde9-1ec9-4041-bed5-0d429d72d64a"
      },
      "outputs": [
        {
          "name": "stdout",
          "output_type": "stream",
          "text": [
            "              precision    recall  f1-score   support\n",
            "\n",
            "         0.0       0.91      0.91      0.91       929\n",
            "         1.0       0.88      0.88      0.88       718\n",
            "\n",
            "    accuracy                           0.90      1647\n",
            "   macro avg       0.90      0.90      0.90      1647\n",
            "weighted avg       0.90      0.90      0.90      1647\n",
            "\n",
            "Accuracy: 89.73891924711597%\n",
            "f1-score: 88.22299651567945%\n",
            "Accuracy: 88.16155988857939%\n",
            "Precision: 88.28451882845188%\n",
            "CV Accuracy: 87.000 (0.052)\n"
          ]
        }
      ],
      "source": [
        "from sklearn.neighbors import KNeighborsClassifier\n",
        "from sklearn.metrics import classification_report\n",
        "\n",
        "model = KNeighborsClassifier()\n",
        "model.fit(X_train, Y_train)\n",
        "predictions = model.predict(X_test)\n",
        "\n",
        "print(classification_report(Y_test, predictions))\n",
        "\n",
        "score = model.score(X_test, Y_test) * 100\n",
        "f1 = f1_score(Y_test, predictions) * 100\n",
        "recall = recall_score(Y_test, predictions) * 100\n",
        "precision = precision_score(Y_test, predictions) * 100\n",
        "\n",
        "print(\"Accuracy: {0}%\".format(score))\n",
        "print(\"f1-score: {0}%\".format(f1))\n",
        "print(\"Accuracy: {0}%\".format(recall))\n",
        "print(\"Precision: {0}%\".format(precision))\n",
        "\n",
        "scores = cross_val_score(model, X, Y, scoring=\"accuracy\", cv=cv, n_jobs=-1)\n",
        "print(\"CV Accuracy: %.3f (%.3f)\" % (mean(scores) * 100, std(scores)))\n",
        "metrics[\"KNN\"] = {\n",
        "    \"Accuracy\": score,\n",
        "    \"f1-score\": f1,\n",
        "    \"Recall\": recall,\n",
        "    \"Precision\": precision,\n",
        "    \"CVAccuracy\": mean(scores),\n",
        "}\n",
        "\n",
        "# Save the model to file.\n",
        "joblib.dump(model, path.join(\"models\", \"KNN\"))\n"
      ]
    },
    {
      "cell_type": "markdown",
      "metadata": {
        "id": "htz5P4kSeuKG"
      },
      "source": [
        "RANDOM FOREST\n"
      ]
    },
    {
      "cell_type": "code",
      "execution_count": 67,
      "metadata": {
        "colab": {
          "base_uri": "https://localhost:8080/"
        },
        "id": "kZYni6x1ewPy",
        "outputId": "a457ebe8-b31b-407b-a638-9daeb770aecb"
      },
      "outputs": [
        {
          "name": "stdout",
          "output_type": "stream",
          "text": [
            "              precision    recall  f1-score   support\n",
            "\n",
            "         0.0       0.98      0.97      0.97       929\n",
            "         1.0       0.96      0.97      0.97       718\n",
            "\n",
            "    accuracy                           0.97      1647\n",
            "   macro avg       0.97      0.97      0.97      1647\n",
            "weighted avg       0.97      0.97      0.97      1647\n",
            "\n",
            "Accuracy: 97.02489374620522%\n",
            "f1-score: 96.60899653979239%\n",
            "Accuracy: 97.21448467966573%\n",
            "Precision: 96.01100412654745%\n",
            "CV Accuracy: 81.000 (0.077)\n"
          ]
        }
      ],
      "source": [
        "from sklearn.ensemble import RandomForestClassifier\n",
        "from sklearn.metrics import classification_report\n",
        "\n",
        "model = RandomForestClassifier(random_state=0)\n",
        "model.fit(X_train, Y_train)\n",
        "predictions = model.predict(X_test)\n",
        "\n",
        "print(classification_report(Y_test, predictions))\n",
        "\n",
        "score = model.score(X_test, Y_test) * 100\n",
        "f1 = f1_score(Y_test, predictions) * 100\n",
        "recall = recall_score(Y_test, predictions) * 100\n",
        "precision = precision_score(Y_test, predictions) * 100\n",
        "\n",
        "\n",
        "print(\"Accuracy: {0}%\".format(score))\n",
        "print(\"f1-score: {0}%\".format(f1))\n",
        "print(\"Accuracy: {0}%\".format(recall))\n",
        "print(\"Precision: {0}%\".format(precision))\n",
        "\n",
        "scores = cross_val_score(model, X, Y, scoring=\"accuracy\", cv=cv, n_jobs=-1)\n",
        "print(\"CV Accuracy: %.3f (%.3f)\" % (mean(scores) * 100, std(scores)))\n",
        "metrics[\"RandomForest\"] = {\n",
        "    \"Accuracy\": score,\n",
        "    \"f1-score\": f1,\n",
        "    \"Recall\": recall,\n",
        "    \"Precision\": precision,\n",
        "    \"CVAccuracy\": mean(scores),\n",
        "}\n",
        "\n",
        "# Save the model to file.\n",
        "joblib.dump(model, path.join(\"models\", \"RandomForest\"))\n"
      ]
    },
    {
      "cell_type": "markdown",
      "metadata": {},
      "source": [
        "Feature importance for random forest\n"
      ]
    },
    {
      "cell_type": "code",
      "execution_count": 68,
      "metadata": {
        "colab": {
          "base_uri": "https://localhost:8080/",
          "height": 811
        },
        "id": "PP0ew4aje0fZ",
        "outputId": "6b721aca-9dee-4860-91c7-ae08fb08bfa3"
      },
      "outputs": [
        {
          "name": "stdout",
          "output_type": "stream",
          "text": [
            "Port A           0.098918\n",
            "Port B           0.002766\n",
            "Packets          0.029078\n",
            "Bytes            0.042766\n",
            "Packets A → B    0.027595\n",
            "Bytes A → B      0.137955\n",
            "Packets B → A    0.036253\n",
            "Bytes B → A      0.063161\n",
            "Rel Start        0.047633\n",
            "Duration         0.117926\n",
            "Bits/s A → B     0.240329\n",
            "Bits/s B → A     0.155621\n",
            "dtype: float64\n"
          ]
        },
        {
          "data": {
            "image/png": "[encoded data removed]",
            "text/plain": [
              "<Figure size 432x288 with 1 Axes>"
            ]
          },
          "metadata": {
            "needs_background": "light"
          },
          "output_type": "display_data"
        }
      ],
      "source": [
        "importances = model.feature_importances_\n",
        "std = np.std([tree.feature_importances_ for tree in model.estimators_], axis=0)\n",
        "\n",
        "features = list(df.columns)\n",
        "classifier_importances = pd.Series(importances, index=features)\n",
        "print(classifier_importances)\n",
        "\n",
        "fig, ax = plt.subplots()\n",
        "classifier_importances.plot.bar(yerr=std, ax=ax)\n",
        "ax.set_title(\"Feature importances\")\n",
        "ax.set_ylabel(\"Mean decrease in impurity\")\n",
        "fig.tight_layout(rect=(0, 0, 2, 2))\n",
        "plt.show()\n"
      ]
    },
    {
      "cell_type": "markdown",
      "metadata": {
        "id": "WM-Fn3Oue3z0"
      },
      "source": [
        "ACCURACY\n"
      ]
    },
    {
      "cell_type": "code",
      "execution_count": 69,
      "metadata": {
        "colab": {
          "base_uri": "https://localhost:8080/",
          "height": 735
        },
        "id": "1aBh5tdZe863",
        "outputId": "001f76a7-d869-474c-8415-c1f6c2a4689c"
      },
      "outputs": [
        {
          "name": "stdout",
          "output_type": "stream",
          "text": [
            "LogisticRegression                  79.41712204007287%\n",
            "DecisionTree                        96.66059502125076%\n",
            "GradientBoost                       97.14632665452338%\n",
            "KNN                                 89.73891924711597%\n",
            "RandomForest                        97.02489374620522%\n"
          ]
        },
        {
          "data": {
            "image/png": "[encoded data removed]",
            "text/plain": [
              "<Figure size 720x720 with 1 Axes>"
            ]
          },
          "metadata": {
            "needs_background": "light"
          },
          "output_type": "display_data"
        }
      ],
      "source": [
        "ticks = []\n",
        "accuracy = []\n",
        "models_accuracy = []\n",
        "\n",
        "for k, v in metrics.items():\n",
        "    accuracy.append(v[\"Accuracy\"])\n",
        "    models_accuracy.append(\n",
        "        [k, v[\"Accuracy\"], v[\"f1-score\"], v[\"Recall\"], v[\"Precision\"]]\n",
        "    )\n",
        "    print(\"{0:<35} {1}%\".format(k, v[\"Accuracy\"]))\n",
        "\n",
        "df_acc = pd.DataFrame(models_accuracy)\n",
        "df_acc.columns = [\"Models\", \"Accuracy\", \"f1-score\", \"Recall\", \"Precision\"]\n",
        "\n",
        "plt.figure(figsize=(10, 10))\n",
        "g = sns.barplot(x=\"Models\", y=\"Accuracy\", data=df_acc)\n",
        "for i in range(0, 100):\n",
        "    val = i + 0.01\n",
        "    ticks.append(val)\n",
        "g.set_yticks(ticks)\n",
        "g.set_yticklabels(ticks)\n",
        "\n",
        "plt.title(\"Accuracy on the test set\\n(the Y-Axis is between 40 and 100)\", fontsize=10)\n",
        "plt.ylim(40, 100)\n",
        "for i, p in enumerate(g.patches):\n",
        "    percentage = \"{:.2f}%\".format(accuracy[i])\n",
        "    x = p.get_x() + (p.get_width() / 2)\n",
        "    y = p.get_height() + 0.5\n",
        "    g.annotate(percentage, (x, y), ha=\"center\")\n",
        "\n",
        "plt.show()\n"
      ]
    },
    {
      "cell_type": "code",
      "execution_count": 70,
      "metadata": {
        "colab": {
          "base_uri": "https://localhost:8080/",
          "height": 773
        },
        "id": "tHhtFGDjfA-M",
        "outputId": "b4c9cbe0-00fb-4688-b827-f05a3e771891"
      },
      "outputs": [
        {
          "name": "stdout",
          "output_type": "stream",
          "text": [
            "LogisticRegression                  85.0%\n",
            "DecisionTree                        68.0%\n",
            "GradientBoost                       76.0%\n",
            "KNN                                 87.0%\n",
            "RandomForest                        81.0%\n"
          ]
        },
        {
          "data": {
            "image/png": "[encoded data removed]",
            "text/plain": [
              "<Figure size 720x720 with 1 Axes>"
            ]
          },
          "metadata": {
            "needs_background": "light"
          },
          "output_type": "display_data"
        }
      ],
      "source": [
        "ticks = []\n",
        "cvaccuracy = []\n",
        "models_cvaccuracy = []\n",
        "for k, v in metrics.items():\n",
        "    try:\n",
        "        cvaccuracy.append(v[\"CVAccuracy\"] * 100)\n",
        "        models_cvaccuracy.append([k, v[\"CVAccuracy\"] * 100])\n",
        "        print(\"{0:<35} {1}%\".format(k, v[\"CVAccuracy\"] * 100))\n",
        "\n",
        "    except KeyError:\n",
        "        cvaccuracy.append(10.30)\n",
        "        models_cvaccuracy.append(10.30)\n",
        "        print(\"{0:<35} {1}%\".format(k, 1.03))\n",
        "        continue\n",
        "\n",
        "\n",
        "df_acc2 = pd.DataFrame(models_cvaccuracy)\n",
        "df_acc2.columns = [\"Models\", \"CVAccuracy\"]\n",
        "\n",
        "plt.figure(figsize=(10, 10))\n",
        "g = sns.barplot(x=\"Models\", y=\"CVAccuracy\", data=df_acc2)\n",
        "for i in range(0, 100):\n",
        "    val = i + 0.01\n",
        "    ticks.append(val)\n",
        "g.set_yticks(ticks)\n",
        "g.set_yticklabels(ticks)\n",
        "\n",
        "plt.title(\"Accuracy on the test set\\n(the Y-Axis is between 40 and 100)\", fontsize=10)\n",
        "plt.ylim(40, 100)\n",
        "for i, p in enumerate(g.patches):\n",
        "    percentage = \"{:.2f}%\".format(cvaccuracy[i])\n",
        "    x = p.get_x() + (p.get_width() / 2)\n",
        "    y = p.get_height() + 0.5\n",
        "    g.annotate(percentage, (x, y), ha=\"center\")\n",
        "\n",
        "plt.show()\n"
      ]
    },
    {
      "cell_type": "code",
      "execution_count": 71,
      "metadata": {
        "colab": {
          "base_uri": "https://localhost:8080/",
          "height": 206
        },
        "id": "Cf-6CcBqfEwn",
        "outputId": "d7a40ac8-c41b-4187-ce05-72d356962cbe"
      },
      "outputs": [
        {
          "data": {
            "text/html": [
              "<div>\n",
              "<style scoped>\n",
              "    .dataframe tbody tr th:only-of-type {\n",
              "        vertical-align: middle;\n",
              "    }\n",
              "\n",
              "    .dataframe tbody tr th {\n",
              "        vertical-align: top;\n",
              "    }\n",
              "\n",
              "    .dataframe thead th {\n",
              "        text-align: right;\n",
              "    }\n",
              "</style>\n",
              "<table border=\"1\" class=\"dataframe\">\n",
              "  <thead>\n",
              "    <tr style=\"text-align: right;\">\n",
              "      <th></th>\n",
              "      <th>Models</th>\n",
              "      <th>Accuracy</th>\n",
              "      <th>f1-score</th>\n",
              "      <th>Recall</th>\n",
              "      <th>Precision</th>\n",
              "    </tr>\n",
              "  </thead>\n",
              "  <tbody>\n",
              "    <tr>\n",
              "      <th>0</th>\n",
              "      <td>LogisticRegression</td>\n",
              "      <td>79.417122</td>\n",
              "      <td>72.944932</td>\n",
              "      <td>63.649025</td>\n",
              "      <td>85.420561</td>\n",
              "    </tr>\n",
              "    <tr>\n",
              "      <th>1</th>\n",
              "      <td>DecisionTree</td>\n",
              "      <td>96.660595</td>\n",
              "      <td>96.204279</td>\n",
              "      <td>97.075209</td>\n",
              "      <td>95.348837</td>\n",
              "    </tr>\n",
              "    <tr>\n",
              "      <th>2</th>\n",
              "      <td>GradientBoost</td>\n",
              "      <td>97.146327</td>\n",
              "      <td>96.751900</td>\n",
              "      <td>97.493036</td>\n",
              "      <td>96.021948</td>\n",
              "    </tr>\n",
              "    <tr>\n",
              "      <th>3</th>\n",
              "      <td>KNN</td>\n",
              "      <td>89.738919</td>\n",
              "      <td>88.222997</td>\n",
              "      <td>88.161560</td>\n",
              "      <td>88.284519</td>\n",
              "    </tr>\n",
              "    <tr>\n",
              "      <th>4</th>\n",
              "      <td>RandomForest</td>\n",
              "      <td>97.024894</td>\n",
              "      <td>96.608997</td>\n",
              "      <td>97.214485</td>\n",
              "      <td>96.011004</td>\n",
              "    </tr>\n",
              "  </tbody>\n",
              "</table>\n",
              "</div>"
            ],
            "text/plain": [
              "               Models   Accuracy   f1-score     Recall  Precision\n",
              "0  LogisticRegression  79.417122  72.944932  63.649025  85.420561\n",
              "1        DecisionTree  96.660595  96.204279  97.075209  95.348837\n",
              "2       GradientBoost  97.146327  96.751900  97.493036  96.021948\n",
              "3                 KNN  89.738919  88.222997  88.161560  88.284519\n",
              "4        RandomForest  97.024894  96.608997  97.214485  96.011004"
            ]
          },
          "execution_count": 71,
          "metadata": {},
          "output_type": "execute_result"
        }
      ],
      "source": [
        "df_acc.head()\n"
      ]
    },
    {
      "cell_type": "code",
      "execution_count": 72,
      "metadata": {
        "colab": {
          "base_uri": "https://localhost:8080/",
          "height": 379
        },
        "id": "Ci0pwzacfIPr",
        "outputId": "0094db96-f92a-4e71-c0bc-4ca281a6d9e6"
      },
      "outputs": [
        {
          "data": {
            "text/plain": [
              "<AxesSubplot:xlabel='Models'>"
            ]
          },
          "execution_count": 72,
          "metadata": {},
          "output_type": "execute_result"
        },
        {
          "data": {
            "image/png": "[encoded data removed]",
            "text/plain": [
              "<Figure size 432x288 with 1 Axes>"
            ]
          },
          "metadata": {
            "needs_background": "light"
          },
          "output_type": "display_data"
        }
      ],
      "source": [
        "df_acc.plot(x=\"Models\", y=[\"Accuracy\", \"f1-score\", \"Recall\", \"Precision\"], kind=\"bar\")\n"
      ]
    },
    {
      "cell_type": "markdown",
      "metadata": {
        "id": "Mmlu8_yrfKmW"
      },
      "source": [
        "CNN\n"
      ]
    },
    {
      "cell_type": "code",
      "execution_count": 73,
      "metadata": {
        "id": "YEQYc3LvfMhK"
      },
      "outputs": [],
      "source": [
        "from tensorflow import keras\n",
        "from tensorflow.keras import datasets, layers, models\n",
        "from tensorflow.keras.datasets import mnist\n",
        "from tensorflow.keras.models import Sequential\n",
        "from tensorflow.keras.layers import Conv1D\n",
        "from tensorflow.keras.layers import MaxPool1D\n",
        "from tensorflow.keras.layers import Flatten\n",
        "from tensorflow.keras.layers import Dropout\n",
        "from tensorflow.keras.layers import Dense\n"
      ]
    },
    {
      "cell_type": "code",
      "execution_count": 74,
      "metadata": {
        "id": "xNsgMyfPfPNY"
      },
      "outputs": [],
      "source": [
        "from sklearn.preprocessing import OneHotEncoder\n",
        "\n",
        "ohe = OneHotEncoder()\n",
        "Y1 = np.array(targets).reshape(-1, 1)\n",
        "Y1 = ohe.fit_transform(Y1).toarray()\n"
      ]
    },
    {
      "cell_type": "code",
      "execution_count": 75,
      "metadata": {
        "id": "n6SjaOoHfQyF"
      },
      "outputs": [],
      "source": [
        "X_train, X_test, Y_train, Y_test = train_test_split(\n",
        "    df, Y1, test_size=0.20, random_state=7, shuffle=True\n",
        ")\n"
      ]
    },
    {
      "cell_type": "code",
      "execution_count": 76,
      "metadata": {
        "colab": {
          "base_uri": "https://localhost:8080/",
          "height": 1000
        },
        "id": "6w5eMJxxfSpj",
        "outputId": "c4c85eca-e719-4894-ff13-6cbc20319ac7"
      },
      "outputs": [
        {
          "name": "stdout",
          "output_type": "stream",
          "text": [
            "You must install pydot (`pip install pydot`) and install graphviz (see instructions at https://graphviz.gitlab.io/download/) for plot_model/model_to_dot to work.\n"
          ]
        }
      ],
      "source": [
        "import tensorflow as tf\n",
        "\n",
        "# tf.config.run_functions_eagerly(True)\n",
        "# X_train = X_train\n",
        "# X_train = X_train.values.reshape(-1,1,16)\n",
        "X_train = np.expand_dims(X_train, axis=1)\n",
        "\n",
        "\n",
        "def make_model(input_shape):\n",
        "    # X_test=X_test.reshape(-1,1,16)\n",
        "    # Y_test=Y_test.reshape(-1,2)\n",
        "\n",
        "    input_layer = keras.layers.Input(input_shape)\n",
        "    # X_test=X_test.reshape(-1,1,16)\n",
        "    conv1 = keras.layers.Conv1D(filters=64, kernel_size=3, padding=\"same\")(input_layer)\n",
        "    conv1 = keras.layers.BatchNormalization()(conv1)\n",
        "    conv1 = keras.layers.ReLU()(conv1)\n",
        "\n",
        "    gap = keras.layers.GlobalAveragePooling1D()(conv1)\n",
        "    conv2 = keras.layers.Conv1D(filters=64, kernel_size=3, padding=\"same\")(conv1)\n",
        "    conv2 = keras.layers.BatchNormalization()(conv2)\n",
        "    conv2 = keras.layers.ReLU()(conv2)\n",
        "    gap = keras.layers.GlobalAveragePooling1D()(conv2)\n",
        "    conv3 = keras.layers.Conv1D(filters=64, kernel_size=3, padding=\"same\")(conv2)\n",
        "    conv3 = keras.layers.BatchNormalization()(conv3)\n",
        "    conv3 = keras.layers.ReLU()(conv3)\n",
        "\n",
        "    gap = keras.layers.GlobalAveragePooling1D()(conv3)\n",
        "\n",
        "    output_layer = keras.layers.Dense(2, activation=\"sigmoid\")(gap)\n",
        "\n",
        "    return keras.models.Model(inputs=input_layer, outputs=output_layer)\n",
        "\n",
        "\n",
        "model = make_model(input_shape=X_train.shape[1:])\n",
        "tf.keras.utils.plot_model(model, show_shapes=True)\n"
      ]
    },
    {
      "cell_type": "code",
      "execution_count": 77,
      "metadata": {
        "id": "r7_0gm-_fXFj"
      },
      "outputs": [],
      "source": [
        "from tensorflow.keras.optimizers import SGD\n",
        "\n",
        "opt = SGD(learning_rate=0.01)\n",
        "model.compile(\n",
        "    loss=\"categorical_crossentropy\", optimizer=opt, metrics=[\"binary_accuracy\"]\n",
        ")\n"
      ]
    },
    {
      "cell_type": "code",
      "execution_count": 78,
      "metadata": {
        "id": "RhQ5zudJfZbF"
      },
      "outputs": [],
      "source": [
        "epochs = 100\n",
        "batch_size = 32\n"
      ]
    },
    {
      "cell_type": "code",
      "execution_count": 79,
      "metadata": {
        "id": "jFZo2zMIfbbd"
      },
      "outputs": [],
      "source": [
        "Y_test = np.array(Y_test)\n"
      ]
    },
    {
      "cell_type": "code",
      "execution_count": 80,
      "metadata": {
        "colab": {
          "base_uri": "https://localhost:8080/"
        },
        "id": "hnFd6M-MfdWt",
        "outputId": "79875de1-8a7f-4ba8-c4b6-41014df5c557"
      },
      "outputs": [
        {
          "ename": "ValueError",
          "evalue": "Failed to convert a NumPy array to a Tensor (Unsupported object type float).",
          "output_type": "error",
          "traceback": [
            "\u001b[0;31m---------------------------------------------------------------------------\u001b[0m",
            "\u001b[0;31mValueError\u001b[0m                                Traceback (most recent call last)",
            "\u001b[1;32m/Users/mutnawaz/Desktop/Muteeb/Projects/Paper/quic-flow-classifer/quic-flow-classifier.ipynb Cell 35'\u001b[0m in \u001b[0;36m<module>\u001b[0;34m\u001b[0m\n\u001b[0;32m----> <a href='vscode-notebook-cell:/Users/mutnawaz/Desktop/Muteeb/Projects/Paper/quic-flow-classifer/quic-flow-classifier.ipynb#ch0000037?line=0'>1</a>\u001b[0m history \u001b[39m=\u001b[39m model\u001b[39m.\u001b[39;49mfit(\n\u001b[1;32m      <a href='vscode-notebook-cell:/Users/mutnawaz/Desktop/Muteeb/Projects/Paper/quic-flow-classifer/quic-flow-classifier.ipynb#ch0000037?line=1'>2</a>\u001b[0m     X_train,\n\u001b[1;32m      <a href='vscode-notebook-cell:/Users/mutnawaz/Desktop/Muteeb/Projects/Paper/quic-flow-classifer/quic-flow-classifier.ipynb#ch0000037?line=2'>3</a>\u001b[0m     Y_train,\n\u001b[1;32m      <a href='vscode-notebook-cell:/Users/mutnawaz/Desktop/Muteeb/Projects/Paper/quic-flow-classifer/quic-flow-classifier.ipynb#ch0000037?line=3'>4</a>\u001b[0m     batch_size\u001b[39m=\u001b[39;49mbatch_size,\n\u001b[1;32m      <a href='vscode-notebook-cell:/Users/mutnawaz/Desktop/Muteeb/Projects/Paper/quic-flow-classifer/quic-flow-classifier.ipynb#ch0000037?line=4'>5</a>\u001b[0m     epochs\u001b[39m=\u001b[39;49mepochs,\n\u001b[1;32m      <a href='vscode-notebook-cell:/Users/mutnawaz/Desktop/Muteeb/Projects/Paper/quic-flow-classifer/quic-flow-classifier.ipynb#ch0000037?line=5'>6</a>\u001b[0m     validation_split\u001b[39m=\u001b[39;49m\u001b[39m0.2\u001b[39;49m,\n\u001b[1;32m      <a href='vscode-notebook-cell:/Users/mutnawaz/Desktop/Muteeb/Projects/Paper/quic-flow-classifer/quic-flow-classifier.ipynb#ch0000037?line=6'>7</a>\u001b[0m     verbose\u001b[39m=\u001b[39;49m\u001b[39m1\u001b[39;49m,\n\u001b[1;32m      <a href='vscode-notebook-cell:/Users/mutnawaz/Desktop/Muteeb/Projects/Paper/quic-flow-classifer/quic-flow-classifier.ipynb#ch0000037?line=7'>8</a>\u001b[0m )\n",
            "File \u001b[0;32m~/Desktop/Muteeb/Projects/Paper/quic-flow-classifer/quic/lib/python3.9/site-packages/keras/utils/traceback_utils.py:67\u001b[0m, in \u001b[0;36mfilter_traceback.<locals>.error_handler\u001b[0;34m(*args, **kwargs)\u001b[0m\n\u001b[1;32m     <a href='file:///Users/mutnawaz/Desktop/Muteeb/Projects/Paper/quic-flow-classifer/quic/lib/python3.9/site-packages/keras/utils/traceback_utils.py?line=64'>65</a>\u001b[0m \u001b[39mexcept\u001b[39;00m \u001b[39mException\u001b[39;00m \u001b[39mas\u001b[39;00m e:  \u001b[39m# pylint: disable=broad-except\u001b[39;00m\n\u001b[1;32m     <a href='file:///Users/mutnawaz/Desktop/Muteeb/Projects/Paper/quic-flow-classifer/quic/lib/python3.9/site-packages/keras/utils/traceback_utils.py?line=65'>66</a>\u001b[0m   filtered_tb \u001b[39m=\u001b[39m _process_traceback_frames(e\u001b[39m.\u001b[39m__traceback__)\n\u001b[0;32m---> <a href='file:///Users/mutnawaz/Desktop/Muteeb/Projects/Paper/quic-flow-classifer/quic/lib/python3.9/site-packages/keras/utils/traceback_utils.py?line=66'>67</a>\u001b[0m   \u001b[39mraise\u001b[39;00m e\u001b[39m.\u001b[39mwith_traceback(filtered_tb) \u001b[39mfrom\u001b[39;00m \u001b[39mNone\u001b[39m\n\u001b[1;32m     <a href='file:///Users/mutnawaz/Desktop/Muteeb/Projects/Paper/quic-flow-classifer/quic/lib/python3.9/site-packages/keras/utils/traceback_utils.py?line=67'>68</a>\u001b[0m \u001b[39mfinally\u001b[39;00m:\n\u001b[1;32m     <a href='file:///Users/mutnawaz/Desktop/Muteeb/Projects/Paper/quic-flow-classifer/quic/lib/python3.9/site-packages/keras/utils/traceback_utils.py?line=68'>69</a>\u001b[0m   \u001b[39mdel\u001b[39;00m filtered_tb\n",
            "File \u001b[0;32m~/Desktop/Muteeb/Projects/Paper/quic-flow-classifer/quic/lib/python3.9/site-packages/tensorflow/python/framework/constant_op.py:102\u001b[0m, in \u001b[0;36mconvert_to_eager_tensor\u001b[0;34m(value, ctx, dtype)\u001b[0m\n\u001b[1;32m    <a href='file:///Users/mutnawaz/Desktop/Muteeb/Projects/Paper/quic-flow-classifer/quic/lib/python3.9/site-packages/tensorflow/python/framework/constant_op.py?line=99'>100</a>\u001b[0m     dtype \u001b[39m=\u001b[39m dtypes\u001b[39m.\u001b[39mas_dtype(dtype)\u001b[39m.\u001b[39mas_datatype_enum\n\u001b[1;32m    <a href='file:///Users/mutnawaz/Desktop/Muteeb/Projects/Paper/quic-flow-classifer/quic/lib/python3.9/site-packages/tensorflow/python/framework/constant_op.py?line=100'>101</a>\u001b[0m ctx\u001b[39m.\u001b[39mensure_initialized()\n\u001b[0;32m--> <a href='file:///Users/mutnawaz/Desktop/Muteeb/Projects/Paper/quic-flow-classifer/quic/lib/python3.9/site-packages/tensorflow/python/framework/constant_op.py?line=101'>102</a>\u001b[0m \u001b[39mreturn\u001b[39;00m ops\u001b[39m.\u001b[39;49mEagerTensor(value, ctx\u001b[39m.\u001b[39;49mdevice_name, dtype)\n",
            "\u001b[0;31mValueError\u001b[0m: Failed to convert a NumPy array to a Tensor (Unsupported object type float)."
          ]
        }
      ],
      "source": [
        "history = model.fit(\n",
        "    X_train,\n",
        "    Y_train,\n",
        "    batch_size=batch_size,\n",
        "    epochs=epochs,\n",
        "    validation_split=0.2,\n",
        "    verbose=1,\n",
        ")\n"
      ]
    },
    {
      "cell_type": "code",
      "execution_count": null,
      "metadata": {
        "colab": {
          "base_uri": "https://localhost:8080/",
          "height": 298
        },
        "id": "olcTMiJAffaI",
        "outputId": "b35d0fc5-b4d7-4637-d390-d74f6684ddfe"
      },
      "outputs": [],
      "source": [
        "metric = \"binary_accuracy\"\n",
        "plt.figure()\n",
        "plt.plot(history.history[metric])\n",
        "plt.plot(history.history[\"val_\" + metric])\n",
        "plt.title(\"model \" + metric)\n",
        "plt.ylabel(metric, fontsize=\"large\")\n",
        "plt.xlabel(\"epoch\", fontsize=\"large\")\n",
        "plt.legend([\"train\", \"val\"], loc=\"best\")\n",
        "plt.show()\n",
        "plt.close()\n"
      ]
    },
    {
      "cell_type": "code",
      "execution_count": null,
      "metadata": {
        "id": "ccGvsHfHsSfU"
      },
      "outputs": [],
      "source": [
        "Y_train = to_categorical(trainy)\n",
        "Y_testy = to_categorical(testy)\n"
      ]
    },
    {
      "cell_type": "code",
      "execution_count": null,
      "metadata": {
        "colab": {
          "base_uri": "https://localhost:8080/"
        },
        "id": "Nm8f7NiMpvAe",
        "outputId": "a483c7a4-8782-4c02-e0b3-51b76521cdc8"
      },
      "outputs": [],
      "source": [
        "X_train.shape\n"
      ]
    },
    {
      "cell_type": "code",
      "execution_count": null,
      "metadata": {
        "colab": {
          "base_uri": "https://localhost:8080/"
        },
        "id": "jx2Qf2Ybp7X1",
        "outputId": "fbea9298-b67f-4bc4-f29a-19b38578a976"
      },
      "outputs": [],
      "source": [
        "Y_train.shape\n"
      ]
    },
    {
      "cell_type": "code",
      "execution_count": null,
      "metadata": {
        "id": "vHclWHP7jhph"
      },
      "outputs": [],
      "source": [
        "n_timesteps, n_features, n_outputs = X_train.shape[0], X_train.shape[1], Y_train.shape[1]\n"
      ]
    },
    {
      "cell_type": "code",
      "execution_count": null,
      "metadata": {
        "id": "cqCheBA2D1q3"
      },
      "outputs": [],
      "source": [
        "X_train = X_train.values.reshape(-1, 1, 12)\n"
      ]
    },
    {
      "cell_type": "code",
      "execution_count": null,
      "metadata": {
        "id": "WrJLah4WqNGc"
      },
      "outputs": [],
      "source": [
        "model = Sequential()\n",
        "model.add(Conv1D(filters=64, kernel_size=3, activation=\"relu\", input_shape=(10, 128)))\n",
        "model.add(Conv1D(filters=64, kernel_size=3, activation=\"relu\"))\n",
        "model.add(Dropout(0.5))\n",
        "model.add(MaxPool1D(pool_size=2))\n",
        "model.add(Flatten())\n",
        "model.add(Dense(100, activation=\"relu\"))\n",
        "model.add(Dense(n_outputs, activation=\"softmax\"))\n",
        "model.compile(loss=\"categorical_crossentropy\", optimizer=\"adam\", metrics=[\"accuracy\"])\n"
      ]
    },
    {
      "cell_type": "code",
      "execution_count": null,
      "metadata": {
        "id": "Sc4yM_Qvtwo3"
      },
      "outputs": [],
      "source": [
        "verbose, epochs, batch_size = 0, 10, 32\n"
      ]
    },
    {
      "cell_type": "code",
      "execution_count": null,
      "metadata": {
        "colab": {
          "base_uri": "https://localhost:8080/"
        },
        "id": "q1KrUc9quQEz",
        "outputId": "6b3dcd76-b05e-41f7-e2b0-d145029ea44a"
      },
      "outputs": [],
      "source": [
        "X_train.shape\n"
      ]
    },
    {
      "cell_type": "code",
      "execution_count": null,
      "metadata": {
        "id": "tM1LjjwqxYyB"
      },
      "outputs": [],
      "source": [
        "X_train = X_train.reshape(-1, 1, 12)\n"
      ]
    },
    {
      "cell_type": "code",
      "execution_count": null,
      "metadata": {
        "colab": {
          "base_uri": "https://localhost:8080/",
          "height": 570
        },
        "id": "FrnzzjeGtusH",
        "outputId": "8eded6b6-8807-43aa-88c2-b048cc3e7282"
      },
      "outputs": [],
      "source": [
        "model.fit(X_train, Y_train, epochs=epochs, batch_size=batch_size, verbose=verbose)\n"
      ]
    },
    {
      "cell_type": "code",
      "execution_count": null,
      "metadata": {
        "id": "yW_QadQrjE4W"
      },
      "outputs": [],
      "source": [
        "model2 = Sequential()\n",
        "model2.add(\n",
        "    layers.Conv2D(32, (3, 3), activation=\"relu\", input_shape=(8, 8, 1), padding=\"same\")\n",
        ")\n",
        "model2.add(layers.MaxPooling2D((1, 1), padding=\"same\"))\n",
        "model2.add(layers.Conv2D(64, (3, 3), activation=\"relu\", padding=\"same\"))\n",
        "model2.add(layers.MaxPooling2D((2, 2), padding=\"same\"))\n",
        "model2.add(layers.Conv2D(16, (3, 3), activation=\"softmax\", padding=\"same\"))\n",
        "model2.add(layers.Flatten())\n",
        "model2.add(layers.Dense(64, activation=\"relu\"))\n",
        "model2.add(layers.Dense(2))\n"
      ]
    },
    {
      "cell_type": "code",
      "execution_count": null,
      "metadata": {
        "id": "cdRxU1Ibjlsm"
      },
      "outputs": [],
      "source": [
        "model2.summary()\n"
      ]
    }
  ],
  "metadata": {
    "colab": {
      "name": "QUIC_flow.ipynb",
      "provenance": []
    },
    "kernelspec": {
      "display_name": "Python 3",
      "name": "python3"
    },
    "language_info": {
      "codemirror_mode": {
        "name": "ipython",
        "version": 3
      },
      "file_extension": ".py",
      "mimetype": "text/x-python",
      "name": "python",
      "nbconvert_exporter": "python",
      "pygments_lexer": "ipython3",
      "version": "3.9.10"
    }
  },
  "nbformat": 4,
  "nbformat_minor": 0
}
